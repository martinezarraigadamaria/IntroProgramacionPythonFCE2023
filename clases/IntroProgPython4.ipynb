{
 "cells": [
  {
   "cell_type": "markdown",
   "metadata": {},
   "source": [
    "<h1 align=\"center\">¡Abrir el notebook desde Colab!</h1>\n",
    "<br>\n",
    "\n",
    "<p align=\"center\">\n",
    "<a href=\"https://colab.research.google.com/github/martinezarraigadamaria/IntroProgramacionPythonFCE2023/blob/master/clases/IntroProgPython4.ipynb\" target=\"_parent\"><img src=\"https://colab.research.google.com/assets/colab-badge.svg\" alt=\"Open In Colab\"/></a>\n",
    "</p>"
   ]
  },
  {
   "cell_type": "markdown",
   "metadata": {},
   "source": [
    "# Temario\n",
    "\n",
    "---\n",
    "> Funciones: cómo se definen y cómo se utilizan.\n",
    "\n",
    "> Estructuras de Datos: listas, tuplas, diccionarios, sets.\n",
    "\n",
    "> Operaciones con Estructuras de Datos.\n"
   ]
  },
  {
   "cell_type": "markdown",
   "metadata": {},
   "source": [
    "# Funciones\n",
    "\n",
    "![img](https://drive.google.com/uc?export=view&id=18oc8Y2B5AGUwt4M6kOC8SVs2SY5_geH-)"
   ]
  },
  {
   "cell_type": "markdown",
   "metadata": {},
   "source": [
    "Las **funciones** son un \"*pedazo de código*\" reutilizable que se crean con el objetivo de no repetir las mismas instrucciones dentro de un programa. Es decir, son bloques que nos permiten acortar el código no repitiendo estructuras que necesitamos utilizar varias veces.\n",
    "\n",
    "Una función es un conjunto de instrucciones empaquetadas bajo el mismo nombre. Es como un pequeño programa dentro del programa, una manera de crear nuestras propias instrucciones. Al igual que los programas, las funciones tienen un **input** y un **output**: el input son las variables de entrada y el output el valor o los valores que devuelven.\n",
    "\n",
    "\n",
    "En Python, las funciones se implementan de la siguiente forma:\n",
    "\n",
    "```python\n",
    "def mi_funcion(a , b , c , ...):\n",
    "    \n",
    "    # Hago lo que necesite con las variables a, b, c, ...\n",
    "    # En este caso, creamos las variables x, y, z, ...\n",
    "    \n",
    "    return x , y , z , ...\n",
    "```\n",
    "En este caso, \"*a , b , c , ...*\" son los inputs, mientras que \"*x , y , z , ...*\" son los outputs. Notar que al finalizar con las instrucciones, todo lo que querramos que la función devuelva como output debe estar precedido de la palabra **`return`**.\n",
    "\n",
    "Es importante tener en cuenta que **la definición de la funcion no provoca ninguna acción**, solamente se guardan las instrucciones que se ejecutarán la proxima vez que se escriba el nombre de la función (es decir, cuando se la llame). Para **llamar una función**, utilizaremos el nombre con que fue definida seguido de **`()`**, dentro de los cuales especificaremos los argumentos (inputs).\n",
    "\n",
    "Veamos un ejemplo:"
   ]
  },
  {
   "cell_type": "code",
   "execution_count": null,
   "metadata": {},
   "outputs": [],
   "source": [
    "def suma(a, b):\n",
    "    s = a + b\n",
    "    return s\n",
    "\n",
    "x = int(input(\"Ingrese el primer sumando:\"))\n",
    "y = int(input(\"Ingrese el segundo sumando:\"))\n",
    "z = suma(x, y)\n",
    "print(\"x + y =\", z)"
   ]
  },
  {
   "cell_type": "code",
   "execution_count": null,
   "metadata": {},
   "outputs": [],
   "source": [
    "# Y qué pasará acá?\n",
    "\n",
    "def suma_mal(a, b):\n",
    "    s = a + b\n",
    "    return 3\n",
    "\n",
    "print(suma_mal(4, 6))"
   ]
  },
  {
   "cell_type": "markdown",
   "metadata": {},
   "source": [
    "Como se puede observar, la instrucción **`return`** sirve para indicar el resultado que la función devuelve. Una vez que se alcanza la instrucción **`return`**, la función termina y retorna el valor indicado. \n",
    "\n",
    "Además, también podemos combinar funciones con las estructuras que vimos previamente:"
   ]
  },
  {
   "cell_type": "code",
   "execution_count": null,
   "metadata": {},
   "outputs": [],
   "source": [
    "def chequear_contraseña(c):\n",
    "    if c == \"Secreto\":\n",
    "        resultado = True\n",
    "    else:\n",
    "        resultado = False\n",
    "    return resultado\n",
    "\n",
    "\n",
    "ingresado = input(\"Ingrese contraseña: \")\n",
    "while not chequear_contraseña(ingresado):\n",
    "    ingresado = input(\"Contraseña incorrecta. Ingrese de nuevo:\")\n",
    "else:\n",
    "    print(\"Contraseña correcta.\")"
   ]
  },
  {
   "cell_type": "markdown",
   "metadata": {},
   "source": [
    "Entonces, siempre que querramos que la función devuelva algún valor (o varios), utilizaremos la instrucción **return**. Sin embargo, no siempre es necesario que la función cierre con **return** al final. En este caso, la función va a terminar cuando finalice el bloque *indentado* (con sangría). Por ejemplo:"
   ]
  },
  {
   "cell_type": "code",
   "execution_count": null,
   "metadata": {},
   "outputs": [],
   "source": [
    "def upper_print_x5(nombre):\n",
    "    for i in range(5):\n",
    "        print(nombre.upper())\n",
    "\n",
    "nombre_ingresado = input(\"Ingrese su nombre: \")\n",
    "upper_print_x5(nombre_ingresado)"
   ]
  },
  {
   "cell_type": "markdown",
   "metadata": {},
   "source": [
    "¿Cómo modificarían la función anterior para que imprima el nombre $n$ veces?\n",
    "\n",
    "**Nota**: ¿Se dieron cuenta que la forma que usamos para imprimir una variable es una función? Lo que hace **`print(...)`** es llamar a una función ya creada que está en el estandar de Python y permite mostrar el contendido de lo que se le pase como parametro a la función."
   ]
  },
  {
   "cell_type": "markdown",
   "metadata": {},
   "source": [
    "### Métodos\n",
    "\n",
    "Podemos observar que algunas de las operaciones con *strings* que vimos anteriormente se aplican de una manera diferente a las funciones que usamos hasta ahora. Por ejemplo, para usar **.startswith( )** debemos escribir la instrucción separada por un punto luego de la variable:\n",
    "\n",
    "```python\n",
    "nombre = \"juan\"\n",
    "print( nombre.startswith('j') )\n",
    "```\n",
    "\n",
    "A este tipo de instrucción se la denomina *método* y se utiliza con un punto luego de un objeto. La diferencia entre este y una función es sutil y tiene que ver con que **un método es aplicado *sobre* un elemento**. Tengo un elemento, como puede ser una variable de tipo string, y sobre ese elemento efectúo cierta acción. Los métodos pueden recibir parámetros, como es en el caso anterior la letra a evaluar.\n",
    "\n",
    "Las funciones, por su parte, se utilizan declarándolas por su nombre con un par de `()` al final. En el caso de que la función requiera parámetros, dentro de los `()` incluiremos los argumentos.\n",
    "\n",
    "Python nos provee de muchos métodos distintos para todos los tipos de variables. **Nadie conoce todos**, por lo cual nunca duden en buscar qué métodos existen para ver si hay alguno que resuelva su problema.\n",
    "\n",
    "Esta es una lista de los métodos que existen para strings: https://docs.python.org/3/library/stdtypes.html#string-methods\n"
   ]
  },
  {
   "cell_type": "code",
   "execution_count": null,
   "metadata": {},
   "outputs": [],
   "source": []
  },
  {
   "cell_type": "markdown",
   "metadata": {},
   "source": [
    "# Estructuras de Datos\n",
    "\n",
    "![img](https://drive.google.com/uc?export=view&id=1e702vfKk9rYDPvvXC-Fcj649FznYsn9R)\n",
    "\n",
    "Se suele llamar \"*estructura de datos*\" a algunos tipos de datos más complejos, los cuales nos permiten organizar la información de manera más efectiva, facilitando la modificación, navegación y acceso a la información.\n",
    "\n",
    "Una **estructura de datos** es una **colección de valores, la relación que existe entre estos valores y las operaciones que podemos hacer sobre ellos**. Es decir, se refiere a cómo los datos están organizados y cómo se pueden administrar, el formato en que los valores van a ser almacenados y cómo van a ser accedidos y modificados.\n",
    "\n",
    "Las **estructuras de datos** nos permiten agrupar datos (cada uno de estos con su tipo), e interactuar con ellos de la forma más apropiada. Python tiene incorporadas cuatro estructuras básicas de datos: listas, tuplas, diccionarios y conjuntos (sets). Estas estructuras vienen con métodos por defecto y optimizaciones \"detrás de escena\" que las hacen fáciles de usar. A continuación, las exploraremos con mayor detalle."
   ]
  },
  {
   "cell_type": "markdown",
   "metadata": {},
   "source": [
    "# Listas\n",
    "\n",
    "![img](https://drive.google.com/uc?export=view&id=1_mzJ6kw0ZHJfErCInWMZIZL-NEWabl-e)"
   ]
  },
  {
   "cell_type": "markdown",
   "metadata": {},
   "source": [
    "Una **lista** es una colección de valores que pueden ser de cualquier tipo. Nos permiten almacenar elementos de manera secuencial, que pueden ser accedidos mediante su posición dentro de la lista. Una lista se crea usando corchetes, de la siguiente manera:\n",
    "\n",
    "> a = **[** $a_0, a_1, a_2, \\dots$ **]**\n",
    "\n",
    "Y se pueden asignar a una variable, como cualquier otro tipo de dato. Veamos algunos ejemplos:"
   ]
  },
  {
   "cell_type": "code",
   "execution_count": null,
   "metadata": {},
   "outputs": [],
   "source": [
    "# Creamos una lista con elementos\n",
    "lista_1 = [ 13, 40, 10, 30, 67 ] \n",
    "print(lista_1)\n",
    "\n",
    "# Creamos una lista vacía\n",
    "lista_2 = []\n",
    "print(lista_2)\n",
    "\n",
    "# Creamos una lista vacía\n",
    "lista_3 = list()\n",
    "print(lista_3)"
   ]
  },
  {
   "cell_type": "markdown",
   "metadata": {},
   "source": [
    "Para acceder a un elemento de una lista se utiliza `lista[índice]` de forma similar a como funcionan los *strings*. Además, podemos modificar el elemento asignándole un valor.\n",
    "\n",
    "También al igual que los *strings*, las listas permiten hacer **slicing**, es decir, obtener una sub-lista a partir de valores de comienzo, fin y step indicados entre corchetes y separados por dos puntos."
   ]
  },
  {
   "cell_type": "code",
   "execution_count": null,
   "metadata": {},
   "outputs": [],
   "source": [
    "a = [5, 6, 7, 8]\n",
    "print('a =', a)\n",
    "print('a[0] =', a[0]) \n",
    "\n",
    "a[2] = 0\n",
    "print('a =', a)\n",
    "\n",
    "# Se pueden usar signos negativos para referir los índices desde el final para atras\n",
    "print('a[-1] =', a[-1]) \n",
    "\n",
    "print('a[1:3] =', a[1:3])    # Slicing\n",
    "\n",
    "# Se puede omitir el parametro de inicio para comenzar desde el principio\n",
    "# Se puede omitir el parametro de fin para seguir hasta el final\n",
    "# Se puede usar un salto negativo para recorrer la lista en sentido inverso\n",
    "# Se puede invertir una lista de la siguiente forma\n",
    "print('a[ : :-1] =', a[ : :-1] )"
   ]
  },
  {
   "cell_type": "markdown",
   "metadata": {},
   "source": [
    "Notar que, a diferencia de lo que diría el sentido común, **el primer elemento de una lista se accede con el índice $0$**. Hay que acostumbrarse a esto para evitar resultados no esperados.\n",
    "\n",
    "Además, no es posible ponerle el nombre *list* a una lista, ya que es una palabra reservada. Esta es una función para generar una lista a partir de otro objeto, como un string. Por ejemplo:"
   ]
  },
  {
   "cell_type": "code",
   "execution_count": null,
   "metadata": {},
   "outputs": [],
   "source": [
    "texto = \"Buen día\"\n",
    "texto_en_lista = list(texto)\n",
    "\n",
    "print(texto)\n",
    "print(texto_en_lista)"
   ]
  },
  {
   "cell_type": "code",
   "execution_count": null,
   "metadata": {},
   "outputs": [],
   "source": [
    "# Pasando un string a lista\n",
    "x = 'abcde'\n",
    "print(x)\n",
    "\n",
    "x = list('abcde')\n",
    "print(x)"
   ]
  },
  {
   "cell_type": "markdown",
   "metadata": {},
   "source": [
    "Una forma alternativa de generar una lista es utilizando la instrucción **`for`** dentro de los corchetes de la siguiente manera:\n",
    "\n",
    "> b = **[** x **for** x **in** **range**(N) **]**"
   ]
  },
  {
   "cell_type": "code",
   "execution_count": null,
   "metadata": {},
   "outputs": [],
   "source": [
    "b = [x for x in range(10)]\n",
    "print(b)"
   ]
  },
  {
   "cell_type": "markdown",
   "metadata": {},
   "source": [
    "Y podemos aplicar una operación a la variable x\n",
    "> a = **[** (operacion con x) **for** x **in** **range**(N) **]**"
   ]
  },
  {
   "cell_type": "code",
   "execution_count": null,
   "metadata": {},
   "outputs": [],
   "source": [
    "a = [x for x in range(0, 21)]\n",
    "print(a)\n",
    "\n",
    "b = [x*2 for x in range(15)]\n",
    "print(b)"
   ]
  },
  {
   "cell_type": "markdown",
   "metadata": {},
   "source": [
    "También es posible utilizar un objeto iterable, en lugar de usar `range()`. \n",
    "\n",
    "Saben quiénes son objetos iterables, por ejemplo? Los *strings*!! Y las listas, claro."
   ]
  },
  {
   "cell_type": "code",
   "execution_count": null,
   "metadata": {},
   "outputs": [],
   "source": [
    "c = [3 * letra for letra in \"hola\"]\n",
    "print(c)\n",
    "\n",
    "d = [10 + n for n in [1, 2, 3, 4]]\n",
    "print(d)"
   ]
  },
  {
   "cell_type": "markdown",
   "metadata": {},
   "source": [
    "### Para Pensar\n",
    "\n",
    "**¿Podrán las listas contener listas?**"
   ]
  },
  {
   "cell_type": "code",
   "execution_count": null,
   "metadata": {},
   "outputs": [],
   "source": [
    "lista_1 = ['Hola', 'mundo', '!']\n",
    "lista_2 = [1, 1, 2, 3, 5, 8]\n",
    "\n",
    "lista_de_listas = [lista_1, lista_2]\n",
    "print(lista_de_listas)\n",
    "print(lista_de_listas[0])"
   ]
  },
  {
   "cell_type": "markdown",
   "metadata": {},
   "source": [
    "## Operaciones Sobre una Lista\n",
    "Podemos realizar múltiples operaciones sobre una lista:\n",
    "\n",
    "- **a + b**: Al igual que los strings se agrega el contenido de **b** al final de **a**."
   ]
  },
  {
   "cell_type": "code",
   "execution_count": null,
   "metadata": {},
   "outputs": [],
   "source": [
    "a = [1, 2]\n",
    "b = [3, 4]\n",
    "z = a + b\n",
    "print(z)"
   ]
  },
  {
   "cell_type": "markdown",
   "metadata": {},
   "source": [
    "* **n * lista**: Podemos multiplicar una lista por un número entero, para repetir n veces la lista."
   ]
  },
  {
   "cell_type": "code",
   "execution_count": null,
   "metadata": {},
   "outputs": [],
   "source": [
    "n = 3\n",
    "a = [1, 2]\n",
    "z = n * a\n",
    "print(z)"
   ]
  },
  {
   "cell_type": "markdown",
   "metadata": {},
   "source": [
    "- **len**( $lista$ ) Obtiene el largo de una lista."
   ]
  },
  {
   "cell_type": "code",
   "execution_count": null,
   "metadata": {},
   "outputs": [],
   "source": [
    "a = [1, 2, 3, 4]\n",
    "print(len(a))"
   ]
  },
  {
   "cell_type": "markdown",
   "metadata": {},
   "source": [
    "- **.sort**(): Ordena los elementos de la lista."
   ]
  },
  {
   "cell_type": "code",
   "execution_count": null,
   "metadata": {},
   "outputs": [],
   "source": [
    "a = [\"Hola\", \"Adios\", \"Como esta\", \"Buen día\" ]\n",
    "a.sort()\n",
    "print(a)\n",
    "\n",
    "b = [1, 2, 3, 123, 23, 12]\n",
    "b.sort()\n",
    "print(b)\n",
    "\n",
    "# Es posible hacer un orden inverso indicando reverse=True\n",
    "b.sort(reverse=True)\n",
    "print(b)"
   ]
  },
  {
   "cell_type": "code",
   "execution_count": null,
   "metadata": {},
   "outputs": [],
   "source": [
    "#¿Qué pasará con la siguiente lista?\n",
    "c = ['Hola', 2]\n",
    "c.sort()\n",
    "print(c)"
   ]
  },
  {
   "cell_type": "markdown",
   "metadata": {},
   "source": [
    "Es posible definir una regla de ordenamiento personalizada. Se debe definir una función, la cuál será evaluada en cada elemento de la lista, y el resultado de esta función se usa como criterio de orden. En la función *sort* se debe ingresar como parámetro *key=nombre_de_funcion*."
   ]
  },
  {
   "cell_type": "code",
   "execution_count": null,
   "metadata": {},
   "outputs": [],
   "source": [
    "# En este ejemplo la regla es la longitud del elemento\n",
    "def mi_orden1(e):\n",
    "    return len(e)\n",
    "\n",
    "a = [\"Hola\", \"Adios\", \"Como esta\", \"Buen día\" ]\n",
    "a.sort(key=mi_orden1)\n",
    "print(\"Orden final:\", a)\n",
    "\n",
    "# En este ejemplo se analiza el segundo valor de cada elemento\n",
    "def mi_orden2(e):\n",
    "    return e[1]\n",
    "\n",
    "area = [ [\"Argentina\", 2.78], [\"Brazil\", 8.51], [\"Mexico\", 1.96] ]\n",
    "area.sort(key=mi_orden2)\n",
    "print(\"Orden final:\", area)"
   ]
  },
  {
   "cell_type": "markdown",
   "metadata": {},
   "source": [
    "- **.append**($algo$): Permite agregar un elemento al final de la lista."
   ]
  },
  {
   "cell_type": "code",
   "execution_count": null,
   "metadata": {},
   "outputs": [],
   "source": [
    "mensaje = \"Hola como estas\"\n",
    "v = [50, mensaje, 150.5, True]\n",
    "print(v)\n",
    "\n",
    "# Agrego al final de la lista un elemento que vale 200 (tipo int)\n",
    "v.append(200)      \n",
    "print(v)\n",
    "\n",
    "# Los elementos de la lista no son agregados individualmente\n",
    "# Y la lista se agrega como un elemento en sí misma\n",
    "v.append([\"Uno\", \"Dos\", \"Tres\"]) \n",
    "print(v)"
   ]
  },
  {
   "cell_type": "markdown",
   "metadata": {},
   "source": [
    "- **.extend**($lista$): Permite agregar elementos de una lista al final de otra. Es muy similar a la suma de listas."
   ]
  },
  {
   "cell_type": "code",
   "execution_count": null,
   "metadata": {},
   "outputs": [],
   "source": [
    "v = [1, 2, 3]\n",
    "v.extend([\"Uno\", \"Dos\", \"Tres\"]) \n",
    "print(v)"
   ]
  },
  {
   "cell_type": "markdown",
   "metadata": {},
   "source": [
    "- **.pop**(): Permite remover el ultimo elemento de la lista. Si lo llamamos con un índice, elimina el elemento que se encuentre en ese lugar."
   ]
  },
  {
   "cell_type": "code",
   "execution_count": null,
   "metadata": {},
   "outputs": [],
   "source": [
    "v = [\"Uno\", 2, \"Tres\", 4, \"Cinco\"]\n",
    "v.pop() # Quito el ultimo elemento \n",
    "print(v)\n",
    "v.pop(1) # Quito el elemento en el índice 1\n",
    "print(v)"
   ]
  },
  {
   "cell_type": "markdown",
   "metadata": {},
   "source": [
    "- **.remove**($valor$): Remueve el primer elemento de la lista cuyo valor sea el indicado."
   ]
  },
  {
   "cell_type": "code",
   "execution_count": null,
   "metadata": {},
   "outputs": [],
   "source": [
    "v = [1, 2, 1, 2]\n",
    "v.remove(2) # elimino el primer valor igual a 2\n",
    "print(v)\n",
    "v.remove(2) # elimino el primer valor igual a 2\n",
    "print(v)"
   ]
  },
  {
   "cell_type": "markdown",
   "metadata": {},
   "source": [
    "- **del** $lista$**[*índice*]**: Para eliminar un elemento en una posición determinada."
   ]
  },
  {
   "cell_type": "code",
   "execution_count": null,
   "metadata": {},
   "outputs": [],
   "source": [
    "a = [\"hola\", \"como\", \"estas\"]\n",
    "del a[1]\n",
    "print(a)"
   ]
  },
  {
   "cell_type": "markdown",
   "metadata": {},
   "source": [
    "- $algo$ **in** $lista$: Muchas veces es necesario saber si un elemento esta dentro de una lista, para ello utilizamos esta estructura.\n"
   ]
  },
  {
   "cell_type": "code",
   "execution_count": null,
   "metadata": {},
   "outputs": [],
   "source": [
    "mensaje = 'Qué sueño!'\n",
    "print('o' in mensaje)"
   ]
  },
  {
   "cell_type": "code",
   "execution_count": null,
   "metadata": {},
   "outputs": [],
   "source": [
    "verduleria = ['papa', 'zanahoria', 'batata']\n",
    "\n",
    "print('Hay zuchinni?', 'zuchinni' in verduleria)\n",
    "print('Hay papa?', 'papa' in verduleria)"
   ]
  },
  {
   "cell_type": "code",
   "execution_count": null,
   "metadata": {},
   "outputs": [],
   "source": [
    "x = [1, 2, 3]\n",
    "if 5 in x:\n",
    "    x.remove(5)\n",
    "else:\n",
    "    print(5, 'no esta en la lista')\n",
    "\n",
    "print(x)"
   ]
  },
  {
   "cell_type": "markdown",
   "metadata": {},
   "source": [
    "*   **str.join($lista$)**: operación inversa a **`split`**. Permite unir los elementos de una lista de forma secuencial (concatenar), utilizando como separador el ´str´ indicado. \n",
    "\n"
   ]
  },
  {
   "cell_type": "code",
   "execution_count": null,
   "metadata": {},
   "outputs": [],
   "source": [
    "# Recordando el split\n",
    "almacen = 'locro - pan - vino'\n",
    "print(almacen.split(' - '))"
   ]
  },
  {
   "cell_type": "code",
   "execution_count": null,
   "metadata": {},
   "outputs": [],
   "source": [
    "lista_almacen = ['locro', 'pan', 'vino']\n",
    "\n",
    "print(' - '.join(lista_almacen))"
   ]
  },
  {
   "cell_type": "markdown",
   "metadata": {},
   "source": [
    "### `for` Sobre una Lista\n",
    "Al igual que con strings, la instrucción **`for`** puede ir avanzando sobre todos los elementos de una lista:"
   ]
  },
  {
   "cell_type": "code",
   "execution_count": null,
   "metadata": {},
   "outputs": [],
   "source": [
    "lista = [1, 10, 100, 1000, [5, 6, 7], 5, \"hola\"]\n",
    "\n",
    "for elemento in lista:\n",
    "    print(elemento)"
   ]
  },
  {
   "cell_type": "markdown",
   "metadata": {},
   "source": [
    "Muchas veces es útil tener el índice del elemento. Para esto usamos la instrucción **`enumerate()`** sobre la lista:"
   ]
  },
  {
   "cell_type": "code",
   "execution_count": null,
   "metadata": {},
   "outputs": [],
   "source": [
    "for ind, elemento in enumerate(lista):\n",
    "    print(f\"El indice es {ind} y el elemento {elemento}\")"
   ]
  },
  {
   "cell_type": "markdown",
   "metadata": {},
   "source": [
    "Otras veces es necesario recorrer dos listas al mismo tiempo. Para ello usaremos la instrucción **`zip`** sobre ambas listas:"
   ]
  },
  {
   "cell_type": "code",
   "execution_count": null,
   "metadata": {},
   "outputs": [],
   "source": [
    "titulos = ['Nombre', 'Apellido', 'Edad']\n",
    "valores = ['Martin', 'Sosa', 13]\n",
    "\n",
    "for title, val in zip(titulos, valores):\n",
    "    print(title, val)"
   ]
  },
  {
   "cell_type": "markdown",
   "metadata": {},
   "source": [
    "#### 📚 **Ejercicio 1:** Listas\n",
    "\n",
    "\n",
    "1. Crear una lista con los números pares menores a 50.\n",
    "2. Crear un programa en el cual el usuario ingresa un *string* y dos índices numéricos. El programa debe crear una lista a partir de las letras del string, luego intercambiar dos letras de lugar a partir de los índices indicados por el usuario. Por último debe combinar las letras de la lista nuevamente en un *string* e imprimir el resultado. Si los índices son inválidos, mostrar un mensaje de error.\n",
    "\n",
    " **Tip**: El método [`str.join()`](https://docs.python.org/3/library/stdtypes.html#str.join) les puede ser de gran utilidad.\n",
    "\n",
    "3. Realizar un programa que ordena nombres alfabéticamente. Primero debe pedir al usuario que ingrese el número de nombres que serán ingresados, luego debe pedir al usuario que ingrese un nombre y repetir ese pedido la cantidad de veces indicada. Los nombres se deben ir agregando a una lista. Por último, ordenar la lista alfabéticamente y mostrar en pantalla de a uno por vez los nombres ordenados (usando un **`for`**).\n"
   ]
  },
  {
   "cell_type": "code",
   "execution_count": null,
   "metadata": {},
   "outputs": [],
   "source": []
  },
  {
   "cell_type": "markdown",
   "metadata": {},
   "source": [
    "### Para Pensar 2\n",
    "\n",
    "**¿Cómo podría representarse una matriz utilizando listas?**"
   ]
  },
  {
   "cell_type": "code",
   "execution_count": null,
   "metadata": {},
   "outputs": [],
   "source": [
    "# Esto se puede lograr con listas que contengan listas\n",
    "# Cada elemento de la lista exterior corresponderá a una de las filas de la matriz\n",
    "# En este caso habría que procurar que todas las listas interiores tengan la misma longitud\n",
    "\n",
    "x = [[1,2,3],\n",
    "     [4,5,6],\n",
    "     [7,8,9]]\n",
    "\n",
    "print(x[1][2])"
   ]
  },
  {
   "cell_type": "markdown",
   "metadata": {},
   "source": [
    "## Consideraciones Finales Sobre Listas\n",
    "\n",
    "Es importante observar que **en las listas los elementos se almacenan en un orden bien definido**, es decir, siempre hay un elemento que está antes y otro que está después. Además, dado que cada elemento de la lista es independiente de los restantes, se admite la existencia de elementos repetidos. Esto no será siempre cierto con otras estructuras de datos. \n",
    "\n",
    "Otro detalle es que **es posible crear listas con elementos de cualquier tipo de dato, o bien con cualquier estructura de datos**. De esta forma, se pueden crear listas de listas, o listas de cualquier otra combinación de las estructuras que veremos más adelante.\n",
    "\n",
    "Pueden encontrar más información acerca de los métodos de una lista [acá](https://docs.python.org/3/tutorial/datastructures.html#more-on-lists)."
   ]
  },
  {
   "cell_type": "markdown",
   "metadata": {},
   "source": [
    "# Tuplas\n",
    "\n",
    "Las **tuplas** son similares a las listas, pero a diferencia de ellas se dice que las tuplas son *inmutables*. Esto quiere decir que sus elementos no pueden cambiar una vez definidos. Se pueden crear usando paréntesis, de la siguiente manera:\n",
    "\n",
    "> a = **(** $ a_{0}, a_{1}, a_{2},\\dots $ **)**\n",
    "\n",
    "Los elementos de una tupla también se pueden acceder usando un índice entre corchetes: al igual que las listas, admiten *slicing*.\n",
    "\n",
    "Cuando creamos una función que devuelve más de un elemento separado por comas, estamos utilizando una tupla inadvertidamente. Cuando intercambiamos 2 elementos de una lista también aparecen tuplas. Estas son las principales aplicaciones de tuplas, y para concentrarnos en las principales estructuras de datos no ahondaremos mucho más en este tema."
   ]
  },
  {
   "cell_type": "code",
   "execution_count": null,
   "metadata": {},
   "outputs": [],
   "source": [
    "tupla = (1, 2, 3)\n",
    "print(tupla, tupla[0], tupla[1], tupla[2])\n",
    "#tupla[0] = 10   # Las tuplas no admiten la asignación por índice"
   ]
  },
  {
   "cell_type": "code",
   "execution_count": null,
   "metadata": {},
   "outputs": [],
   "source": [
    "# Para tener en cuenta...\n",
    "\n",
    "def f(x):\n",
    "    return x, 2*x, 3*x\n",
    "\n",
    "print(f(10))\n",
    "x, y, z = f(10)\n",
    "print(x, y, z)"
   ]
  },
  {
   "cell_type": "code",
   "execution_count": null,
   "metadata": {},
   "outputs": [],
   "source": [
    "x, y, z = z, 0, x\n",
    "print(x, y, z)"
   ]
  },
  {
   "cell_type": "markdown",
   "metadata": {},
   "source": [
    "# Diccionarios"
   ]
  },
  {
   "cell_type": "markdown",
   "metadata": {},
   "source": [
    "Un **diccionario** es otra estructura de datos muy útil y muy utilizada cotidianamente. Pensemos en un diccionario físico, que incluye una gran cantidad de información organizada por palabras ordenadas alfabéticamente y contenido asociado a ellas. Lo que nos interesa obtener de un diccionario son las definiciones, y cada palabra es la *llave* que nos ayudará a encontrar esas definiciones.\n",
    "\n",
    "En programación, los diccionarios no son muy distintos. Un **diccionario** en este contexto es una estructura de datos cuya información esta organizada igual que en un diccionario físico. Cada bloque de información, es decir, cada elemento, tiene asociada una palabra. La palabra que se utiliza para encontrar el bloque de información se la suele denominar **key** o **clave**. Mediante la **clave** se puede acceder a dicha informacion, la cual se suele denominar **contenido**. El par **clave,contenido** suele llamarse **elemento**.\n",
    "\n",
    "Es muy importante notar que **no pueden existir dos elementos con igual clave**, estos serían indistinguibles.\n",
    "\n",
    "La **clave** suele ser información con tipo de dato *string* (aunque no necesariamente), mientras que el contenido puede tener cualquier tipo de dato.\n",
    "\n",
    "Los diccionarios se crean utilizando la siguiente estructura:\n",
    "\n",
    "> x = **{**  $k_{0}$ **:** $c_{0}$**,** $k_{1}$ **:** $c_{1}$, $\\dots$**}**\n",
    ">\n",
    "> Noten el \"**:**\" que divide el *key* del *contenido*, y que se usa entre llaves: **{ }**\n",
    "\n",
    "Comencemos por crear un diccionario con la descripción de las palabras:"
   ]
  },
  {
   "cell_type": "code",
   "execution_count": null,
   "metadata": {},
   "outputs": [],
   "source": [
    "d = {\n",
    "    \"trueno\": \"Ruido muy fuerte que sigue al rayo durante una tempestad, producido por la expansión del aire al paso de la descarga eléctrica.\",\n",
    "    \"rayo\": \"Chispa eléctrica de gran intensidad producida por la descarga entre dos nubes o entre una nube y la tierra.\"\n",
    "} \n",
    "\n",
    "a = {} # Diccionario vacío\n",
    "\n",
    "print(d)\n",
    "print(a)\n",
    "print(type(a))"
   ]
  },
  {
   "cell_type": "markdown",
   "metadata": {},
   "source": [
    "Para acceder a los datos de un diccionario se utiliza la misma sintaxis que las listas pero en lugar de un *índice* numérico, utilizando la *clave* a la que queremos acceder."
   ]
  },
  {
   "cell_type": "code",
   "execution_count": null,
   "metadata": {},
   "outputs": [],
   "source": [
    "d = {\n",
    "    \"trueno\": \"Ruido muy fuerte que sigue al rayo durante una tempestad, producido por la expansión del aire al paso de la descarga eléctrica.\",\n",
    "    \"rayo\": \"Chispa eléctrica de gran intensidad producida por la descarga entre dos nubes o entre una nube y la tierra.\"\n",
    "}\n",
    "\n",
    "print('rayo:')\n",
    "print(d['rayo'])"
   ]
  },
  {
   "cell_type": "markdown",
   "metadata": {},
   "source": [
    "Tambien podemos usar los diccionarios para acceder de forma sencilla a datos almacenados. Por ejemplo, para acceder a los estudiantes de una universidad a partir de su número de legajo, creamos una base de datos estructurada de la siguiente manera:\n",
    "\n",
    "> **clave**=Legajo **contenido**=Nombre"
   ]
  },
  {
   "cell_type": "code",
   "execution_count": null,
   "metadata": {},
   "outputs": [],
   "source": [
    "database = {\n",
    "    50001: \"Karen Fernández\",\n",
    "    50002: \"Matías Pérez\",\n",
    "    50003: \"Julieta González\"\n",
    "}\n",
    "print(\"Nombre completo del legajo\", 50002, \": \", database[50002])"
   ]
  },
  {
   "cell_type": "markdown",
   "metadata": {},
   "source": [
    "## Operaciones con Diccionarios\n",
    "- $clave$ **`in`** $diccionario$: Nos permite saber si esa clave se encuentra en el diccionario."
   ]
  },
  {
   "cell_type": "code",
   "execution_count": null,
   "metadata": {},
   "outputs": [],
   "source": [
    "database = {\n",
    "    50001: \"Karen Fernandez\",\n",
    "    50002: \"Matías Perez\",\n",
    "    50003: \"Julieta Gonzalez\"\n",
    "}\n",
    "\n",
    "if 50001 in database:\n",
    "    print(\"la clave 50001 se encuentra en el diccionario\")\n",
    "\n",
    "x = int(input())\n",
    "if x in database:\n",
    "    print(x, 'Esta en el diccionario')"
   ]
  },
  {
   "cell_type": "markdown",
   "metadata": {},
   "source": [
    "- **`for`** $clave$ **`in`** $diccionario$: Nos permite iterar por todas las claves del diccionario."
   ]
  },
  {
   "cell_type": "code",
   "execution_count": null,
   "metadata": {},
   "outputs": [],
   "source": [
    "database = {\n",
    "    50001: \"Karen Fernandez\",\n",
    "    50002: \"Matías Perez\",\n",
    "    50003: \"Julieta Gonzalez\"\n",
    "}\n",
    "\n",
    "for clave in database:\n",
    "    print('La clave', clave, 'tiene asociado el valor', database[clave])"
   ]
  },
  {
   "cell_type": "markdown",
   "metadata": {},
   "source": [
    "- **.items**(): Devuelve la lista de claves y valores almacenadas en el diccionario.\n",
    "\n",
    " Ya que se obtienen 2 datos por elemento, para utilizarlo en un **`for`** tendremos que indicar 2 nombres de variable separados por coma. En este ejemplo la variable *k* tomará el valor de la *key* de cada elemento y la variable *c* tomará el valor de cada *contenido*.\n",
    "\n",
    " Los métodos **`.keys()`** y **`.values()`** nos devuelven listas con las claves y los valores, respectivamente."
   ]
  },
  {
   "cell_type": "code",
   "execution_count": null,
   "metadata": {},
   "outputs": [],
   "source": [
    "database = {\n",
    "    50001: \"Karen Fernandez\",\n",
    "    50002: \"Matías Perez\",\n",
    "    50003: \"Julieta Gonzalez\"\n",
    "}\n",
    "\n",
    "for k, c in database.items():\n",
    "    print(\"key:\", k,\" content: \", c)"
   ]
  },
  {
   "cell_type": "markdown",
   "metadata": {},
   "source": [
    "\n",
    "\n",
    "* diccionario **[** $clave$ **]** = valor: Agrega un nuevo elemento a un diccionario. Si ya existía un valor asociado a esta clave, será reemplazado por el nuevo valor.\n"
   ]
  },
  {
   "cell_type": "code",
   "execution_count": null,
   "metadata": {},
   "outputs": [],
   "source": [
    "x = {\n",
    "    'año': 2021,\n",
    "    'mes': 12\n",
    "}\n",
    "\n",
    "x['dia'] = 24\n",
    "print(x)\n",
    "\n",
    "x['mes'] = 'Diciembre'\n",
    "x['horas'] = 23\n",
    "x['minutos'] = 59\n",
    "print(x)"
   ]
  },
  {
   "cell_type": "markdown",
   "metadata": {},
   "source": [
    "- **.get**( *clave, valor_por_defecto* ): Devuelve el valor asociado a la clave. Si la clave *no* se encuentra el diccionario, devuelve el valor por defecto indicado. Esto es útil cuando no sabemos si una clave existe o no."
   ]
  },
  {
   "cell_type": "code",
   "execution_count": null,
   "metadata": {},
   "outputs": [],
   "source": [
    "texto = \"Lorem ipsum dolor sit amet,\"\n",
    "ocurrencias = {}\n",
    "for letra in texto:\n",
    "  # Suma 1 a las ocurrencias de 'letra', o inicializa el elemento con valor 1\n",
    "  ocurrencias[letra] = ocurrencias.get(letra, 0) + 1\n",
    "\n",
    "# De esta forma podríamos averiguar la cantidad de ocurrencias de cada letra en un texto.\n",
    "print(ocurrencias)"
   ]
  },
  {
   "cell_type": "markdown",
   "metadata": {},
   "source": [
    "#### 📚 **Ejercicio 2:** Diccionarios\n",
    "\n",
    "1. Realizar un programa que pida al usuario un número de legajo y el nombre completo, luego lo guarde en un diccionario. En caso de que el número de legajo ya se encuentre en el diccionario, se debe mostrar un mensaje de advertencia.\n",
    "\n",
    "> Usar dos celdas de código, en una crear el diccionario, y en la otra agregar el nombre y legajo y mostrar el contenido total. La idea es que cuando se ejecute varias veces la segunda celda, se agregue un nuevo nombre y legajo a lo que ya había sido almacenado en el diccionario."
   ]
  },
  {
   "cell_type": "code",
   "execution_count": null,
   "metadata": {},
   "outputs": [],
   "source": [
    "# Celda 1\n",
    "# Ejecutar esta celda 1 vez para crear el diccionario vacío\n",
    "dic = {}\n",
    "print(dic)"
   ]
  },
  {
   "cell_type": "code",
   "execution_count": null,
   "metadata": {},
   "outputs": [],
   "source": [
    "# Celda 2\n",
    "# Ejecutar esta celda cada vez que se quiera agregar un elemento\n",
    "\n"
   ]
  },
  {
   "cell_type": "markdown",
   "metadata": {},
   "source": [
    "## Consideraciones Finales Sobre Diccionarios\n",
    "\n",
    "Es importante ver que un diccionario **tiene un cierto orden**, al igual que las listas. Por otro lado, también aceptan contenidos repetidos **siempre que tengan distintas claves**. Uno de los dilemas más comunes cuando se trabaja con grandes volúmenes de información es qué tomar como clave."
   ]
  },
  {
   "cell_type": "markdown",
   "metadata": {},
   "source": [
    "# Sets (Conjuntos)\n",
    "\n",
    "![img](https://drive.google.com/uc?export=view&id=11LRMODA6CHdUWX9i-2_PpGPqZ2Qdlaci)"
   ]
  },
  {
   "cell_type": "markdown",
   "metadata": {},
   "source": [
    "Un **set** es una estructura de datos más avanzada que las anteriores, la cual nos permite almacenar un grupo de elementos cuyo orden no es relevante. Lo único que tiene importancia cuando utilizamos un **set** es qué elemento está y qué elemento no. \n",
    "\n",
    "Un **set** no admite repetidos, ya que por su funcionamiento interno no tiene la capacidad de determinar si un elemento se encuentra más de una vez, solamente puede saber qué elementos están y qué elementos no.\n",
    "A primera vista parecería que esta estructura es muy limitada, ya que no está ordenada y no acepta repetidos, no obstante este es muy práctica para algunos tipos de operaciones, las cuales serían muy tediosas de  programar en listas o diccionarios.\n",
    "\n",
    "Para crear un **set** se utilizan llaves **{ }** y se colocan elementos separados por comas, su sintaxis es similar a la de las listas.\n"
   ]
  },
  {
   "cell_type": "code",
   "execution_count": null,
   "metadata": {},
   "outputs": [],
   "source": [
    "x = {1, 2, 3, 4, 7, 7, 7, 7, 7, 7}\n",
    "print(\"Set x =\", x)"
   ]
  },
  {
   "cell_type": "markdown",
   "metadata": {},
   "source": [
    "### Operaciones con Sets\n",
    "- **|** : Es la operacion de $A \\cup B$ llamada \"*unión*\"."
   ]
  },
  {
   "cell_type": "code",
   "execution_count": null,
   "metadata": {},
   "outputs": [],
   "source": [
    "x = {1, 2, 3, 4, 7, 7, 7, 7, 7, 7}\n",
    "y = {1, 2, 10}\n",
    "z = {15, 20}\n",
    "\n",
    "k = x | y | z\n",
    "print(k)"
   ]
  },
  {
   "cell_type": "markdown",
   "metadata": {},
   "source": [
    "\n",
    "-  **&**: Es la operacion de $A \\cap B$ llamada \"*intersección*\"."
   ]
  },
  {
   "cell_type": "code",
   "execution_count": null,
   "metadata": {},
   "outputs": [],
   "source": [
    "x = {1, 2, 3, 4, 7, 7, 7, 7, 7, 7}\n",
    "y = {1, 2, 10}\n",
    "w = x & y\n",
    "print(w)"
   ]
  },
  {
   "cell_type": "markdown",
   "metadata": {},
   "source": [
    "- **A-B**: Todo elemento de A que también se encuentre en B, será quitado de A. El equivalente logico es $ A\\cap \\neg B$."
   ]
  },
  {
   "cell_type": "code",
   "execution_count": null,
   "metadata": {},
   "outputs": [],
   "source": [
    "x = {1, 2, 3, 4, 7, 7, 7, 7, 7, 7}\n",
    "y = {1, 2, 10}\n",
    "z = x - y\n",
    "print(z)\n",
    "print(y - x)"
   ]
  },
  {
   "cell_type": "markdown",
   "metadata": {},
   "source": [
    "- **.remove**($valor$): Remueve el valor del set."
   ]
  },
  {
   "cell_type": "code",
   "execution_count": null,
   "metadata": {},
   "outputs": [],
   "source": [
    "x = {1, 2, 3, 4, 7}\n",
    "x.remove(1)\n",
    "print(x)"
   ]
  },
  {
   "cell_type": "markdown",
   "metadata": {},
   "source": [
    "- **.add**($valor$): Agrega el valor al set."
   ]
  },
  {
   "cell_type": "code",
   "execution_count": null,
   "metadata": {},
   "outputs": [],
   "source": [
    "x = {1, 2, 3, 4, 7}\n",
    "x.add(\"hola\")\n",
    "print(x)"
   ]
  },
  {
   "cell_type": "markdown",
   "metadata": {},
   "source": [
    "- **len**($set$) Obtiene el tamaño de un set."
   ]
  },
  {
   "cell_type": "code",
   "execution_count": null,
   "metadata": {},
   "outputs": [],
   "source": [
    "conjunto = {1, 2, 1, 3, 1, 6}\n",
    "print(conjunto)\n",
    "print(len(conjunto))"
   ]
  },
  {
   "cell_type": "markdown",
   "metadata": {},
   "source": [
    "#### 📚 **Ejercicio 3:** Sets\n",
    "\n",
    "1. Se cuentan con varios sets que contienen las personas que les gusta un cierto sabor de helado:\n",
    "\n",
    "```python\n",
    "vainilla = {\"Juan\", \"Marina\", \"Tomas\", \"Paula\"}\n",
    "chocolate = {\"Pedro\", \"Paula\", \"Marina\"}\n",
    "dulceDeLeche = {\"Juan\", \"Julian\", \"Pedro\", \"Marina\"}\n",
    "```\n",
    "\n",
    "> Responder usando operaciones de sets:\n",
    "\n",
    "- Hay alguna persona a la que le gusten todos los gustos?\n",
    "\n",
    "- Hay alguna persona a la que le gusten la vainilla y no el dulce de leche?\n",
    "\n",
    "- Cuántas personas distintas tenemos?"
   ]
  },
  {
   "cell_type": "markdown",
   "metadata": {},
   "source": [
    "# 📚 Ejercicios Integradores"
   ]
  },
  {
   "cell_type": "markdown",
   "metadata": {},
   "source": [
    "## 1. Elecciones Presidenciales\n",
    "Realizar un programa en el cual se decida cual es el ganador de una **elección a presidente**. En el diccionario `candidatos` la **clave** es el nombre del candidato y el contenido (**valor**) la cantidad de votos.\n",
    "\n",
    "**TIP**: Usen `for`, `if` y variables auxiliares.\n",
    "\n",
    "Además, si el padrón electoral era de 5000000 de personas, ¿qué porcentaje del padrón emitió su voto?\n",
    "\n",
    "*Challenge*: Hacer que el programa anterior indique si debe haber **[ballotage](https://es.wikipedia.org/wiki/Segunda_vuelta_electoral)** (es decir, si el ganador obtuvo menos del 50%+1 de los votos). "
   ]
  },
  {
   "cell_type": "code",
   "execution_count": null,
   "metadata": {},
   "outputs": [],
   "source": [
    "candidatos = {\n",
    "    \"Gustavo Cerati\": 334453,\n",
    "    \"Mercedes Sosa\": 18445,\n",
    "    \"Carlos Indio Solari\": 1434444,\n",
    "    \"Fabiana Cantilo\": 312332,\n",
    "    \"Gustavo Cordera\": 5543,\n",
    "    \"Ricardo Mollo\": 1343343,\n",
    "    \"Gustavo Napoli\": 1232322,\n",
    "}\n",
    "\n",
    "for nombre, votos in candidatos.items():\n",
    "    print(nombre, \":\", votos)"
   ]
  },
  {
   "cell_type": "markdown",
   "metadata": {},
   "source": [
    "## 2. Análisis Estadístico de Fallas en Lotes de Producción\n",
    "\n",
    "Una planta de producción de botellas plásticas fabrica 1000 lotes de botellas por día. Debido al proceso de fabricación algunas de las botellas salen falladas, estos fallos son detectados automáticamente durante el proceso de control de calidad y se cargan en una base de datos que registra la cantidad de productos fallados que fueron detectados por cada lote. El departamento de control de calidad sospecha que la cantidad de fallos por lote sigue una distribución de *Poisson*, pero todavía no conocen la media y la varianza.\n",
    "\n",
    "La siguiente lista se obtuvo de la base de datos que contiene las fallas por lote y corresponde al recuento de fallas de los lotes del último día de operación:"
   ]
  },
  {
   "cell_type": "code",
   "execution_count": null,
   "metadata": {},
   "outputs": [],
   "source": [
    "fallas = [\n",
    "6, 3, 4, 6, 3, 4, 7, 3, 3, 7, 3, 4, 2, 5, 2, 3, 6, 7, 2, 4, 4, 4, 5, 2, 12, 5, 7, 4, 6, 1, 4, 6,\n",
    "7, 6, 2, 4, 8, 3, 1, 5, 5, 2, 5, 4, 6, 9, 3, 5, 4, 4, 1, 4, 10, 1, 2, 3, 8, 3, 5, 8, 3, 7, 5, 3,\n",
    "2, 4, 1, 0, 3, 3, 1, 1, 4, 1, 4, 3, 4, 4, 3, 3, 2, 5, 3, 8, 2, 1, 7, 5, 3, 4, 9, 8, 5, 2, 4, 4,\n",
    "5, 4, 3, 5, 4, 5, 3, 2, 3, 3, 5, 6, 2, 3, 0, 3, 7, 6, 2, 3, 4, 8, 1, 0, 3, 5, 3, 3, 3, 3, 2, 7,\n",
    "4, 4, 6, 6, 4, 4, 5, 5, 4, 5, 3, 2, 3, 7, 4, 9, 5, 3, 5, 2, 2, 5, 5, 7, 5, 3, 2, 5, 6, 6, 2, 6,\n",
    "2, 4, 3, 4, 3, 9, 4, 2, 3, 3, 3, 6, 5, 6, 3, 3, 2, 6, 4, 2, 5, 0, 3, 2, 4, 2, 5, 6, 6, 5, 7, 5,\n",
    "4, 4, 2, 7, 4, 3, 5, 2, 3, 3, 4, 5, 6, 6, 2, 5, 2, 5, 5, 6, 3, 3, 7, 2, 4, 2, 8, 5, 3, 4, 10, 7,\n",
    "2, 6, 7, 4, 3, 2, 3, 9, 4, 2, 5, 4, 3, 5, 6, 3, 4, 6, 2, 6, 5, 9, 2, 5, 4, 6, 5, 3, 5, 3, 3, 7,\n",
    "6, 4, 3, 6, 3, 3, 6, 5, 5, 2, 3, 5, 1, 4, 6, 5, 4, 2, 3, 8, 6, 3, 3, 7, 2, 5, 3, 6, 1, 5, 8, 6,\n",
    "1, 3, 7, 3, 9, 3, 3, 6, 3, 2, 5, 3, 4, 6, 5, 5, 5, 1, 2, 1, 5, 3, 4, 3, 8, 2, 8, 7, 0, 1, 1, 1,\n",
    "3, 4, 3, 3, 2, 5, 5, 4, 7, 3, 4, 4, 3, 5, 3, 5, 3, 8, 2, 7, 3, 3, 3, 3, 7, 6, 4, 3, 4, 7, 3, 5,\n",
    "4, 2, 3, 5, 6, 4, 2, 3, 4, 4, 4, 4, 5, 3, 1, 10, 2, 5, 3, 4, 7, 9, 8, 4, 4, 5, 2, 2, 2, 3, 2, 7,\n",
    "6, 4, 4, 6, 3, 2, 4, 3, 3, 7, 9, 1, 1, 2, 7, 5, 4, 3, 5, 4, 2, 5, 3, 8, 6, 2, 2, 2, 5, 3, 3, 4,\n",
    "4, 5, 2, 3, 3, 5, 2, 2, 4, 7, 4, 4, 5, 5, 4, 1, 5, 4, 3, 2, 2, 3, 4, 1, 9, 2, 7, 4, 3, 4, 7, 5,\n",
    "2, 5, 5, 4, 2, 4, 5, 4, 5, 7, 4, 3, 4, 7, 4, 1, 3, 4, 3, 6, 6, 2, 10, 6, 6, 5, 1, 6, 8, 7, 4, 7,\n",
    "6, 2, 3, 3, 1, 5, 10, 7, 5, 3, 6, 7, 7, 5, 2, 0, 2, 7, 2, 4, 6, 3, 5, 1, 1, 6, 4, 7, 6, 7, 5, 2,\n",
    "0, 2, 5, 3, 3, 6, 2, 2, 5, 4, 4, 6, 8, 6, 6, 1, 0, 6, 3, 3, 5, 6, 4, 4, 2, 6, 5, 6, 4, 5, 4, 2,\n",
    "5, 6, 3, 4, 4, 7, 3, 6, 1, 1, 2, 5, 6, 3, 2, 4, 4, 3, 5, 5, 4, 8, 6, 7, 4, 6, 4, 3, 3, 4, 1, 5,\n",
    "4, 3, 7, 3, 6, 5, 3, 3, 7, 2, 4, 5, 8, 6, 4, 7, 3, 3, 0, 1, 2, 2, 2, 3, 6, 2, 4, 5, 5, 7, 3, 3,\n",
    "6, 0, 9, 3, 4, 3, 4, 5, 2, 3, 4, 5, 7, 6, 2, 3, 3, 4, 1, 9, 5, 6, 5, 4, 1, 6, 2, 6, 7, 3, 1, 4,\n",
    "4, 1, 2, 5, 9, 11, 0, 2, 4, 6, 4, 3, 3, 4, 3, 3, 4, 3, 4, 4, 1, 3, 3, 4, 4, 8, 1, 2, 2, 2, 5, 6,\n",
    "1, 6, 6, 3, 9, 4, 7, 3, 1, 3, 2, 7, 5, 2, 2, 2, 2, 4, 1, 4, 7, 5, 2, 1, 4, 4, 3, 2, 2, 5, 2, 6,\n",
    "3, 4, 5, 9, 4, 5, 5, 9, 4, 5, 8, 6, 4, 4, 8, 6, 1, 4, 4, 1, 7, 7, 4, 2, 3, 1, 5, 4, 4, 6, 5, 5,\n",
    "7, 3, 3, 3, 2, 5, 1, 2, 3, 1, 3, 7, 4, 4, 4, 2, 9, 5, 6, 3, 5, 2, 3, 8, 4, 9, 4, 5, 3, 3, 5, 1,\n",
    "7, 7, 3, 7, 7, 3, 2, 4, 3, 7, 2, 8, 2, 5, 1, 5, 6, 3, 2, 3, 6, 2, 4, 6, 2, 6, 2, 10, 1, 5, 3, 4,\n",
    "4, 6, 2, 8, 0, 5, 4, 1, 4, 5, 7, 4, 9, 3, 5, 3, 2, 6, 5, 3, 7, 6, 2, 6, 4, 6, 5, 3, 7, 4, 5, 6,\n",
    "5, 3, 5, 8, 9, 2, 6, 1, 3, 4, 3, 3, 6, 4, 0, 5, 5, 1, 5, 3, 7, 5, 6, 7, 3, 3, 8, 2, 4, 4, 4, 5,\n",
    "4, 3, 2, 3, 9, 6, 0, 6, 5, 0, 4, 3, 4, 5, 5, 6, 6, 4, 6, 1, 2, 4, 6, 3, 8, 2, 5, 6, 8, 5, 4, 3,\n",
    "9, 3, 8, 4, 6, 8, 3, 3, 4, 7, 4, 3, 6, 3, 7, 5, 1, 6, 4, 3, 2, 4, 6, 2, 2, 4, 1, 3, 3, 3, 2, 2,\n",
    "3, 6, 2, 2, 3, 1, 2, 7, 1, 3, 2, 5, 8, 5, 4, 9, 9, 3, 4, 2, 5, 4, 7, 4, 2, 4, 3, 9, 9, 5, 4, 4,\n",
    "4, 4, 2, 7, 3, 6, 7, 3, 4, 4, 9, 5, 7, 6, 5, 4, 1, 4, 2, 2, 8, 5, 4, 4, 3, 6, 3, 4, 3, 2, 3, 4,\n",
    "3, 4, 2, 3, 6, 1, 2, 2,]"
   ]
  },
  {
   "cell_type": "markdown",
   "metadata": {},
   "source": [
    "A partir de estos datos, calcular la *media*, la *varianza*, la *moda* y la *mediana* de la distribución de datos medidos (sin utilizar librerías de estadística).\n",
    "\n",
    "**Definiciones:**\n",
    "- **Media:** El valor promedio:\n",
    "\n",
    "  $\\mu=\\frac{X_1+X_2+X_3+\\cdots+X_n}{n}$\n",
    "\n",
    "- **Varianza:** El promedio de las distancias al cuadrado entre cada valor y la media:\n",
    "\n",
    "  $\\sigma^2=\\frac{(X_1-\\mu)^2+(X_2-\\mu)^2+\\cdots+(X_n-\\mu)^2}{n}$\n",
    "\n",
    "- **Moda:** El valor que ocurre con mayor frecuencia.\n",
    "\n",
    "- **Mediana:** El valor que cumple la propiedad que la mitad de las veces el valor medido es menor a la mediana y la otra mitad de las veces es mayor.\n",
    "\n",
    "Si las sospechas acerca de la distribución fueran correctas, entonces de acuerdo a las propiedades de la distribución de Poisson la media y la varianza deberían ser iguales, además la moda sería $\\lceil{\\mu}\\rceil-1$\n",
    "¿Esta sospecha les parece acertada?\n",
    "\n",
    "*Nota: Usando las librerías numpy y scipy se pueden realizar todo tipo de análisis de estadística sin tener que programar todo a mano! Este es sólo un ejercicio para practicar la manipulación de datos.*"
   ]
  },
  {
   "cell_type": "code",
   "execution_count": null,
   "metadata": {},
   "outputs": [],
   "source": []
  }
 ],
 "metadata": {
  "kernelspec": {
   "display_name": "Python 3 (ipykernel)",
   "language": "python",
   "name": "python3"
  },
  "language_info": {
   "codemirror_mode": {
    "name": "ipython",
    "version": 3
   },
   "file_extension": ".py",
   "mimetype": "text/x-python",
   "name": "python",
   "nbconvert_exporter": "python",
   "pygments_lexer": "ipython3",
   "version": "3.7.6"
  }
 },
 "nbformat": 4,
 "nbformat_minor": 4
}
