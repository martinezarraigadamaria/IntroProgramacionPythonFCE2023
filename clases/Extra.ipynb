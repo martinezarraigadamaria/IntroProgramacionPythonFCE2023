{
 "cells": [
  {
   "cell_type": "markdown",
   "metadata": {},
   "source": [
    "<h1 align=\"center\">¡Abrir el notebook desde Colab!</h1>\n",
    "<br>\n",
    "<p align=\"center\">\n",
    "<a align=\"center\" href=\"https://colab.research.google.com/github/martinezarraigadamaria/IntroProgramacionPythonFCE2023/blob/master/clases/Extra.ipynb\" target=\"_parent\"><img src=\"https://colab.research.google.com/assets/colab-badge.svg\" alt=\"Open In Colab\"/></a>\n",
    "</p>    "
   ]
  },
  {
   "cell_type": "markdown",
   "metadata": {},
   "source": [
    "# Material Extra\n",
    "\n",
    "---\n",
    "> Utilización de librerías para Data Science: numpy, pandas.\n",
    "\n",
    "> Elementos gráficos: matplotlib y seaborn."
   ]
  },
  {
   "cell_type": "markdown",
   "metadata": {},
   "source": [
    "# Manipulando Datos con Pandas\n",
    "\n",
    "<img align=\"middle\" src=\"https://upload.wikimedia.org/wikipedia/commons/e/ed/Pandas_logo.svg\" alt=\"crispdm\" width=\"300\"/>\n",
    "\n",
    "El conjunto de datos utilizado contiene información de referencia y de rendimiento de préstamos para 5,960 préstamos. El objetivo (BAD) es una variable binaria que indica si un solicitante finalmente incurrió en incumplimiento o en grave mora en alguna entidad bancaria. Y por muestreo rápido. \n",
    "\n",
    "Los datos son los siguientes:\n",
    "\n",
    "- BAD: 1 = candidato con préstamo incumplido o con mora; 0 = candidato que paga su deuda y no tiene registro negativo\n",
    "\n",
    "- LOAN: Monto de solicitud de préstamo\n",
    "\n",
    "- MORTDUE: Monto adeudado de la hipoteca existente\n",
    "\n",
    "- VALUE: Valor actual del bien o propiedad\n",
    "\n",
    "- REASON: DebtCon = consolidación de la deuda; HomeImp = mejoras para el hogar\n",
    "\n",
    "- JOB: Categorias ocupacionales o profesionales\n",
    "\n",
    "- YOJ: Años en su trabajo actual\n",
    "\n",
    "- DEROG: Número de informes derogados o cancelados importantes\n",
    "\n",
    "- DELINQ: Número de lineas de crédito morosas\n",
    "\n",
    "- CLAGE: Antiguedad de la linea de crédito más antigua en meses\n",
    "\n",
    "- NINQ: Número de consultas crediticas recientes\n",
    "\n",
    "- CLNO: Número de líneas de crédito\n",
    "\n",
    "- DEBTINC: -"
   ]
  },
  {
   "cell_type": "markdown",
   "metadata": {},
   "source": [
    "Antes que nada, lo primero que tenemos que hacer para poder utilizar Pandas es importar la librería en nuestro código.\n"
   ]
  },
  {
   "cell_type": "code",
   "execution_count": null,
   "metadata": {},
   "outputs": [],
   "source": [
    "# Importaciones pertinentes \n",
    "import pandas as pd"
   ]
  },
  {
   "cell_type": "markdown",
   "metadata": {},
   "source": [
    "## Lectura de Datos\n",
    "\n",
    "Vamos a traer los datos que necesitamos para trabajar, mediante la lectura del archivo CSV:\n",
    "\n",
    "* hmeq\n",
    "\n",
    "\n",
    "Para ello podemos utilizar la función [**`read_csv()`**](https://pandas.pydata.org/docs/reference/api/pandas.read_csv.html). \n",
    "Veamos qué resulta:"
   ]
  },
  {
   "cell_type": "code",
   "execution_count": null,
   "metadata": {},
   "outputs": [],
   "source": [
    "# Cargar un archivo\n",
    "url = \"https://raw.githubusercontent.com/martinezarraigadamaria/IntroProgramacionPythonFCE2023/main/datos/hmeq.csv\"\n",
    "df = pd.read_csv(url)"
   ]
  },
  {
   "cell_type": "code",
   "execution_count": null,
   "metadata": {},
   "outputs": [],
   "source": [
    "df"
   ]
  },
  {
   "cell_type": "code",
   "execution_count": null,
   "metadata": {},
   "outputs": [],
   "source": [
    "# Cargar un archivo desde google drive\n",
    "\n",
    "#from pydrive.auth import GoogleAuth\n",
    "#from pydrive.drive import GoogleDrive\n",
    "#from google.colab import auth\n",
    "#from oauth2client.client import GoogleCredentials\n",
    "\n",
    "#auth.authenticate_user()\n",
    "#gauth = GoogleAuth()\n",
    "#gauth.credentials = GoogleCredentials.get_application_default()\n",
    "#drive = GoogleDrive(gauth)\n",
    "\n",
    "#fileDownloaded = drive.CreateFile({'id':'1tTfExujk3q0-X6p3QBwNKygDdjXmiQyZ'})\n",
    "#fileDownloaded.GetContentFile('hmeq.csv')"
   ]
  },
  {
   "cell_type": "markdown",
   "metadata": {},
   "source": [
    "## Exploración de **`DataFrames`**"
   ]
  },
  {
   "cell_type": "code",
   "execution_count": null,
   "metadata": {},
   "outputs": [],
   "source": [
    "# Ver primeras filas (por defecto mostrará las primeras 5 filas, usando .head(n) veremos las primeras n filas)\n",
    "df.head()"
   ]
  },
  {
   "cell_type": "code",
   "execution_count": null,
   "metadata": {},
   "outputs": [],
   "source": [
    "# Ver últimas filas\n",
    "df.tail()"
   ]
  },
  {
   "cell_type": "code",
   "execution_count": null,
   "metadata": {},
   "outputs": [],
   "source": [
    "# Obtener una muestra aleatoria\n",
    "df.sample(5)"
   ]
  },
  {
   "cell_type": "code",
   "execution_count": null,
   "metadata": {},
   "outputs": [],
   "source": [
    "# Obtener una muestra aleatoria con una semilla fija\n",
    "df.sample(5, random_state=123)"
   ]
  },
  {
   "cell_type": "code",
   "execution_count": null,
   "metadata": {},
   "outputs": [],
   "source": [
    "# ¿Qué tipo de objeto es?\n",
    "print('Mis datos:',type(df))"
   ]
  },
  {
   "cell_type": "markdown",
   "metadata": {},
   "source": [
    "En el caso de Pandas tenemos que cada columna de un **DataFrame** tendrá un tipo asociado."
   ]
  },
  {
   "cell_type": "code",
   "execution_count": null,
   "metadata": {},
   "outputs": [],
   "source": [
    "# ¿Qué contiene este objeto?\n",
    "df.dtypes"
   ]
  },
  {
   "cell_type": "markdown",
   "metadata": {},
   "source": [
    "Al tipo de dato **`object`** lo podemos interpretar como un string."
   ]
  },
  {
   "cell_type": "markdown",
   "metadata": {},
   "source": [
    "Una propiedad muy importante de los **DataFrames** es que están compuestos por filas y columnas, como una tabla de doble entrada. Estos elementos constituyen ***atributos*** de los mismos y se denominan ***índice*** y ***columnas***."
   ]
  },
  {
   "cell_type": "code",
   "execution_count": null,
   "metadata": {},
   "outputs": [],
   "source": [
    "print(df.index)"
   ]
  },
  {
   "cell_type": "markdown",
   "metadata": {},
   "source": [
    "## Selección de Columnas de un **`DataFrame`**"
   ]
  },
  {
   "cell_type": "code",
   "execution_count": null,
   "metadata": {},
   "outputs": [],
   "source": [
    "print(df.columns)"
   ]
  },
  {
   "cell_type": "markdown",
   "metadata": {},
   "source": [
    "Para seleccionar una columna, lo que hacemos es utilizar un par de **`[]`** luego del nombre del DataFrame y dentro de estos le pasamos entre comillas (dobles o simples) el nombre de la columna indicada. Por ejemplo:"
   ]
  },
  {
   "cell_type": "code",
   "execution_count": null,
   "metadata": {},
   "outputs": [],
   "source": [
    "# Seleccionar columnas por nombre\n",
    "df['JOB']"
   ]
  },
  {
   "cell_type": "code",
   "execution_count": null,
   "metadata": {},
   "outputs": [],
   "source": [
    "# Seleccionar columnas por indice\n",
    "df[df.columns[1]]"
   ]
  },
  {
   "cell_type": "markdown",
   "metadata": {},
   "source": [
    "## Selección de Filas de un **`DataFrame`**\n",
    "\n",
    "Veamos cómo podemos hacer para filtrar filas en un DataFrame. "
   ]
  },
  {
   "cell_type": "code",
   "execution_count": null,
   "metadata": {},
   "outputs": [],
   "source": [
    "# Seleccionar filas por índice\n",
    "df.iloc[0]"
   ]
  },
  {
   "cell_type": "code",
   "execution_count": null,
   "metadata": {},
   "outputs": [],
   "source": [
    "# Seleccionar filas por condición\n",
    "nombre_columna = \"BAD\"\n",
    "condicion = 0\n",
    "df[nombre_columna]==condicion"
   ]
  },
  {
   "cell_type": "markdown",
   "metadata": {},
   "source": [
    "La comparación anterior nos devuelve una columna llena de valores ***booleanos***. Sabemos que como tipo **`int`**, **`False`** representa el **`0`** y **`True`** el **`1`**. ¿Podremos hacer la suma a lo largo del ***índice*** de esta ***serie***?\n",
    "\n",
    "En Pandas, existe el método **`.sum()`**, que puede aplicarse a DataFrames y Series."
   ]
  },
  {
   "cell_type": "code",
   "execution_count": null,
   "metadata": {},
   "outputs": [],
   "source": [
    "(df[nombre_columna]==condicion).sum()"
   ]
  },
  {
   "cell_type": "code",
   "execution_count": null,
   "metadata": {},
   "outputs": [],
   "source": [
    "# Cuántas filas y columnas tienen?\n",
    "print(df.shape) "
   ]
  },
  {
   "cell_type": "code",
   "execution_count": null,
   "metadata": {},
   "outputs": [],
   "source": [
    "# Ver cantidad de valores únicos en una columnas\n",
    "nombre_columna = \"BAD\"\n",
    "print(\"Cantidad de valores únicos: \", df[nombre_columna].nunique())\n",
    "print(\"¿Cuáles son esos valores únicos?\", df[nombre_columna].unique())"
   ]
  },
  {
   "cell_type": "code",
   "execution_count": null,
   "metadata": {},
   "outputs": [],
   "source": [
    "# Ver cantidad de valores que cumplen una condición\n",
    "nombre_columna = \"DEROG\"\n",
    "condicion = 0\n",
    "(df[nombre_columna]==condicion).sum()"
   ]
  },
  {
   "cell_type": "markdown",
   "metadata": {},
   "source": [
    "### Paréntesis: Métodos vs. Atributos\n",
    "\n",
    "Habrán visto que a veces aplicamos al **DataFrame** comandos luego de un punto, y a veces estos terminan en un par de `()` y otras veces no.\n",
    "\n",
    "Esto es porque aquellos que no terminan en `()`, como por ejemplo **`.shape`** o **`.index`**, son ***atributos*** del DataFrame. Es decir, se trata de propiedades asociadas al objeto.\n",
    "\n",
    "Por otro lado, los que terminan en `()`, por ejemplo **`.head()`** o **`.sample()`**, se tratan de ***métodos*** del DataFrame. Es decir, son funciones que se aplican exclusivamente a este tipo de objetos.\n"
   ]
  },
  {
   "cell_type": "code",
   "execution_count": null,
   "metadata": {},
   "outputs": [],
   "source": []
  },
  {
   "cell_type": "markdown",
   "metadata": {},
   "source": [
    "## Limpieza de **`DataFrames`**"
   ]
  },
  {
   "cell_type": "code",
   "execution_count": null,
   "metadata": {},
   "outputs": [],
   "source": [
    "# El significado de la variable \"DEBTINC\" no está clara. Por lo que se excluye del análisis\n",
    "df.drop('DEBTINC', axis=1, inplace=True) "
   ]
  },
  {
   "cell_type": "code",
   "execution_count": null,
   "metadata": {},
   "outputs": [],
   "source": [
    "df.head()"
   ]
  },
  {
   "cell_type": "code",
   "execution_count": null,
   "metadata": {},
   "outputs": [],
   "source": [
    "# Ver si hay valores faltantes\n",
    "nombre_columna = \"MORTDUE\"\n",
    "df[nombre_columna].isnull().sum()"
   ]
  },
  {
   "cell_type": "code",
   "execution_count": null,
   "metadata": {
    "scrolled": true
   },
   "outputs": [],
   "source": [
    "for col in df.columns:\n",
    "    print(\"En la columna\", col , \"hay\", df[col].isnull().sum(), \"datos faltantes.\")"
   ]
  },
  {
   "cell_type": "code",
   "execution_count": null,
   "metadata": {},
   "outputs": [],
   "source": [
    "# Eliminar una fila con valores nulos\n",
    "df.dropna(axis=0, how='any', inplace=True)"
   ]
  },
  {
   "cell_type": "code",
   "execution_count": null,
   "metadata": {},
   "outputs": [],
   "source": [
    "df.shape"
   ]
  },
  {
   "cell_type": "markdown",
   "metadata": {},
   "source": [
    "A continuación creamos una nueva columna **`STATUS`** para diferenciar mejor la situación de cada solicitante."
   ]
  },
  {
   "cell_type": "code",
   "execution_count": null,
   "metadata": {},
   "outputs": [],
   "source": [
    "df.loc[df.BAD == 1, 'STATUS'] = 'DEFAULT'\n",
    "df.loc[df.BAD == 0, 'STATUS'] = 'PAID'"
   ]
  },
  {
   "cell_type": "code",
   "execution_count": null,
   "metadata": {},
   "outputs": [],
   "source": [
    "df.head()"
   ]
  },
  {
   "cell_type": "code",
   "execution_count": null,
   "metadata": {},
   "outputs": [],
   "source": []
  },
  {
   "cell_type": "markdown",
   "metadata": {},
   "source": [
    "## Continuamos con la exploración de **`DataFrames`**"
   ]
  },
  {
   "cell_type": "markdown",
   "metadata": {},
   "source": [
    "### ¿Cuál es la Relación con Numpy?\n",
    "\n",
    "Otro de los atributos que tiene un DataFrame es **`.values`**. Averigüemos de qué se trata:"
   ]
  },
  {
   "cell_type": "code",
   "execution_count": null,
   "metadata": {},
   "outputs": [],
   "source": [
    "print(df.values)"
   ]
  },
  {
   "cell_type": "code",
   "execution_count": null,
   "metadata": {},
   "outputs": [],
   "source": [
    "print(type(df.values))"
   ]
  },
  {
   "cell_type": "markdown",
   "metadata": {},
   "source": [
    "Y no solo el DataFrame tiene este atributo, sino otros objetos, como los índices y columnas también! Veamos un poco:"
   ]
  },
  {
   "cell_type": "code",
   "execution_count": null,
   "metadata": {},
   "outputs": [],
   "source": [
    "print(type(df.columns))\n",
    "print(df.columns.values)\n",
    "print(type(df.columns.values))"
   ]
  },
  {
   "cell_type": "markdown",
   "metadata": {},
   "source": [
    "A esto nos referimos cuando decimos que Pandas está construído sobre la base de Numpy!"
   ]
  },
  {
   "cell_type": "code",
   "execution_count": null,
   "metadata": {},
   "outputs": [],
   "source": []
  },
  {
   "cell_type": "markdown",
   "metadata": {},
   "source": [
    "Recuerdan que en las primeras clases habíamos visto los operadores **`and`**, **`or`** y **`not`**? En Pandas podemos usar los mismos operadores, utilizando los siguiente símbolos:\n",
    "\n",
    "- and: **`&`**\n",
    "- or: **`|`**\n",
    "- not: **`~`**\n",
    "\n",
    "Para negar una columna de *booleanos*, utilizaremos **`~`**."
   ]
  },
  {
   "cell_type": "code",
   "execution_count": null,
   "metadata": {},
   "outputs": [],
   "source": [
    "(~(df['JOB'] == \"Other\")).sum()"
   ]
  },
  {
   "cell_type": "code",
   "execution_count": null,
   "metadata": {},
   "outputs": [],
   "source": [
    "(df['JOB'].str.isnumeric()).sum()"
   ]
  },
  {
   "cell_type": "markdown",
   "metadata": {},
   "source": [
    "## Máscaras sobre un **`DataFrame`**"
   ]
  },
  {
   "cell_type": "markdown",
   "metadata": {},
   "source": [
    "Si queremos filtrar filas que nos interesan primero vamos a tener que generar una ***máscara*** o serie de valores con un indicador **`True`** o **`False`** para cada fila del DataFrame, donde **`True`** quedará asignado a las filas que queremos mantener:"
   ]
  },
  {
   "cell_type": "code",
   "execution_count": null,
   "metadata": {},
   "outputs": [],
   "source": [
    "# Aquí definimos una máscara\n",
    "filas_mora = df['BAD'] == 1"
   ]
  },
  {
   "cell_type": "code",
   "execution_count": null,
   "metadata": {},
   "outputs": [],
   "source": [
    "filas_mora"
   ]
  },
  {
   "cell_type": "markdown",
   "metadata": {},
   "source": [
    "Para obtener nuestro DataFrame filtrado, aplicamos esta máscara sobre nuestro DataFrame original, utilizando **`[]`**."
   ]
  },
  {
   "cell_type": "code",
   "execution_count": null,
   "metadata": {},
   "outputs": [],
   "source": [
    "df_filtrado = df[filas_mora]\n",
    "print('Shape df          ', df.shape)\n",
    "print('Shape df_filtrado  ', df_filtrado.shape)\n",
    "print('Filas eliminadas       ', df.shape[0]-df_filtrado.shape[0])"
   ]
  },
  {
   "cell_type": "markdown",
   "metadata": {},
   "source": [
    "## Operaciones y Estadísticas Sobre los Datos de un **`DataFrame`**\n",
    "\n",
    "Veamos algunas operaciones que podemos realizar con DataFrames y cómo obtener estadísticas sobre los datos."
   ]
  },
  {
   "cell_type": "code",
   "execution_count": null,
   "metadata": {},
   "outputs": [],
   "source": [
    "# Frecuencia de variables BAD\n",
    "df['BAD'].value_counts()"
   ]
  },
  {
   "cell_type": "code",
   "execution_count": null,
   "metadata": {},
   "outputs": [],
   "source": [
    "df['JOB'].value_counts()"
   ]
  },
  {
   "cell_type": "code",
   "execution_count": null,
   "metadata": {},
   "outputs": [],
   "source": [
    "df['MORTDUE'].mean()"
   ]
  },
  {
   "cell_type": "markdown",
   "metadata": {},
   "source": [
    "A continuación, veamos cómo podemos cambiar el nombre de una columna"
   ]
  },
  {
   "cell_type": "code",
   "execution_count": null,
   "metadata": {},
   "outputs": [],
   "source": [
    "df.rename(columns= {\"YOJ\": \"YEAR OF JOB\"}, inplace=True)\n",
    "df"
   ]
  },
  {
   "cell_type": "markdown",
   "metadata": {},
   "source": [
    "Veamos algunos estadísticos sobre este DataFrame, utilizando el método **`.describe()`**"
   ]
  },
  {
   "cell_type": "code",
   "execution_count": null,
   "metadata": {},
   "outputs": [],
   "source": [
    "df.describe()"
   ]
  },
  {
   "cell_type": "markdown",
   "metadata": {},
   "source": [
    "Estadísticas descriptivas de préstamos PAGADOS"
   ]
  },
  {
   "cell_type": "code",
   "execution_count": null,
   "metadata": {},
   "outputs": [],
   "source": [
    "df[df['BAD']==0].drop('BAD', axis=1).describe().style.format(\"{:.2f}\")"
   ]
  },
  {
   "cell_type": "markdown",
   "metadata": {},
   "source": [
    "Estadísticas descriptivas de préstamos INCUMPLIDOS"
   ]
  },
  {
   "cell_type": "code",
   "execution_count": null,
   "metadata": {},
   "outputs": [],
   "source": [
    "df[df['BAD']==1].drop('BAD', axis=1).describe().style.format(\"{:.2f}\")"
   ]
  },
  {
   "cell_type": "markdown",
   "metadata": {},
   "source": [
    "# Visualización\n",
    "\n",
    "<img src=\"https://upload.wikimedia.org/wikipedia/commons/0/01/Created_with_Matplotlib-logo.svg\" alt=\"matplotlib\" width=\"200\"/>\n",
    "<img src=\"http://seaborn.pydata.org/_images/logo-mark-lightbg.svg\" alt=\"seaborn\" width=\"200\"/>\n",
    "\n",
    "La librería de visualización básica por excelencia en Python es [Matplotlib](https://matplotlib.org/), pero en el análisis y la ciencia de datos fueron ganando mucho lugar los paquetes un poco más de \"alto nivel\" como [Seaborn](https://seaborn.pydata.org/) y [Plotly](https://plotly.com/python/plotly-express/), que nos permiten tener gráficos \"más lindos\" con menos trabajo de código.\n",
    "\n",
    "Veamos algunas visualizaciones adicionales de los datos que estuvimos trabajando."
   ]
  },
  {
   "cell_type": "code",
   "execution_count": null,
   "metadata": {},
   "outputs": [],
   "source": [
    "import matplotlib.pyplot as plt\n",
    "import seaborn as sns"
   ]
  },
  {
   "cell_type": "markdown",
   "metadata": {},
   "source": [
    "### Gráficos de Barras/Líneas [barplot](https://seaborn.pydata.org/generated/seaborn.barplot.html)"
   ]
  },
  {
   "cell_type": "code",
   "execution_count": null,
   "metadata": {},
   "outputs": [],
   "source": [
    "sns.barplot(x=df['STATUS'], y=df['MORTDUE'])\n",
    "\n",
    "#Otra posibilidad\n",
    "#sns.barplot(x='STATUS', y='MORTDUE', data = df)"
   ]
  },
  {
   "cell_type": "code",
   "execution_count": null,
   "metadata": {},
   "outputs": [],
   "source": [
    "sns.barplot(x=df['STATUS'], y=df['MORTDUE'], hue = df['REASON'])"
   ]
  },
  {
   "cell_type": "markdown",
   "metadata": {},
   "source": [
    "### Gráficos de dispersión [scatters](https://seaborn.pydata.org/generated/seaborn.scatterplot.html)"
   ]
  },
  {
   "cell_type": "code",
   "execution_count": null,
   "metadata": {
    "scrolled": true
   },
   "outputs": [],
   "source": [
    "# Utilizando el módulo matplotlib.pyplot\n",
    "df.plot.scatter(\"YEAR OF JOB\", \"LOAN\")"
   ]
  },
  {
   "cell_type": "code",
   "execution_count": null,
   "metadata": {},
   "outputs": [],
   "source": [
    "# Utilizando seaborn\n",
    "sns.scatterplot(x=df[\"MORTDUE\"], y=df[\"LOAN\"], hue = df['BAD'])"
   ]
  },
  {
   "cell_type": "markdown",
   "metadata": {},
   "source": [
    "### Gráficos de barra [countplot](https://seaborn.pydata.org/generated/seaborn.countplot.html)"
   ]
  },
  {
   "cell_type": "markdown",
   "metadata": {},
   "source": [
    "Las variables categóricas toman valores de un conjunto pre-definido, usualmente pero no necesariamente finito. Para visualizarlas, puede usarse un gráfico de barras, que representa cada valor observado con una columna, y el conteo de ese valor con la altura de la columna."
   ]
  },
  {
   "cell_type": "code",
   "execution_count": null,
   "metadata": {},
   "outputs": [],
   "source": [
    "plt.figure()\n",
    "sns.countplot(x=df[\"STATUS\"], color='steelblue')\n",
    "#for ax in axes:\n",
    "plt.tick_params(labelrotation=30)"
   ]
  },
  {
   "cell_type": "markdown",
   "metadata": {},
   "source": [
    "Las visualizaciones simples son prácticas para conocer la forma de los datos rápidamente, porque condensan mucha información."
   ]
  },
  {
   "cell_type": "markdown",
   "metadata": {},
   "source": [
    "## Gráficos de dispersión"
   ]
  },
  {
   "cell_type": "markdown",
   "metadata": {},
   "source": [
    "### Histogramas"
   ]
  },
  {
   "cell_type": "markdown",
   "metadata": {},
   "source": [
    "El gráfico generado es un **histograma de frecuencias**. En el eje x se grafican los valores que toma la columna, divididos en intervalos o bins. En el eje y se grafica el conteo de ocurrencias de valores en cada intervalo."
   ]
  },
  {
   "cell_type": "markdown",
   "metadata": {},
   "source": [
    "### [displot](https://seaborn.pydata.org/generated/seaborn.displot.html)"
   ]
  },
  {
   "cell_type": "code",
   "execution_count": null,
   "metadata": {
    "scrolled": true
   },
   "outputs": [],
   "source": [
    "sns.displot(df[\"YEAR OF JOB\"], aspect=2) #cambiar los bins=5,20 0 50 y ver..."
   ]
  },
  {
   "cell_type": "markdown",
   "metadata": {},
   "source": [
    "### [histplot](https://seaborn.pydata.org/generated/seaborn.histplot.html)"
   ]
  },
  {
   "cell_type": "code",
   "execution_count": null,
   "metadata": {},
   "outputs": [],
   "source": [
    "col = 'LOAN'\n",
    "\n",
    "fig, axes = plt.subplots(nrows=2, figsize=(16, 8))\n",
    "sns.histplot(df[col], bins=100, ax=axes[0], color='gray')\n",
    "axes[0].axvline(df[col].mean(), color='orangered',\n",
    "            linestyle='--', label='Media')\n",
    "axes[0].axvline(df[col].median(), color='indigo',\n",
    "            linestyle='-.', label='Mediana')\n",
    "\n",
    "filtered_df = df[df[\"STATUS\"] == \"DEFAULT\"]\n",
    "sns.histplot(filtered_df[col], bins=100, ax=axes[1], color='gray')\n",
    "axes[1].axvline(filtered_df[col].mean(), color='orangered',\n",
    "            linestyle='--', label='Media')\n",
    "axes[1].axvline(filtered_df[col].median(), color='indigo',\n",
    "            linestyle='-.', label='Mediana')\n",
    "\n",
    "axes[0].legend()\n",
    "sns.despine()"
   ]
  },
  {
   "cell_type": "markdown",
   "metadata": {},
   "source": [
    "Para más información sobre subplots visitar la [documentación](https://matplotlib.org/3.5.0/api/_as_gen/matplotlib.pyplot.subplots.html)."
   ]
  },
  {
   "cell_type": "markdown",
   "metadata": {},
   "source": [
    "### Gráficos para medidas de dispersión"
   ]
  },
  {
   "cell_type": "markdown",
   "metadata": {},
   "source": [
    "Las medidas de dispersión vistas en el teórico son la desviación estándar, la varianza, entre otros. Cuando se comparan dos características diferentes (que pueden tener magnitudes diferentes) puede no ser conveniente comparar directamente los valores de las desviaciones estándar, sino que podemos usar el coeficiente de variación (desviación estándar dividida la media)."
   ]
  },
  {
   "cell_type": "markdown",
   "metadata": {},
   "source": [
    "### [boxplot](https://seaborn.pydata.org/generated/seaborn.boxplot.html)"
   ]
  },
  {
   "cell_type": "code",
   "execution_count": null,
   "metadata": {},
   "outputs": [],
   "source": [
    "plt.figure(figsize=(12, 4))\n",
    "sns.boxplot(x=df[\"LOAN\"])\n",
    "sns.despine()"
   ]
  },
  {
   "cell_type": "code",
   "execution_count": null,
   "metadata": {},
   "outputs": [],
   "source": [
    "plt.figure(figsize=(12, 6))\n",
    "sns.boxplot(data=df, x=\"LOAN\", y='STATUS',\n",
    "                color='orangered')"
   ]
  },
  {
   "cell_type": "code",
   "execution_count": null,
   "metadata": {},
   "outputs": [],
   "source": [
    "plt.figure(figsize=(12, 6))\n",
    "sns.boxplot(data=df, x=\"LOAN\", y='STATUS', hue = \"REASON\",\n",
    "                color='orangered')"
   ]
  }
 ],
 "metadata": {
  "kernelspec": {
   "display_name": "Python 3 (ipykernel)",
   "language": "python",
   "name": "python3"
  },
  "language_info": {
   "codemirror_mode": {
    "name": "ipython",
    "version": 3
   },
   "file_extension": ".py",
   "mimetype": "text/x-python",
   "name": "python",
   "nbconvert_exporter": "python",
   "pygments_lexer": "ipython3",
   "version": "3.7.6"
  }
 },
 "nbformat": 4,
 "nbformat_minor": 4
}
