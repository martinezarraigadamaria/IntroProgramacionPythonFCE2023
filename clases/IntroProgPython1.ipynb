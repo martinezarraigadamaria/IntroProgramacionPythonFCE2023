{
 "cells": [
  {
   "cell_type": "markdown",
   "metadata": {},
   "source": [
    "<h1 align=\"center\" style=\"color:Darkblue;\">¡Abrir el notebook desde Colab!</h1>\n",
    "<br>\n",
    "\n",
    "<a href=\"https://colab.research.google.com/github/martinezarraigadamaria/IntroProgramacionPythonFCE2023/blob/master/clases/IntroProgPython1.ipynb\" target=\"_parent\"><img src=\"https://colab.research.google.com/assets/colab-badge.svg\" alt=\"Open In Colab\"/></a>"
   ]
  },
  {
   "cell_type": "markdown",
   "metadata": {},
   "source": [
    "## Temario\n",
    "\n",
    "---\n",
    "\n",
    "> Elementos de programación y programación en Python.\n",
    "\n",
    "> Herramienta principal: Collaboratory.\n",
    "\n",
    "> Variables.\n",
    "\n",
    "> Operadores lógicos y matemáticos."
   ]
  },
  {
   "cell_type": "markdown",
   "metadata": {},
   "source": [
    "El **objetivo principal** del curso es aprender conceptos básicos de programación, de forma que nos permita cargar datos desde diversos tipos de fuentes, manipular y transformar conjuntos de datos y representar información de manera sencilla. Está orientado a personas que no tienen experiencia programando en Python.\n",
    "\n",
    "La dinámica del curso incluirá ejercicios de práctica y desafíos a completar a través de notebooks."
   ]
  },
  {
   "cell_type": "markdown",
   "metadata": {},
   "source": [
    "<h1 style=\"color:Darkblue;\"> ¿Qué es la Programación? </h1>"
   ]
  },
  {
   "cell_type": "markdown",
   "metadata": {},
   "source": [
    "La **programación** es el proceso de diseñar e implementar un programa de computadora, utilizando algún lenguaje que permita comunicar una serie de instrucciones o acciones que se pretende que la computadora realice. Podemos pensar que es como una línea de producción que recibe un input/entrada (información), realiza algún procesamiento o acción (programa), y devuelve un output/salida (información procesada).\n",
    "\n",
    "\n",
    "\n",
    "### Lenguajes de Programación\n",
    "Un lenguaje de programación es un [lenguaje formal](https://es.wikipedia.org/wiki/Lenguaje_formal) que nos permite escribir secuencias de órdenes o instrucciones para controlar el comportamiento físico y lógico de una computadora, con el objetivo de que produzca/ejecute ciertas acciones deseadas."
   ]
  },
  {
   "cell_type": "markdown",
   "metadata": {},
   "source": [
    "### ¿Por qué Python?\n",
    "\n",
    "*El lenguaje de programación Python es el preferido a nivel internacional, según el PopularitY of Programming Language Index (acortado como **PYPL** y traducido al español como Índice de Popularidad de Lenguajes de Programación). Así, en enero de este año este era utilizado por casi el 26% de los programadores web, tal y como se estima en un análisis de las búsquedas en Google de tutoriales sobre programación. Tras Python, los creadores de aplicaciones informáticos prefieren Java, este objeto del 21,4% de las búsquedas de Google para este fin, según datos de la citada fuente.*[cita](https://es.statista.com/grafico/16580/lenguajes-de-programacion-mas-usados-del-mundo/)\n",
    "\n",
    "Python es uno de los lenguajes de programación con **reglas más simples e intuitivas** que existen; esto explica la creciente popularidad que ha tenido en los últimos tiempos.\n",
    "\n",
    "Es un lenguaje utilizado con **múltiples propósitos**, entre ellos la manipulación y procesamiento de datos, y es uno de los más populares en el campo de la ciencia de datos.\n",
    "\n",
    "Una ventaja muy importante es que la **comunidad** de Python es una de las más grandes. Por lo tanto, ante cualquier duda que nos surja, podemos buscarla (googlearla) y seguramente encontraremos a alguien que ya haya tenido ese mismo problema. Uno de los sitios web más conocidos para este fin es [StackOverflow](https://stackoverflow.com/)\n",
    "\n",
    "El siguiente gráfico ilustra cuán usado es respecto a otros lenguajes, así como también el crecimiento de su uso en el tiempo. (describir gráfico)"
   ]
  },
  {
   "cell_type": "markdown",
   "metadata": {},
   "source": [
    "<img src=\"https://drive.google.com/uc?export=view&id=1LFAm3L8uEYbTDIN153a_gVtUy0UMvx3p\" \n",
    "     alt=\"pypl\" \n",
    "     width=\"750\" \n",
    "     height=\"650\">"
   ]
  },
  {
   "cell_type": "markdown",
   "metadata": {},
   "source": [
    "<h1 style=\"color:Darkblue;\"> ¿Qué es un Notebook? </h1>"
   ]
  },
  {
   "cell_type": "markdown",
   "metadata": {},
   "source": [
    "Un notebook es un tipo de documento (archivo) que nos permite alternar bloques de texto con bloques de código ejecutable. A cada bloque dentro del notebook lo denominamos **celda**.\n",
    "\n",
    "Una celda puede ser del **tipo texto** (como el bloque en donde está escrito este contenido) o del **tipo código** (donde vamos a escribir nuestros programas).\n",
    "\n",
    "## ¿Cómo se ejecuta una celda de tipo código?\n",
    "\n",
    "- Una opción es presionando **`Ctrl+Enter`** (o si tenés MAC, **`Cmd+Enter`**)\n",
    "- Otra forma de ejecutarlo es presionando el botón que aparece en la esquina superior izquierda del cuadro de texto con el código (parecido a *play*).\n",
    "- Siempre de arriba hacia abajo (mantenerse ordenado, por cuestiones de reproducibilidad)."
   ]
  },
  {
   "cell_type": "markdown",
   "metadata": {},
   "source": [
    "<h1 style=\"color:Darkblue;\"> Programas Básicos y Variables </h1>"
   ]
  },
  {
   "cell_type": "markdown",
   "metadata": {},
   "source": [
    "## Output y Función `print()`\n",
    "\n",
    "El output de un programa es la manera de transmitir información hacia su entorno. En Google Colaboratory veremos el output del programa debajo de la celda donde fue ejecutado.\n",
    "\n",
    "Para mostrar un dato en la pantalla, podemos utilizar el comando **`print( )`**, poniendo el dato que deseemos entre los paréntesis. Notar que, para escribir texto, se debe indicar con comillas simples o dobles y para escribir números no se deben aplicar comillas."
   ]
  },
  {
   "cell_type": "code",
   "execution_count": null,
   "metadata": {},
   "outputs": [],
   "source": [
    "print(123)\n",
    "print(\"Hola, ¿cómo estás?\")\n",
    "print('Buenas tardes')"
   ]
  },
  {
   "cell_type": "markdown",
   "metadata": {},
   "source": [
    "## ¿Qué es una Variable?\n",
    "\n",
    "En programación, se le asigna un nombre o \"apodo\" a cada pequeño segmento de la memoria que almacena un dato o un valor.\n",
    "Una variable es un espacio reservado en memoria al que le ponemos un \"apodo\", en el que se puede almacenar algo (un elemento o dato) y que permite recuperar/transformar/modificar lo almacenado si lo volvemos a declarar una vez guardado previamente, invocándolo por su \"apodo\".\n",
    "\n",
    "\n",
    "Para que un programa funcione y pueda realizar tareas es necesario guardar en la memoria de la computadora los datos que necesita. De esta forma, cada vez que se usa este nombre en el programa se está refiriendo al valor del dato almacenado en la memoria. Este es el concepto de **\"variable\"**.\n",
    "\n",
    "En python esto se logra de la siguiente manera:\n"
   ]
  },
  {
   "cell_type": "code",
   "execution_count": null,
   "metadata": {},
   "outputs": [],
   "source": [
    "x = \"5\"\n",
    "print(x)"
   ]
  },
  {
   "cell_type": "markdown",
   "metadata": {},
   "source": [
    "En estas variables podemos guardar lo que sea necesario para ejecutar el programa. Por ejemplo, si necesitamos guardar texto se indica con: \"(texto)\" o '(texto)'.\n",
    "\n",
    "Notemos que para asignar una variable el símbolo que utilizamos fue el **`=`**. A este operador lo llamamos **operador de asignación**."
   ]
  },
  {
   "cell_type": "code",
   "execution_count": null,
   "metadata": {},
   "outputs": [],
   "source": [
    "x = '¡Hola Mundo!'\n",
    "y = \"¡Adios Mundo!\"\n",
    "z = 123\n",
    "print(x)\n",
    "print(y)\n",
    "print(z)"
   ]
  },
  {
   "cell_type": "markdown",
   "metadata": {},
   "source": [
    "Entonces, cuando al comando **`print()`** le \"damos de comer\" la variable **`x`**, lo que hace el programa es mostrarnos el contenido de esa variable (es decir, el dato que está almacenado en ese espacio en memoria) y no la letra \"x\".\n",
    "¿Cómo podría hacer un programa que imprima la letra \"x\"?"
   ]
  },
  {
   "cell_type": "code",
   "execution_count": null,
   "metadata": {},
   "outputs": [],
   "source": [
    "# ¡Esto es un comentario!\n",
    "# Los comentarios no son ejecutados por Python\n",
    "# Para realizar un comentario en un bloque de código debemos utilizar asterisco (#)\n",
    "\n",
    "x = #Acá tu código\n",
    "print(x)"
   ]
  },
  {
   "cell_type": "markdown",
   "metadata": {},
   "source": [
    "Algo importante a tener en cuenta es que **no es necesario aclarar de antemano si las variables son textos (Strings) o números**, sino que el lenguaje lo puede identificar automáticamente.\n",
    "\n",
    "Otra cuestión importante a considerar es que el \"apodo\" o nombre que recibirá una variable debe cumplir ciertas reglas o restricciones impuestas por el propio lenguaje. Estas reglas son:\n",
    "- El nombre de una variable no puede comenzar por un número (para que el lenguaje no lo confunda con un número, justamente). Debe empezar por una letra (a-z, A-Z) o un guión bajo (_).\n",
    "- Los restantes caracteres pueden ser alfanuméricos o _\n",
    "- Los caracteres en mayúscula son diferentes a los mismos caracteres en minúscula (case sensitive)\n",
    "- No se pueden utilizar palabras reservadas por Python como nombres de variables. Por ejemplo: `print`, `if`, `else`, `for`, entre otras. Esto es porque Python las usa para otros fines y ya tienen un significado especial."
   ]
  },
  {
   "cell_type": "code",
   "execution_count": null,
   "metadata": {},
   "outputs": [],
   "source": [
    "help('keywords')"
   ]
  },
  {
   "cell_type": "markdown",
   "metadata": {},
   "source": [
    "## Inputs de un Programa\n",
    "El input de un programa es la forma de recibir información del entorno externo al programa. Esto puede ser un usuario, un archivo, otro programa, etc. \n",
    "\n",
    "Para solicitar el ingreso de una variable podemos usar **`input(\"Texto a mostrar en interfaz: \")`**. Cuando corramos este código, nos aparecerá una pequeña casilla donde tendremos que escribir, y luego el programa continuará. "
   ]
  },
  {
   "cell_type": "code",
   "execution_count": null,
   "metadata": {},
   "outputs": [],
   "source": [
    "nombre = input(\"Ingrese su nombre: \")\n",
    "edad = input(\"Ingrese su edad: \")\n",
    "\n",
    "print(\"La variable nombre es:\", nombre)\n",
    "print(\"La variable edad es:\", edad)"
   ]
  },
  {
   "cell_type": "markdown",
   "metadata": {},
   "source": [
    "Un detalle a tener en cuenta es que la información ingresada por el usuario al utilizar `input()` será interpretada siempre como texto, y no como un número. Por lo tanto, si queremos almacenar un número vamos a usar `int()` para convertir ese texto en el numero correspondiente. Más adelante quedará claro por qué debemos hacer esto y qué es el tipo de una variable."
   ]
  },
  {
   "cell_type": "markdown",
   "metadata": {},
   "source": [
    "<h1 style=\"color:Darkblue;\"> Operaciones Básicas con Variables </h1>"
   ]
  },
  {
   "cell_type": "markdown",
   "metadata": {},
   "source": [
    "### Operaciones de Modificación\n"
   ]
  },
  {
   "cell_type": "markdown",
   "metadata": {},
   "source": [
    "Las operaciones básicas que pueden llevarse a cabo utilizando variables:\n",
    "\n",
    "- Sumar dos variables ( $a+b$ ):\n",
    "\n",
    "  `a + b`\n",
    "\n",
    "- Restar dos variables ( $a-b$ ):\n",
    "\n",
    "  `a − b`\n",
    "\n",
    "- Multiplicar dos variables ( $a\\cdot b$ ):\n",
    "\n",
    "  `a * b`\n",
    "\n",
    "- Dividir una variable por la otra ( $a\\div b$ ):\n",
    "\n",
    "  `a / b` \n",
    "\n",
    "- Una variable elevada a la otra ( $a^b$ ): \n",
    "\n",
    "  `a ** b`\n",
    "\n",
    "- Asignarle un valor a una variable ( $a\\leftarrow b$ ):\n",
    "\n",
    "  `a = b`\n",
    "  \n",
    "\n",
    "¿Cual será la salida del siguiente programa?"
   ]
  },
  {
   "cell_type": "code",
   "execution_count": null,
   "metadata": {},
   "outputs": [],
   "source": [
    "x = 3\n",
    "y = -2\n",
    "y = x*y\n",
    "x = x**2\n",
    "print(\"y =\", y)\n",
    "print(\"x =\", x)"
   ]
  },
  {
   "cell_type": "markdown",
   "metadata": {},
   "source": [
    "#### 📚 **Ejercicio 1:** Operadores\n",
    "\n",
    "1. Diseñar un programa en el cual el usuario ingrese tres números, uno a la vez, y se muestre como salida tanto el promedio como la [media geométrica](https://es.wikipedia.org/wiki/Media_geom%C3%A9trica) de los tres números.\n",
    "\n",
    "2. Diseñar un programa en el cual el usuario ingrese, para dos productos diferentes, el precio unitario del producto y la cantidad que desea comprar del mismo, y se muestre como salida el total de la factura."
   ]
  },
  {
   "cell_type": "code",
   "execution_count": null,
   "metadata": {},
   "outputs": [],
   "source": [
    "# Código Ejercicio 1 Apartado 1"
   ]
  },
  {
   "cell_type": "code",
   "execution_count": null,
   "metadata": {},
   "outputs": [],
   "source": [
    "# Código Ejercicio 1 Apartado 2"
   ]
  },
  {
   "cell_type": "markdown",
   "metadata": {},
   "source": [
    "### Operadores Módulo y Cociente Entero\n"
   ]
  },
  {
   "cell_type": "markdown",
   "metadata": {},
   "source": [
    "El **operador módulo** permite calcular el resto en una división de un número por otro. Para aplicarlo se utiliza el símbolo **%**. Por ejemplo:\n",
    "\n",
    "*   $5$ % $3$ $= 2$\n",
    "*   $17$ % $10$ $= 7$\n",
    "*   $9$ % $6$ $= 3$\n",
    "*   $15$ % $5$ $= 0$\n",
    "\n",
    "Una aplicación de utilidad consiste en preguntar si el resto de un numero **x** en la division por **y** es igual a 0 y, de esta forma, saber si **x** es múltiplo de **y**:"
   ]
  },
  {
   "cell_type": "code",
   "execution_count": null,
   "metadata": {},
   "outputs": [],
   "source": [
    "x = 27\n",
    "y = 9\n",
    "print(\"Resultado:\", x % y )"
   ]
  },
  {
   "cell_type": "code",
   "execution_count": null,
   "metadata": {},
   "outputs": [],
   "source": [
    "x = int( input(\"Ingrese un número:\") )\n",
    "print(\"Es el número par?\", x%2 == 0 )\n",
    "print(\"Es el número multiplo de 3?\", x%3 == 0 )\n",
    "print(\"Es el número multiplo de 5?\", x%5 == 0 )\n",
    "print(\"Es el número multiplo de 7?\", x%7 == 0 )"
   ]
  },
  {
   "cell_type": "markdown",
   "metadata": {},
   "source": [
    "Notemos que para comparar una variable el símbolo que utilizamos fue el **`==`**. Este es un operador de **comparación**. Al comparar dos variables, obtenemos como resultado True o False, según el valor de verdad de la proposición."
   ]
  },
  {
   "cell_type": "markdown",
   "metadata": {},
   "source": [
    "Por otro lado, el operador **//** permite obtener el cociente truncado a cero decimales. Es decir, la parte entera del resultado de la división."
   ]
  },
  {
   "cell_type": "code",
   "execution_count": null,
   "metadata": {},
   "outputs": [],
   "source": [
    "x = 10\n",
    "y = 3\n",
    "print(\"Resultado:\", x / y)\n",
    "print(\"Resultado:\", x // y )"
   ]
  },
  {
   "cell_type": "markdown",
   "metadata": {},
   "source": [
    "#### 📚 **Ejercicio 2:** Módulo y Cociente Entero\n",
    "\n",
    "1. Diseñar un programa en el cual el usuario ingrese un número, y se muestre como salida un texto que indique si el número es par o impar.\n",
    "\n",
    "2. Una línea de producción tiene la capacidad de hacer 12 cuadernos por minuto. Sin embargo, la capacidad logística diaria permite manipular solo hasta 10000 cuadernos por día. Elaborar un programa que ayude a determinar a qué hora debería frenarse la línea de producción para evitar problemas logísticos, dado que el usuario ingresa la hora a la que comienza a producir la línea (0-24 hs)."
   ]
  },
  {
   "cell_type": "code",
   "execution_count": null,
   "metadata": {},
   "outputs": [],
   "source": [
    "# Código Ejercicio 2 Apartado 1"
   ]
  },
  {
   "cell_type": "code",
   "execution_count": null,
   "metadata": {},
   "outputs": [],
   "source": [
    "# Código Ejercicio 2 Apartado 2\n",
    "\n",
    "hora_inicio = int(input(\"Ingrese una hora de inicio (entre 0 y 24): \"))\n",
    "horas_de_produccion = (10000 / 12) // 60 + 1 # sumamos 1 para asegurar que vamos a estar listos a esa hora\n",
    "print(\"Nos va a tomar\", horas_de_produccion, \" horas fabricar los cuadernos necesarios\")\n",
    "hora_finalizacion = (hora_inicio + horas_de_produccion) % 24\n",
    "print(\"Vamos a terminar producción a las \", hora_finalizacion)"
   ]
  },
  {
   "cell_type": "markdown",
   "metadata": {},
   "source": [
    "### Operaciones de Comparación\n"
   ]
  },
  {
   "cell_type": "markdown",
   "metadata": {},
   "source": [
    "Existen operaciones que permiten comparar propiedades de las variables. Las principales formas de comparación son:\n",
    "\n",
    "*   Menor que ( $a < b$ ):\n",
    "\n",
    " `a < b`\n",
    "\n",
    "*   Mayor que ( $a > b$ ):\n",
    "\n",
    " `a > b`\n",
    "\n",
    "*   Menor o igual que ( $a \\leq b$ ):\n",
    "\n",
    " `a <= b`\n",
    "\n",
    "*   Mayor o igual que ( $a \\geq b$ ):\n",
    "\n",
    " `a >= b`\n",
    "\n",
    "*   Es igual ( $a = b$ ):\n",
    "\n",
    " `a == b` (Ojo: se utilizan 2 símbolos `=` para diferenciarse del operador asignación)\n",
    "\n",
    "*   Es distinto ( $a \\neq b$ ):\n",
    "\n",
    " `a != b`\n",
    "\n",
    "\n",
    "Al comprarar dos números, se obtiene **`True`** o **`False`** (Verdadero o Falso) según si se cumple o no la condición establecida:"
   ]
  },
  {
   "cell_type": "code",
   "execution_count": null,
   "metadata": {},
   "outputs": [],
   "source": [
    "x = 4\n",
    "print(\"Es x distinto de 4?\", x != 4)\n",
    "print(\"Es x menor a 3?\", x < 3)"
   ]
  },
  {
   "cell_type": "markdown",
   "metadata": {},
   "source": [
    "También se pueden combinar diversas condiciones:\n",
    "\n",
    "*  Si se cumplen las dos condiciones ( $a \\, y \\, b$ ):\n",
    "\n",
    "  `a and b`\n",
    "\n",
    "*  Si se cumple alguna de las condiciones ( $ a \\, o \\, b$ ):\n",
    "\n",
    "  `a or b`\n",
    "\n",
    "*  Si no se cumple esa condición ( no $ a $ ):\n",
    "\n",
    "  `not a`\n",
    "\n",
    "\n",
    "Veamos un ejemplo:"
   ]
  },
  {
   "cell_type": "code",
   "execution_count": null,
   "metadata": {},
   "outputs": [],
   "source": [
    "x = int(input(\"Ingrese un número:\"))\n",
    "y = x > 5 and x < 7\n",
    "z = x > 5 or x < 7\n",
    "k = not x > 5\n",
    "print(\"x > 5 y x < 7?\", y)\n",
    "print(\"x > 5 o x < 7?\", z)\n",
    "print(\"Es x NO mayor a 5?\", k)"
   ]
  },
  {
   "cell_type": "markdown",
   "metadata": {},
   "source": [
    "Estas condiciones pueden agruparse a su vez con (*condicion1*) **and/or** (*condicion2*), lo cual permite chequar condiciones más complejas:"
   ]
  },
  {
   "cell_type": "code",
   "execution_count": null,
   "metadata": {},
   "outputs": [],
   "source": [
    "x = int(input(\"Ingrese el primer número:\"))\n",
    "y = int(input(\"Ingrese el segundo número:\"))\n",
    "z = ( x> 15 or x <-15) and ( y > 15 or y < -15 )\n",
    "print(\"El valor absoluto de ambos numeros es mayor a 15?\", z)"
   ]
  },
  {
   "cell_type": "markdown",
   "metadata": {},
   "source": [
    "¿Cuáles creen que serán los resultados de ejecutar las siguientes operaciones lógicas?\n",
    "\n",
    "- True and True\n",
    "- True and False\n",
    "- False and True\n",
    "- False and False\n",
    "\n",
    "\n",
    "- True or True\n",
    "- True or False\n",
    "- False or True\n",
    "- False or False\n",
    "\n",
    "\n",
    "- not True\n",
    "- not False"
   ]
  },
  {
   "cell_type": "markdown",
   "metadata": {},
   "source": [
    "#### 📚 **Ejercicio 3:** Comparaciones\n",
    "\n",
    "1. Diseñar un programa en el cual el usuario ingrese dos veces un número, y se muestre como salida un texto que indique si el primer número es mayor, igual o menor al segundo número ingresado.\n",
    "\n",
    "2. El horario de atención de un local comercial es de 10 a 13 y de 16 a 20 horas. Elaborar un programa que reciba como input la hora a la que arriba un cliente y que devuelva como salida si el local se encuentra abierto o cerrado."
   ]
  },
  {
   "cell_type": "code",
   "execution_count": null,
   "metadata": {},
   "outputs": [],
   "source": [
    "# Código Ejercicio 3 Apartado 1"
   ]
  },
  {
   "cell_type": "code",
   "execution_count": null,
   "metadata": {},
   "outputs": [],
   "source": [
    "# Código Ejercicio 3 Apartado 2"
   ]
  },
  {
   "cell_type": "markdown",
   "metadata": {},
   "source": [
    "## Orden de Evaluación y Precedencia de Operadores Aritméticos y Lógicos"
   ]
  },
  {
   "cell_type": "markdown",
   "metadata": {},
   "source": [
    "Python evalúa expresiones de izquierda a derecha y separa por términos como nosotros, excepto que usemos paréntesis.\n",
    "\n",
    "¿Cómo será la separación en términos para operaciones lógicas?"
   ]
  },
  {
   "cell_type": "markdown",
   "metadata": {},
   "source": [
    "<img src=\"https://lh5.googleusercontent.com/-RV4ZNzB5qvU/TeSJEIHEeSI/AAAAAAAAAJ0/-JVpFJBnxHs/CU00133A_1.png\" \n",
    "     alt=\"pypl\" \n",
    "     width=\"400\" \n",
    "     height=\"600\">"
   ]
  },
  {
   "cell_type": "markdown",
   "metadata": {},
   "source": [
    "\n",
    "Algunos ejemplos que sirven para ilustrar este punto son los siguientes:"
   ]
  },
  {
   "cell_type": "code",
   "execution_count": null,
   "metadata": {},
   "outputs": [],
   "source": [
    "print(1 / (2 + 3))\n",
    "print(1 / 2 + 3)"
   ]
  },
  {
   "cell_type": "code",
   "execution_count": null,
   "metadata": {},
   "outputs": [],
   "source": [
    "print(1 / 2 * 3)\n",
    "print(1 / (2 * 3))"
   ]
  },
  {
   "cell_type": "code",
   "execution_count": null,
   "metadata": {},
   "outputs": [],
   "source": [
    "print(1 ** 2 * 3)\n",
    "print(1 * 2 ** 3)"
   ]
  },
  {
   "cell_type": "code",
   "execution_count": null,
   "metadata": {},
   "outputs": [],
   "source": [
    "print(True or False and False)\n",
    "print((True or False) and False)"
   ]
  },
  {
   "cell_type": "markdown",
   "metadata": {},
   "source": [
    "# 📚 Ejercicios Integradores"
   ]
  },
  {
   "cell_type": "markdown",
   "metadata": {},
   "source": [
    "## Cálculo de Promedio \n",
    "Cálcular la nota de un alumno es una tarea cotidiana de un profesor. Esta tarea suele realizarse a mano o en excel muchas veces. En esta ocasión la haremos en python. \n",
    "- Pedir 3 veces que se ingrese una nota e imprimir en pantalla el promedio de las mismas.\n",
    "- Hacer lo mismo, pero asignar una importancia al primer examen de 20%, al segundo de 50% y al tercero de 30%.\n",
    "- Además, imprimir en pantalla `True` si la nota es mayor o igual que 4. Caso contrario, imprimir `False`."
   ]
  }
 ],
 "metadata": {
  "kernelspec": {
   "display_name": "Python 3 (ipykernel)",
   "language": "python",
   "name": "python3"
  },
  "language_info": {
   "codemirror_mode": {
    "name": "ipython",
    "version": 3
   },
   "file_extension": ".py",
   "mimetype": "text/x-python",
   "name": "python",
   "nbconvert_exporter": "python",
   "pygments_lexer": "ipython3",
   "version": "3.7.6"
  }
 },
 "nbformat": 4,
 "nbformat_minor": 4
}
