{
 "cells": [
  {
   "cell_type": "markdown",
   "metadata": {},
   "source": [
    "<h1 align=\"center\">¡Abrir el notebook desde Colab!</h1>\n",
    "<br>\n",
    "\n",
    "<p align=\"center\">\n",
    "<a href=\"https://colab.research.google.com/github/martinezarraigadamaria/IntroProgramacionPythonFCE2023/blob/master/clases/IntroProgPython2.ipynb\" target=\"_parent\"><img src=\"https://colab.research.google.com/assets/colab-badge.svg\" alt=\"Open In Colab\"/></a>\n",
    "</p>"
   ]
  },
  {
   "cell_type": "markdown",
   "metadata": {},
   "source": [
    "## Temario\n",
    "\n",
    "---\n",
    "\n",
    "> Tipos de datos: int, float, string, boolean.\n",
    "\n",
    "> Operaciones sobre los tipos de datos.\n"
   ]
  },
  {
   "cell_type": "markdown",
   "metadata": {},
   "source": [
    "<h1> Tipos de Datos </h1>"
   ]
  },
  {
   "cell_type": "markdown",
   "metadata": {},
   "source": [
    "Ya vimos que es posible almacenar, a través de una variable, distintos tipos de datos: utilizamos variables numéricas para realizar operaciones aritméticas y lógicas, almacenamos e imprimimos textos y vimos que el resultado de las operaciones lógicas eran los valores **`True`** o **`False`** (conocidos como *booleanos*).\n",
    "\n",
    "Todos estos son **distintos tipos de datos**, que tienen diferentes propiedades y nos servirán para distintos propósitos al momento de escribir un programa. Una primera gran división que podemos hacer entre los tipos de datos es:\n",
    "\n",
    "- Datos de tipo numérico\n",
    "- Datos de tipo texto (o *string*)\n",
    "\n",
    "A continuación, veremos con más detalle con cuáles posibles tipos de datos nos podemos encontrar.\n",
    "\n",
    "**TIP:** Para conocer el tipo de dato de cualquier variable **`x`**, podemos usar la función **`type(x)`**."
   ]
  },
  {
   "cell_type": "markdown",
   "metadata": {},
   "source": [
    "## Tipos de Datos Numéricos\n",
    "\n",
    "Existe una subclasificación para distintos tipos de números. Un entero no ocupará el mismo espacio en memoria que un número con varios dígitos en su parte decimal. Para diferenciar estos números, usaremos los tipos **`int`** y **`float`**."
   ]
  },
  {
   "cell_type": "markdown",
   "metadata": {},
   "source": [
    "### Tipo de Dato **`int`**\n",
    "Este tipo es el tipo de dato más básico, en donde pueden almacenarse números enteros (ya sean positivos o negativos)."
   ]
  },
  {
   "cell_type": "code",
   "execution_count": null,
   "metadata": {},
   "outputs": [],
   "source": [
    "dias = 5\n",
    "print('dias =', dias)\n",
    "print(type(dias))"
   ]
  },
  {
   "cell_type": "markdown",
   "metadata": {},
   "source": [
    "A veces, operando con datos enteros podemos obtener números fraccionarios o racionales, por ejemplo:"
   ]
  },
  {
   "cell_type": "code",
   "execution_count": null,
   "metadata": {},
   "outputs": [],
   "source": [
    "#Definimos variables x,y\n",
    "x = 5 \n",
    "y = 10\n",
    "\n",
    "print('Tipos de datos:')\n",
    "print('x:', type(x))\n",
    "print('y:', type(y))\n",
    "\n",
    "cociente = x/y\n",
    "\n",
    "print()\n",
    "print(\"Resultado:\", cociente)\n",
    "print(\"Tipo del Resultado:\", type(cociente))"
   ]
  },
  {
   "cell_type": "markdown",
   "metadata": {},
   "source": [
    "En este caso, si nos interesa obtener únicamente la parte entera de la división, podemos usar el operador **división entera: //**, con lo cual se va a mantener el tipo `int` del resultado:"
   ]
  },
  {
   "cell_type": "code",
   "execution_count": null,
   "metadata": {},
   "outputs": [],
   "source": [
    "x = 6\n",
    "y = 5\n",
    "\n",
    "cociente_entero = x//y\n",
    "\n",
    "print()\n",
    "print(\"Resultado División Entera:\", cociente_entero)\n",
    "print(\"Tipo del Resultado División Entera:\", type(cociente_entero))"
   ]
  },
  {
   "cell_type": "markdown",
   "metadata": {},
   "source": [
    "Por otro lado, si queremos saber el resto de la división entera, usaremos el operador **módulo %** que fue explicado previamente, y también mantendrá el tipo `int` del resultado:"
   ]
  },
  {
   "cell_type": "code",
   "execution_count": null,
   "metadata": {},
   "outputs": [],
   "source": [
    "x = 14\n",
    "y = 3\n",
    "\n",
    "cociente_entero = x // y\n",
    "resto = x % y\n",
    "\n",
    "print(\"Resultado División Entera =\", cociente_entero)  # Redondea division al entero menor\n",
    "print(\"Tipo Resultado División Entera =\", type(cociente_entero))\n",
    "print(\"Resto =\", resto)  # Operación Módulo\n",
    "print(\"Tipo Resto =\", type(resto))"
   ]
  },
  {
   "cell_type": "markdown",
   "metadata": {},
   "source": [
    "### Tipo de Dato **`float`**\n",
    "Este tipo de dato es utilizado para almacenar números que pueden contener decimales."
   ]
  },
  {
   "cell_type": "code",
   "execution_count": null,
   "metadata": {},
   "outputs": [],
   "source": [
    "pi = 3.14\n",
    "x = 3      # Este será un número entero\n",
    "z = 3.     # Alcanza para indicar que es un numero real con el \".\"\n",
    "print(\"pi =\", pi)\n",
    "print(\"Tipo de pi =\", type(pi))\n",
    "print(\"x =\", x)\n",
    "print(\"Tipo de x =\", type(x))\n",
    "print(\"z =\", z)\n",
    "print(\"Tipo de z =\", type(z))"
   ]
  },
  {
   "cell_type": "markdown",
   "metadata": {},
   "source": [
    "Si queremos conseguir el entero sin la parte decimal de un **`float`**, podemos simplemente **convertirlo a `int`**. Para ello utilizamos la función propia de Python **`int()`**."
   ]
  },
  {
   "cell_type": "code",
   "execution_count": null,
   "metadata": {},
   "outputs": [],
   "source": [
    "y = 3.14\n",
    "x = int(y)\n",
    "print(\"x =\", x)\n",
    "print(\"Tipo de x =\", type(x))"
   ]
  },
  {
   "cell_type": "markdown",
   "metadata": {},
   "source": [
    "Para que Python interprete que el usuario ha ingresado un número real (de tipo **`float`**) usando la instrucción **`input()`**, debemos realizar un *casteo* con la función **`float()`**."
   ]
  },
  {
   "cell_type": "code",
   "execution_count": null,
   "metadata": {},
   "outputs": [],
   "source": [
    "real = input(\"Ingrese un número: \") #await"
   ]
  },
  {
   "cell_type": "code",
   "execution_count": null,
   "metadata": {},
   "outputs": [],
   "source": [
    "real = float(real)\n",
    "\n",
    "print(\"Tipo del input casteado =\", type(real))\n",
    "print(\"El doble del numero ingresado es =\", real*2)"
   ]
  },
  {
   "cell_type": "markdown",
   "metadata": {},
   "source": [
    "Es importante tener en cuenta que **los *float* no pueden ser infinitamente precisos**, ya que para eso necesitaríamos infinita memoria (recordar que cada variable que usamos se guarda en memoria). De hecho, Python ni siquiera puede expresar de manera exacta el número 0.1, pero sí 0.5. Para leer más al respecto, podemos visitar el siguiente [link](https://es.wikipedia.org/wiki/Formato_en_coma_flotante_de_doble_precisi%C3%B3n).\n",
    "\n",
    "Como consecuencia, los números con decimales suelen tener una pequeña diferencia con el valor que realmente deseamos y, por esto, cuando trabajamos con *floats*, suele ser recomendable realizar comparaciones del tipo **`>`** ó **`<`**, en lugar de **`==`** ó **`!=`**, dado que pueden surgir problemas o resultados no esperados.\n",
    "\n",
    "¿Cuál es el problema de estos programas?"
   ]
  },
  {
   "cell_type": "code",
   "execution_count": null,
   "metadata": {},
   "outputs": [],
   "source": [
    "a = 1/3\n",
    "b = 2/3\n",
    "c = a + b\n",
    "\n",
    "print('a =', a)\n",
    "print('b =', b)\n",
    "print('c =', c)\n",
    "print('Resultado operación inversa (c-b) =', c-b)\n",
    "print('¿a y (c-b) son iguales?', c-b == a)"
   ]
  },
  {
   "cell_type": "code",
   "execution_count": null,
   "metadata": {},
   "outputs": [],
   "source": [
    "#¿Qué pasa con el valor absoluto de la diferencia entre a y (c-b)?\n",
    "\n",
    "valor_absoluto = abs(a - (c-b))\n",
    "print('El valor absoluto de la diferencia es', valor_absoluto)\n",
    "print()\n",
    "\n",
    "print('¿El valor absoluto es menor que 1e-10?', valor_absoluto <= 1e-10)\n",
    "print('¿El valor absoluto es igual a cero?', valor_absoluto == 0)"
   ]
  },
  {
   "cell_type": "markdown",
   "metadata": {},
   "source": [
    "Muchas veces es necesario redondear un número decimal, ya sea para obtener un número entero o un número con menor cantidad de decimales. Esto se puede lograr con el comando **`round()`**, el cual permite indicar la cantidad de decimales a redondear. Si no se indica la cantidad de decimales asume por defecto que el resultado será un número entero."
   ]
  },
  {
   "cell_type": "code",
   "execution_count": null,
   "metadata": {},
   "outputs": [],
   "source": [
    "numero = 1234.56789\n",
    "\n",
    "x = round(numero)\n",
    "y = round(numero, 2)\n",
    "z = int(numero)\n",
    "\n",
    "print(x, y, z)\n",
    "print(type(x), type(y), type(z))"
   ]
  },
  {
   "cell_type": "markdown",
   "metadata": {},
   "source": [
    "#### 📚 **Ejercicio 1:** Floats\n",
    "\n",
    "1. Crear un programa que convierta grados **Celsius** a grados **Farenheit** [(ver)](https://es.wikipedia.org/wiki/Grado_Fahrenheit). El usuario ingresa un valor de grados Celsius y el programa muestra el valor de grados Farenheit que representan como resultado.\n",
    "\n",
    "2. Crear un programa para transformar minutos en horas. El usuario ingresa una cantidad de minutos y el programa, como resultado, muestra las horas que representan esa cantidad de minutos."
   ]
  },
  {
   "cell_type": "code",
   "execution_count": null,
   "metadata": {},
   "outputs": [],
   "source": [
    "# Código Ejercicio 1 Apartado 1"
   ]
  },
  {
   "cell_type": "code",
   "execution_count": null,
   "metadata": {},
   "outputs": [],
   "source": [
    "# Código Ejercicio 1 Apartado 2"
   ]
  },
  {
   "cell_type": "markdown",
   "metadata": {},
   "source": [
    "### Tipo de Dato **`boolean`**\n",
    "Este es un tipo de dato que puede tomar sólo dos valores distintos: **`True`** (Verdadero) o **`False`** (Falso)"
   ]
  },
  {
   "cell_type": "code",
   "execution_count": null,
   "metadata": {},
   "outputs": [],
   "source": [
    "llueve = False\n",
    "soleado = True\n",
    "print(not llueve == soleado)"
   ]
  },
  {
   "cell_type": "markdown",
   "metadata": {},
   "source": [
    "Como lo habrán notado, ya veníamos usando este tipo de datos implícitamente: **las comparaciones devuelven booleanos**.\n",
    "\n",
    "Prácticamente cualquier dato puede *castearse* (convertirse) a **`boolean`**. Para los números, 0 es **`False`** y cualquier otro es **`True`**. Para otros tipos de datos, en general, son **`False`** si están \"vacíos\" y **`True`** en los demás casos.\n",
    "\n",
    "La función que se utiliza para *castear* a booleano es **`bool()`**."
   ]
  },
  {
   "cell_type": "code",
   "execution_count": null,
   "metadata": {},
   "outputs": [],
   "source": [
    "print(\"Si se castea un 0 a bool: \", bool(0))\n",
    "print(\"Si se castea un 1 a bool: \", bool(1))\n",
    "print(\"Si se castea un -1 a bool: \", bool(-1.2))\n",
    "print(\"Si se castea un 0.0 a bool: \", bool(0.0))"
   ]
  },
  {
   "cell_type": "code",
   "execution_count": null,
   "metadata": {},
   "outputs": [],
   "source": [
    "print(\"La palabra 'hola' como booleano:\", bool(\"hola\"))\n",
    "print(\"Un espacio '' como booleano:\", bool(\"\"))"
   ]
  },
  {
   "cell_type": "code",
   "execution_count": null,
   "metadata": {},
   "outputs": [],
   "source": [
    "print(\"True como int:\", int(True))\n",
    "print(\"False como int:\", int(False))"
   ]
  },
  {
   "cell_type": "code",
   "execution_count": null,
   "metadata": {},
   "outputs": [],
   "source": [
    "palabraTrue = str(True)\n",
    "palabraFalse = str(False)\n",
    "print(\"Tipo palabra True:\", type(palabraTrue))\n",
    "print(\"Tipo palabra False:\", type(palabraFalse))\n",
    "print(\"True como str:\", palabraTrue)\n",
    "print(\"False como str:\", palabraFalse)"
   ]
  },
  {
   "cell_type": "markdown",
   "metadata": {},
   "source": [
    "## Tipo de Dato Texto o **`str`**"
   ]
  },
  {
   "cell_type": "markdown",
   "metadata": {},
   "source": [
    "Un *string* es una secuencia de caracteres. Los textos o *strings* son un tipo de dato utilizado para guardar secuencias o cadenas de caracteres: letras, palabras, oraciones, texto, etc."
   ]
  },
  {
   "cell_type": "code",
   "execution_count": null,
   "metadata": {},
   "outputs": [],
   "source": [
    "nombre = \"Juan\"\n",
    "apellido = 'Lopez'\n",
    "\n",
    "nombre_completo = 'Juan \"El Mago\" Lopez'\n",
    "\n",
    "print(nombre)\n",
    "print(apellido)\n",
    "print()\n",
    "print(nombre_completo)"
   ]
  },
  {
   "cell_type": "markdown",
   "metadata": {},
   "source": [
    "Recuerdan que decíamos que al llamar la instrucción **`input()`** que todo lo ingresado por el usuario sería almacenado como texto?\n",
    "\n",
    "Bueno, resulta que **¡también podemos convertir *strings* a números y viceversa!**, así podemos operar con ellos.\n"
   ]
  },
  {
   "cell_type": "code",
   "execution_count": null,
   "metadata": {},
   "outputs": [],
   "source": [
    "numero_como_str = \"3\"\n",
    "numero = 3\n",
    "\n",
    "print(numero_como_str == numero)\n",
    "print(numero_como_str == str(numero))\n",
    "print(numero_como_str * 4)\n",
    "print(numero * 4)"
   ]
  },
  {
   "cell_type": "markdown",
   "metadata": {},
   "source": [
    "Vale la pena notar que **un mismo operador puede realizar una operación para un tipo de dato y otra para otro tipo**.\n",
    "\n",
    "Así, por ejemplo, cuando se multiplican enteros se realiza lo que naturalmente conocemos como multiplicación. En cambio, si multiplicamos un *string* por un número lo que se hace es replicar y unir (o concatenar) el *string* tantas veces como lo indique el multiplicador."
   ]
  },
  {
   "cell_type": "markdown",
   "metadata": {},
   "source": [
    "### Operaciones con *Strings*\n",
    "\n",
    "Se pueden realizar muchas operaciones con *strings* que serán de suma utilidad.\n",
    "\n",
    "- **x + y**: En esta operacion se agrega al final del *string* x el contenido de y."
   ]
  },
  {
   "cell_type": "code",
   "execution_count": null,
   "metadata": {},
   "outputs": [],
   "source": [
    "x = 'ho'\n",
    "y = 'la'\n",
    "print(x + y)\n",
    "print(y + x)"
   ]
  },
  {
   "cell_type": "markdown",
   "metadata": {},
   "source": [
    "\n",
    "\n",
    "*   **x * 2**: multiplicar el *string*.\n",
    "\n"
   ]
  },
  {
   "cell_type": "code",
   "execution_count": null,
   "metadata": {},
   "outputs": [],
   "source": [
    "x = 'yeah '\n",
    "print(x * 2)\n",
    "print(x * 4)"
   ]
  },
  {
   "cell_type": "markdown",
   "metadata": {},
   "source": [
    "¿Y se cumplen las mismas reglas de precedencia? Sí!"
   ]
  },
  {
   "cell_type": "code",
   "execution_count": null,
   "metadata": {},
   "outputs": [],
   "source": [
    "x = 'kn'\n",
    "y = 'ock'\n",
    "z = ', '\n",
    "print((x + y + z) * 3)\n",
    "print(x + y + z * 3)"
   ]
  },
  {
   "cell_type": "markdown",
   "metadata": {},
   "source": [
    " - **len**( $string$ ): Permite obtener el tamaño de un *string*. Es decir, la cantidad de caracteres de esa cadena."
   ]
  },
  {
   "cell_type": "code",
   "execution_count": null,
   "metadata": {},
   "outputs": [],
   "source": [
    "x = \"Hola\"\n",
    "y = 'Adios'\n",
    "z = 'Adios  !'\n",
    "\n",
    "print('La cantidad de caracteres de', x, 'es',len(x))\n",
    "print('La cantidad de caracteres de', y, 'es',len(y))\n",
    "print('La cantidad de caracteres de', z, 'es',len(z))"
   ]
  },
  {
   "cell_type": "markdown",
   "metadata": {},
   "source": [
    " - **.startswith**( $algo$ ): Le preguntamos al *string* si empieza con cierto texto."
   ]
  },
  {
   "cell_type": "code",
   "execution_count": null,
   "metadata": {},
   "outputs": [],
   "source": [
    "x = 'hola'\n",
    "print(x.startswith('h'))\n",
    "print(x.startswith('x'))"
   ]
  },
  {
   "cell_type": "code",
   "execution_count": null,
   "metadata": {},
   "outputs": [],
   "source": [
    "x = 'hola como estás'\n",
    "print(x.startswith('hola'))\n",
    "print(x.startswith('Hola'))"
   ]
  },
  {
   "cell_type": "markdown",
   "metadata": {},
   "source": [
    " - **.endswith**( $algo$ ): Le preguntamos al *string* si termina con cierto texto."
   ]
  },
  {
   "cell_type": "code",
   "execution_count": null,
   "metadata": {},
   "outputs": [],
   "source": [
    "x = 'hola'\n",
    "print(x.endswith('h'))\n",
    "print(x.endswith('a'))"
   ]
  },
  {
   "cell_type": "markdown",
   "metadata": {},
   "source": [
    " - **.find**( $algo$ ): Le preguntamos al *string* en qué posición se encuentra cierto conjunto de caracteres. "
   ]
  },
  {
   "cell_type": "code",
   "execution_count": null,
   "metadata": {},
   "outputs": [],
   "source": [
    "x = 'hola'\n",
    "print(x.find('ho'))\n",
    "print(x.find('ol'))\n",
    "print(x.find('la'))"
   ]
  },
  {
   "cell_type": "markdown",
   "metadata": {},
   "source": [
    " - Otra forma de preguntar si cierto texto está contenido en un string es usando la palabra clave **`in`**."
   ]
  },
  {
   "cell_type": "code",
   "execution_count": null,
   "metadata": {},
   "outputs": [],
   "source": [
    "x = 'hola que tal'\n",
    "print(\"ue\" in x)\n",
    "print(\" ue\" in x)"
   ]
  },
  {
   "cell_type": "markdown",
   "metadata": {},
   "source": [
    " - **[ *índice* ]**: Se pueden obtener letras de un *string*. Entre corchetes se indica el *índice* de la letra deseada, empezando a contar desde cero."
   ]
  },
  {
   "cell_type": "code",
   "execution_count": null,
   "metadata": {},
   "outputs": [],
   "source": [
    "x = 'hola'\n",
    "\n",
    "print(x[0])\n",
    "print(x[1])\n",
    "print(x[2])\n",
    "print(x[3])\n",
    "\n",
    "print(x[3]+x[2]+x[1]+x[0]+x[3])"
   ]
  },
  {
   "cell_type": "markdown",
   "metadata": {},
   "source": [
    " - **[ *comienzo* : *fin* ]**: Se puede obtener una secuencia consecutiva de letras de un *string*. Entre corchetes se indica el índice de la primer letra deseada, luego dos puntos, luego el índice de la última letra (la última letra no será incluída)."
   ]
  },
  {
   "cell_type": "code",
   "execution_count": null,
   "metadata": {},
   "outputs": [],
   "source": [
    "x = 'programacion'\n",
    "\n",
    "#  p   r   o   g   r   a   m   a   c   i   o   n\n",
    "#  0   1   2   3   4   5   6   7   8   9   10  11\n",
    "# -12 -11 -10 -9  -8  -7  -6  -5  -4  -3  -2  -1\n",
    "\n",
    "print( x[0:8] )\n",
    "print( x[4:8] )\n",
    "\n",
    "# Se pueden usar signos negativos para referir los índices desde el final para atras\n",
    "print( x[-7:-4] )\n",
    "\n",
    "# Se puede omitir el parametro de fin para seguir hasta el final\n",
    "print( x[8: ])\n",
    "\n",
    "# Se puede omitir el parametro de inicio para comenzar desde el principio\n",
    "print( x[ :8])"
   ]
  },
  {
   "cell_type": "markdown",
   "metadata": {},
   "source": [
    " - **[ *comienzo* : *fin* : *salto* ]**: Se puede obtener una secuencia de letras a una separación regular de un *string*. Entre corchetes se indica el índice de la primer letra deseada, luego dos puntos, luego el índice de la última letra, luego 2 puntos, luego el salto entre letra y letra (la última letra no será incluída)."
   ]
  },
  {
   "cell_type": "code",
   "execution_count": null,
   "metadata": {},
   "outputs": [],
   "source": [
    "x = 'Curso de Python'\n",
    "\n",
    "#  C   u   r   s   o       d   e       P   y   t   h   o   n  \n",
    "#  0   1   2   3   4   5   6   7   8   9   10  11  12 13  14\n",
    "\n",
    "print( x[0:5:2] )\n",
    "\n",
    "# Se pueden usar signos negativos para referir los índices desde el final hacia atrás\n",
    "# Se puede omitir el parametro de inicio para comenzar desde el principio\n",
    "# Se puede omitir el parametro de fin para seguir hasta el final\n",
    "print( x[0: :3] )\n",
    "\n",
    "# Se puede usar un salto negativo para recorrer el string en sentido inverso\n",
    "print( x[11:1:-2] )\n",
    "# Se puede invertir un string de la siguiente forma\n",
    "print( x[ : :-1] )"
   ]
  },
  {
   "cell_type": "markdown",
   "metadata": {},
   "source": [
    "\n",
    "*   **.split()**: Se puede dividir un *string* a partir de un caracter que funciona como separador. Esto nos devuelve un tipo de datos que veremos más adelante!"
   ]
  },
  {
   "cell_type": "code",
   "execution_count": null,
   "metadata": {},
   "outputs": [],
   "source": [
    "lista_verduleria = 'papa,zanahoria,calabaza'\n",
    "print(lista_verduleria.split(','))"
   ]
  },
  {
   "cell_type": "code",
   "execution_count": null,
   "metadata": {},
   "outputs": [],
   "source": [
    "otra_lista_verduleria = 'papa-tomate-choclo'\n",
    "print(otra_lista_verduleria.split('-'))"
   ]
  },
  {
   "cell_type": "markdown",
   "metadata": {},
   "source": [
    "*   **.replace()**: reemplazar un conjunto de caracteres por otro conjunto de caracteres en un *string*.\n"
   ]
  },
  {
   "cell_type": "code",
   "execution_count": null,
   "metadata": {},
   "outputs": [],
   "source": [
    "numeros = '1 2 2 1 1 2 1 2'\n",
    "print(numeros)\n",
    "print(numeros.replace('2','3'))\n",
    "print(numeros.replace('2','3', 2))"
   ]
  },
  {
   "cell_type": "markdown",
   "metadata": {},
   "source": [
    "* **.upper() y .lower()**: llevar todo el texto a mayúsculas o minúsculas, respectivamente."
   ]
  },
  {
   "cell_type": "code",
   "execution_count": null,
   "metadata": {},
   "outputs": [],
   "source": [
    "saludo = \"HoLa CóMo Va?\"\n",
    "print(saludo.upper())\n",
    "print(saludo.lower())\n",
    "print(saludo.capitalize())\n",
    "print(saludo.title())"
   ]
  },
  {
   "cell_type": "markdown",
   "metadata": {},
   "source": [
    "* **.strip()**: permite quitar espacios al comienzo y al final del string."
   ]
  },
  {
   "cell_type": "code",
   "execution_count": null,
   "metadata": {},
   "outputs": [],
   "source": [
    "saludo = '     Buen dia!!    '\n",
    "saludo.strip()"
   ]
  },
  {
   "cell_type": "code",
   "execution_count": null,
   "metadata": {},
   "outputs": [],
   "source": [
    "saludo.rstrip()"
   ]
  },
  {
   "cell_type": "code",
   "execution_count": null,
   "metadata": {},
   "outputs": [],
   "source": [
    "saludo.lstrip()"
   ]
  },
  {
   "cell_type": "markdown",
   "metadata": {},
   "source": [
    "#### 📚 **Ejercicio 2:** Strings\n",
    "\n",
    "1. Pedir a un usuario que ingrese su fruta favorita y *normalizar* el input de forma que permita verificar si la fruta favorita es la \"naranja\". Verificarlo e imprimir el resultado.\n",
    "\n",
    "2. Hacer un programa que permita ingresar un nombre y un apellido usando dos veces la función input( ). Luego debe crear la variable *nombre_y_apellido* que contenga ambos datos separados por un espacio.\n",
    "> Un fabricante de tarjetas admite la impresión de hasta 26 caracteres para el nombre del dueño de la tarjeta, el programa debe imprimir \"Nombre admitido = True/False\" si *nombre_y_apellido* cumple o no con esta restricción (el espacio cuenta como uno de los 26 caracteres disponibles)."
   ]
  },
  {
   "cell_type": "code",
   "execution_count": null,
   "metadata": {},
   "outputs": [],
   "source": [
    "# Código Ejercicio 2 Apartado 1"
   ]
  },
  {
   "cell_type": "code",
   "execution_count": null,
   "metadata": {},
   "outputs": [],
   "source": [
    "# Código Ejercicio 2 Apartado 2"
   ]
  }
 ],
 "metadata": {
  "kernelspec": {
   "display_name": "Python 3 (ipykernel)",
   "language": "python",
   "name": "python3"
  },
  "language_info": {
   "codemirror_mode": {
    "name": "ipython",
    "version": 3
   },
   "file_extension": ".py",
   "mimetype": "text/x-python",
   "name": "python",
   "nbconvert_exporter": "python",
   "pygments_lexer": "ipython3",
   "version": "3.7.6"
  }
 },
 "nbformat": 4,
 "nbformat_minor": 4
}
