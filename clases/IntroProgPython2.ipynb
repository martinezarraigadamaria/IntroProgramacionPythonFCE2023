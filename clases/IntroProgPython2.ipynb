{
 "cells": [
  {
   "cell_type": "markdown",
   "metadata": {},
   "source": [
    "<h1 align=\"center\">¡Abrir el notebook desde Colab!</h1>\n",
    "<br>\n",
    "\n",
    "<p align=\"center\">\n",
    "<a href=\"https://colab.research.google.com/github/martinezarraigadamaria/IntroProgramacionPythonFCE2023/blob/master/clases/IntroProgPython2.ipynb\" target=\"_parent\"><img src=\"https://colab.research.google.com/assets/colab-badge.svg\" alt=\"Open In Colab\"/></a>\n",
    "</p>"
   ]
  },
  {
   "cell_type": "markdown",
   "metadata": {},
   "source": [
    "## Temario\n",
    "\n",
    "---\n",
    "\n",
    "> Tipos de datos: int, float, string, boolean.\n",
    "\n",
    "> Control de Flujos.\n"
   ]
  },
  {
   "cell_type": "markdown",
   "metadata": {},
   "source": [
    "<h1> Tipos de Datos </h1>"
   ]
  },
  {
   "cell_type": "markdown",
   "metadata": {},
   "source": [
    "Ya vimos que es posible almacenar, a través de una variable, distintos tipos de datos: utilizamos variables numéricas para realizar operaciones aritméticas y lógicas, almacenamos e imprimimos textos y vimos que el resultado de las operaciones lógicas eran los valores `True` o `False` (conocidos como *booleanos*).\n",
    "\n",
    "Todos estos son **distintos tipos de datos**, que tienen diferentes propiedades y nos servirán para distintos propósitos al momento de escribir un programa. Una primera gran división que podemos hacer entre los tipos de datos es:\n",
    "\n",
    "- Datos de tipo numérico\n",
    "- Datos de tipo texto (o *string*)\n",
    "\n",
    "A continuación, veremos con más detalle con cuáles posibles tipos de datos nos podemos encontrar.\n",
    "\n",
    "**TIP:** Para conocer el tipo de dato de cualquier variable `x`, podemos usar la función `type(x)`."
   ]
  },
  {
   "cell_type": "markdown",
   "metadata": {},
   "source": [
    "## Tipos de Datos Numéricos\n",
    "\n",
    "Existe una subclasificación para distintos tipos de números. Un entero no ocupará el mismo espacio en memoria que un número con varios dígitos en su parte decimal. Para diferenciar estos números, usaremos los tipos `int` y `float`."
   ]
  },
  {
   "cell_type": "markdown",
   "metadata": {},
   "source": [
    "### Tipo de Dato `int`\n",
    "Este tipo es el tipo de dato más básico, en donde pueden almacenarse números enteros (ya sean positivos o negativos)."
   ]
  },
  {
   "cell_type": "code",
   "execution_count": null,
   "metadata": {},
   "outputs": [],
   "source": [
    "dias = 5\n",
    "print('dias =', dias)\n",
    "print(type(dias))"
   ]
  },
  {
   "cell_type": "markdown",
   "metadata": {},
   "source": [
    "A veces, operando con datos enteros podemos obtener números fraccionarios o racionales, por ejemplo:"
   ]
  },
  {
   "cell_type": "code",
   "execution_count": null,
   "metadata": {},
   "outputs": [],
   "source": [
    "x = input(\"Ingrese dividendo:\")\n",
    "y = input(\"Ingrese divisor:\")\n",
    "\n",
    "print()\n",
    "print('Tipos del Input:')\n",
    "print('x:', type(x))\n",
    "print('y:', type(y))\n",
    "\n",
    "x = int(x)\n",
    "y = int(y)\n",
    "\n",
    "print()\n",
    "#El casteo (casting) es un procedimiento para transformar \n",
    "#una variable primitiva de un tipo a otro.\n",
    "print('Tipos del Input Casteado:')\n",
    "print('x:', type(x))\n",
    "print('y:', type(y))\n",
    "\n",
    "cociente = x/y\n",
    "\n",
    "print()\n",
    "print(\"Resultado:\", cociente)\n",
    "print(\"Tipo del Resultado:\", type(cociente))"
   ]
  },
  {
   "cell_type": "markdown",
   "metadata": {},
   "source": [
    "En este caso, si nos interesa obtener únicamente la parte entera de la división, podemos usar el operador **división entera: //**, con lo cual se va a mantener el tipo `int` del resultado:"
   ]
  },
  {
   "cell_type": "code",
   "execution_count": null,
   "metadata": {},
   "outputs": [],
   "source": [
    "x = int(input(\"Ingrese dividendo:\"))\n",
    "y = int(input(\"Ingrese divisor:\"))\n",
    "\n",
    "print()\n",
    "print('Tipos del Input Casteado:')\n",
    "print('x:', type(x))\n",
    "print('y:', type(y))\n",
    "\n",
    "cociente_entero = x//y\n",
    "\n",
    "print()\n",
    "print(\"Resultado División Entera:\", cociente_entero)\n",
    "print(\"Tipo del Resultado División Entera:\", type(cociente_entero))"
   ]
  },
  {
   "cell_type": "markdown",
   "metadata": {},
   "source": [
    "Por otro lado, si queremos saber el resto de la división entera, usaremos el operador **módulo %** que fue explicado previamente, y también mantendrá el tipo `int` del resultado:"
   ]
  },
  {
   "cell_type": "code",
   "execution_count": null,
   "metadata": {},
   "outputs": [],
   "source": [
    "x = int(input(\"Ingrese dividendo:\"))\n",
    "y = int(input(\"Ingrese divisor:\"))\n",
    "\n",
    "cociente_entero = x // y\n",
    "resto = x % y\n",
    "\n",
    "print(\"Resultado División Entera =\", cociente_entero)  # Redondea division al entero menor\n",
    "print(\"Tipo Resultado División Entera =\", type(cociente_entero))\n",
    "print(\"Resto =\", resto)  # Operación Módulo\n",
    "print(\"Tipo Resto =\", type(resto))"
   ]
  },
  {
   "cell_type": "markdown",
   "metadata": {},
   "source": [
    "### Tipo de Dato `float`\n",
    "Este tipo de dato es utilizado para almacenar números que pueden contener decimales."
   ]
  },
  {
   "cell_type": "code",
   "execution_count": null,
   "metadata": {},
   "outputs": [],
   "source": [
    "pi = 3.14\n",
    "x = 3.    # Alcanza para indicar que es un numero real con el \".\" \n",
    "z = 3     # Este será un número entero\n",
    "print(\"pi =\", pi)\n",
    "print(\"Tipo de pi =\", type(pi))\n",
    "print(\"x =\", x)\n",
    "print(\"Tipo de x =\", type(x))\n",
    "print(\"z =\", z)\n",
    "print(\"Tipo de z =\", type(z))"
   ]
  },
  {
   "cell_type": "markdown",
   "metadata": {},
   "source": [
    "Si queremos conseguir el entero sin la parte decimal de un **`float`**, podemos simplemente **convertirlo a `int`**. Para ello utilizamos la función propia de Python `int()`"
   ]
  },
  {
   "cell_type": "code",
   "execution_count": null,
   "metadata": {},
   "outputs": [],
   "source": [
    "y = 3.14\n",
    "x = int(y)\n",
    "print(\"x =\", x)\n",
    "print(\"Tipo de x =\", type(x))"
   ]
  },
  {
   "cell_type": "markdown",
   "metadata": {},
   "source": [
    "Para que Python interprete que el usuario ha ingresado un número real (de tipo `float`) usando la instrucción `input()`, debemos realizar un *casteo* con la función `float()`"
   ]
  },
  {
   "cell_type": "code",
   "execution_count": null,
   "metadata": {},
   "outputs": [],
   "source": [
    "real = float( input(\"Ingrese un número: \") )\n",
    "\n",
    "print(\"Tipo del input casteado =\", type(real))\n",
    "print(\"El doble del numero ingresado es =\", real*2)"
   ]
  },
  {
   "cell_type": "markdown",
   "metadata": {},
   "source": [
    "Es importante tener en cuenta que **los *float* no pueden ser infinitamente precisos**, ya que para eso necesitaríamos infinita memoria (recordar que cada variable que usamos se guarda en memoria). De hecho, Python ni siquiera puede expresar de manera exacta el número 0.1, pero sí 0.5. Para leer más al respecto, podemos visitar https://es.wikipedia.org/wiki/Formato_en_coma_flotante_de_doble_precisi%C3%B3n.\n",
    "\n",
    "Como consecuencia, los números con decimales suelen tener una pequeña diferencia con el valor que realmente deseamos y, por esto, cuando trabajamos con *floats*, suele ser recomendable realizar comparaciones del tipo `>` ó `<`, en lugar de `==` ó `!=`, dado que pueden surgir problemas o resultados no esperados.\n",
    "\n",
    "¿Cuál es el problema de estos programas?"
   ]
  },
  {
   "cell_type": "code",
   "execution_count": null,
   "metadata": {},
   "outputs": [],
   "source": [
    "a = 1/3\n",
    "b = 2/3\n",
    "c = a + b\n",
    "\n",
    "print('a =', a)\n",
    "print('b =', b)\n",
    "print('c =', c)\n",
    "print('Resultado operación inversa (c-b) =', c-b)\n",
    "print('¿a y (c-b) son iguales?', c-b == a)"
   ]
  },
  {
   "cell_type": "code",
   "execution_count": null,
   "metadata": {},
   "outputs": [],
   "source": [
    "#¿Qué pasa con el valor absoludo de la diferencia entre a y (c-b)?\n",
    "\n",
    "valor_absoluto = abs(a - (c-b))\n",
    "print('El valor absoluto de la diferencia es', valor_absoluto)\n",
    "print()\n",
    "\n",
    "print('¿El valor absoluto es menor que 1e-10?', valor_absoluto <= 1e-10)"
   ]
  },
  {
   "cell_type": "markdown",
   "metadata": {},
   "source": [
    "Muchas veces es necesario redondear un número decimal, ya sea para obtener un número entero o un número con menor cantidad de decimales. Esto se puede lograr con el comando `round()`, el cual permite indicar la cantidad de decimales a redondear. Si no se indica la cantidad de decimales asume por defecto que el resultado será un número entero."
   ]
  },
  {
   "cell_type": "code",
   "execution_count": null,
   "metadata": {},
   "outputs": [],
   "source": [
    "numero = 1234.56789\n",
    "\n",
    "x = round(numero)\n",
    "y = round(numero, 2)\n",
    "z = int(numero)\n",
    "\n",
    "print(x, y, z)"
   ]
  },
  {
   "cell_type": "markdown",
   "metadata": {},
   "source": [
    "#### 📚 **Ejercicio 1:** Floats\n",
    "\n",
    "1. Crear un programa que convierta grados **Celsius** a grados **Farenheit** (https://es.wikipedia.org/wiki/Grado_Fahrenheit). El usuario ingresa un valor de grados Celsius y el programa muestra el valor de grados Farenheit que representan como resultado.\n",
    "\n",
    "2. Crear un programa para transformar minutos en horas. El usuario ingresa una cantidad de minutos y el programa, como resultado, muestra las horas que representan esa cantidad de minutos."
   ]
  },
  {
   "cell_type": "code",
   "execution_count": null,
   "metadata": {},
   "outputs": [],
   "source": [
    "# Código Ejercicio 1 Apartado 1"
   ]
  },
  {
   "cell_type": "code",
   "execution_count": null,
   "metadata": {},
   "outputs": [],
   "source": [
    "# Código Ejercicio 1 Apartado 2"
   ]
  },
  {
   "cell_type": "markdown",
   "metadata": {},
   "source": [
    "### Tipo de Dato `boolean`\n",
    "Este es un tipo de dato que puede tomar sólo dos valores distintos: **`True`** (Verdadero) o **`False`** (Falso)"
   ]
  },
  {
   "cell_type": "code",
   "execution_count": null,
   "metadata": {},
   "outputs": [],
   "source": [
    "llueve = False\n",
    "soleado = True\n",
    "print(not llueve == soleado)"
   ]
  },
  {
   "cell_type": "markdown",
   "metadata": {},
   "source": [
    "Como lo habrán notado, ya veníamos usando este tipo de datos implícitamente: **las comparaciones devuelven booleanos**.\n",
    "\n",
    "Prácticamente cualquier dato puede *castearse* (convertirse) a `boolean`. Para los números, 0 es `False` y cualquier otro es `True`. Para otros tipos de datos, en general, son `False` si están \"vacíos\" y `True` en los demás casos.\n",
    "\n",
    "La función que se utiliza para *castear* a booleano es `bool()`"
   ]
  },
  {
   "cell_type": "code",
   "execution_count": null,
   "metadata": {},
   "outputs": [],
   "source": [
    "print(\"Si se castea un 0 a bool: \", bool(0))\n",
    "print(\"Si se castea un 1 a bool: \", bool(1))\n",
    "print(\"Si se castea un -1 a bool: \", bool(-1))\n",
    "print(\"Si se castea un 0.0 a bool: \", bool(0.0))\n",
    "print(\"Si se castea un 1.0 a bool: \", bool(1.0))\n",
    "print(\"Si se castea un 0.01 a bool: \",bool(0.01))"
   ]
  },
  {
   "cell_type": "code",
   "execution_count": null,
   "metadata": {},
   "outputs": [],
   "source": [
    "print(\"La palabra 'hola' como booleano:\", bool(\"hola\"))\n",
    "print(\"Un espacio '' como booleano:\", bool(\"\"))"
   ]
  },
  {
   "cell_type": "code",
   "execution_count": null,
   "metadata": {},
   "outputs": [],
   "source": [
    "print(\"True como int:\", int(True))\n",
    "print(\"False como int:\", int(False))"
   ]
  },
  {
   "cell_type": "code",
   "execution_count": null,
   "metadata": {},
   "outputs": [],
   "source": [
    "palabraTrue = str(True)\n",
    "palabraFalse = str(False)\n",
    "print(\"Tipo palabra True:\", type(palabraTrue))\n",
    "print(\"Tipo palabra False:\", type(palabraFalse))\n",
    "print(\"True como str:\", palabraTrue)\n",
    "print(\"False como str:\", palabraFalse)"
   ]
  },
  {
   "cell_type": "markdown",
   "metadata": {},
   "source": [
    "## Tipo de Dato Texto o `str`"
   ]
  },
  {
   "cell_type": "markdown",
   "metadata": {},
   "source": [
    "Un *string* es una secuencia de caracteres. Los textos o *strings* son un tipo de dato utilizado para guardar secuencias o cadenas de caracteres: letras, palabras, oraciones, texto, etc."
   ]
  },
  {
   "cell_type": "code",
   "execution_count": null,
   "metadata": {},
   "outputs": [],
   "source": [
    "nombre = \"Juan\"\n",
    "apellido = 'Lopez'\n",
    "\n",
    "nombre_completo = 'Juan \"El Mago\" Lopez'\n",
    "\n",
    "print(nombre)\n",
    "print(apellido)\n",
    "print()\n",
    "print(nombre_completo)"
   ]
  },
  {
   "cell_type": "markdown",
   "metadata": {},
   "source": [
    "Recuerdan que decíamos que al llamar la instrucción `input()` que todo lo ingresado por el usuario sería almacenado como texto?\n",
    "\n",
    "Bueno, resulta que **¡también podemos convertir *strings* a números y viceversa!**, así podemos operar con ellos.\n"
   ]
  },
  {
   "cell_type": "code",
   "execution_count": null,
   "metadata": {},
   "outputs": [],
   "source": [
    "numero_como_str = \"3\"\n",
    "numero = 3\n",
    "\n",
    "print(numero_como_str == numero)\n",
    "print(numero_como_str == str(numero))\n",
    "print(numero_como_str * 4)\n",
    "print(numero * 4)"
   ]
  },
  {
   "cell_type": "markdown",
   "metadata": {},
   "source": [
    "Vale la pena notar que **un mismo operador puede realizar una operación para un tipo de dato y otra para otro tipo**.\n",
    "\n",
    "Así, por ejemplo, cuando se multiplican enteros se realiza lo que naturalmente conocemos como multiplicación. En cambio, si multiplicamos un *string* por un número lo que se hace es replicar y unir (o concatenar) el *string* tantas veces como lo indique el multiplicador."
   ]
  },
  {
   "cell_type": "markdown",
   "metadata": {},
   "source": [
    "### Operaciones con *Strings*\n",
    "\n",
    "Se pueden realizar muchas operaciones con *strings* que serán de suma utilidad.\n",
    "\n",
    "- **x + y**: En esta operacion se agrega al final del *string* x el contenido de y."
   ]
  },
  {
   "cell_type": "code",
   "execution_count": null,
   "metadata": {},
   "outputs": [],
   "source": [
    "x = 'ho'\n",
    "y = 'la'\n",
    "print(x + y)\n",
    "print(y + x)"
   ]
  },
  {
   "cell_type": "markdown",
   "metadata": {},
   "source": [
    "\n",
    "\n",
    "*   **x * 2**: multiplicar el *string*.\n",
    "\n"
   ]
  },
  {
   "cell_type": "code",
   "execution_count": null,
   "metadata": {},
   "outputs": [],
   "source": [
    "x = 'yeah '\n",
    "print(x * 2)\n",
    "print(x * 4)"
   ]
  },
  {
   "cell_type": "markdown",
   "metadata": {},
   "source": [
    "¿Y se cumplen las mismas reglas de precedencia? Sí!"
   ]
  },
  {
   "cell_type": "code",
   "execution_count": null,
   "metadata": {},
   "outputs": [],
   "source": [
    "x = 'kn'\n",
    "y = 'ock'\n",
    "z = ', '\n",
    "print((x + y + z) * 3)\n",
    "print(x + y + z * 3)"
   ]
  },
  {
   "cell_type": "markdown",
   "metadata": {},
   "source": [
    " - **len**( $string$ ): Permite obtener el tamaño de un *string*. Es decir, la cantidad de caracteres de esa cadena."
   ]
  },
  {
   "cell_type": "code",
   "execution_count": null,
   "metadata": {},
   "outputs": [],
   "source": [
    "x = \"Hola\"\n",
    "y = 'Adios'\n",
    "z = 'Adios  !'\n",
    "\n",
    "print('La cantidad de caracteres de', x, 'es',len(x))\n",
    "print('La cantidad de caracteres de', y, 'es',len(y))\n",
    "print('La cantidad de caracteres de', z, 'es',len(z))"
   ]
  },
  {
   "cell_type": "markdown",
   "metadata": {},
   "source": [
    " - **.startswith**( $algo$ ): Le preguntamos al *string* si empieza con cierto texto."
   ]
  },
  {
   "cell_type": "code",
   "execution_count": null,
   "metadata": {},
   "outputs": [],
   "source": [
    "x = 'hola'\n",
    "print(x.startswith('h'))\n",
    "print(x.startswith('x'))"
   ]
  },
  {
   "cell_type": "code",
   "execution_count": null,
   "metadata": {},
   "outputs": [],
   "source": [
    "x = 'hola como estás'\n",
    "print(x.startswith('hola'))\n",
    "print(x.startswith('Hola'))"
   ]
  },
  {
   "cell_type": "markdown",
   "metadata": {},
   "source": [
    " - **.endswith**( $algo$ ): Le preguntamos al *string* si termina con cierto texto."
   ]
  },
  {
   "cell_type": "code",
   "execution_count": null,
   "metadata": {},
   "outputs": [],
   "source": [
    "x = 'hola'\n",
    "print(x.endswith('h'))\n",
    "print(x.endswith('a'))"
   ]
  },
  {
   "cell_type": "markdown",
   "metadata": {},
   "source": [
    " - **.find**( $algo$ ): Le preguntamos al *string* en qué posición se encuentra cierto conjunto de caracteres. Otra forma de preguntar si cierto texto está contenido en un string es usando la palabra clave `in`"
   ]
  },
  {
   "cell_type": "code",
   "execution_count": null,
   "metadata": {},
   "outputs": [],
   "source": [
    "x = 'hola'\n",
    "print(x.find('ho'))\n",
    "print(x.find('ol'))\n",
    "print(x.find('la'))\n",
    "print(\"la\" in x)"
   ]
  },
  {
   "cell_type": "markdown",
   "metadata": {},
   "source": [
    " - **[ *índice* ]**: Se pueden obtener letras de un *string*. Entre corchetes se indica el *índice* de la letra deseada, empezando a contar desde cero."
   ]
  },
  {
   "cell_type": "code",
   "execution_count": null,
   "metadata": {},
   "outputs": [],
   "source": [
    "x = 'hola'\n",
    "\n",
    "print(x[0])\n",
    "print(x[1])\n",
    "print(x[2])\n",
    "print(x[3])\n",
    "\n",
    "print(x[3]+x[2]+x[1]+x[0]+x[3])"
   ]
  },
  {
   "cell_type": "markdown",
   "metadata": {},
   "source": [
    " - **[ *comienzo* : *fin* ]**: Se puede obtener una secuencia consecutiva de letras de un *string*. Entre corchetes se indica el índice de la primer letra deseada, luego dos puntos, luego el índice de la última letra (la última letra no será incluída)."
   ]
  },
  {
   "cell_type": "code",
   "execution_count": null,
   "metadata": {},
   "outputs": [],
   "source": [
    "x = 'programacion'\n",
    "\n",
    "#  p   r   o   g   r   a   m   a   c   i   o   n\n",
    "#  0   1   2   3   4   5   6   7   8   9   10  11\n",
    "# -12 -11 -10 -9  -8  -7  -6  -5  -4  -3  -2  -1\n",
    "\n",
    "print( x[0:8] )\n",
    "print( x[4:8] )\n",
    "\n",
    "# Se pueden usar signos negativos para referir los índices desde el final para atras\n",
    "print( x[-7:-4] )\n",
    "\n",
    "# Se puede omitir el parametro de fin para seguir hasta el final\n",
    "print( x[8: ])\n",
    "\n",
    "# Se puede omitir el parametro de inicio para comenzar desde el principio\n",
    "print( x[ :8])"
   ]
  },
  {
   "cell_type": "markdown",
   "metadata": {},
   "source": [
    " - **[ *comienzo* : *fin* : *salto* ]**: Se puede obtener una secuencia de letras a una separación regular de un *string*. Entre corchetes se indica el índice de la primer letra deseada, luego dos puntos, luego el índice de la última letra, luego 2 puntos, luego el salto entre letra y letra (la última letra no será incluída)."
   ]
  },
  {
   "cell_type": "code",
   "execution_count": null,
   "metadata": {},
   "outputs": [],
   "source": [
    "x = 'Curso de Python'\n",
    "\n",
    "#  C   u   r   s   o       d   e       P   y   t   h   o   n  \n",
    "#  0   1   2   3   4   5   6   7   8   9   10  11  12 13  14\n",
    "\n",
    "print( x[0:5:2] )\n",
    "\n",
    "# Se pueden usar signos negativos para referir los índices desde el final hacia atrás\n",
    "# Se puede omitir el parametro de inicio para comenzar desde el principio\n",
    "# Se puede omitir el parametro de fin para seguir hasta el final\n",
    "print( x[0: :3] )\n",
    "\n",
    "# Se puede usar un salto negativo para recorrer el string en sentido inverso\n",
    "print( x[11:1:-2] )\n",
    "# Se puede invertir un string de la siguiente forma\n",
    "print( x[ : :-1] )"
   ]
  },
  {
   "cell_type": "markdown",
   "metadata": {},
   "source": [
    "\n",
    "*   **.split()**: Se puede dividir un *string* a partir de un caracter que funciona como separador. Esto nos devuelve un tipo de datos que veremos más adelante!"
   ]
  },
  {
   "cell_type": "code",
   "execution_count": null,
   "metadata": {},
   "outputs": [],
   "source": [
    "lista_verduleria = 'papa,zanahoria,calabaza'\n",
    "print(lista_verduleria.split(','))"
   ]
  },
  {
   "cell_type": "code",
   "execution_count": null,
   "metadata": {},
   "outputs": [],
   "source": [
    "otra_lista_verduleria = 'papa-tomate-choclo'\n",
    "print(otra_lista_verduleria.split('-'))"
   ]
  },
  {
   "cell_type": "markdown",
   "metadata": {},
   "source": [
    "*   **.replace()**: reemplazar un conjunto de caracteres por otro conjunto de caracteres en un *string*.\n"
   ]
  },
  {
   "cell_type": "code",
   "execution_count": null,
   "metadata": {},
   "outputs": [],
   "source": [
    "numeros = '1 2 2 1 1 2 1 2'\n",
    "print(numeros)\n",
    "print(numeros.replace('2','3'))\n",
    "print(numeros.replace('2','3', 2))"
   ]
  },
  {
   "cell_type": "markdown",
   "metadata": {},
   "source": [
    "* **.upper() y .lower()**: llevar todo el texto a mayúsculas o minúsculas, respectivamente."
   ]
  },
  {
   "cell_type": "code",
   "execution_count": null,
   "metadata": {},
   "outputs": [],
   "source": [
    "saludo = \"HoLa CóMo Va?\"\n",
    "print(saludo.upper())\n",
    "print(saludo.lower())"
   ]
  },
  {
   "cell_type": "markdown",
   "metadata": {},
   "source": [
    "* **.strip()**: permite quitar espacios al comienzo y al final del string."
   ]
  },
  {
   "cell_type": "code",
   "execution_count": null,
   "metadata": {},
   "outputs": [],
   "source": [
    "saludo = '     Buen dia!!    '\n",
    "saludo.strip()"
   ]
  },
  {
   "cell_type": "code",
   "execution_count": null,
   "metadata": {},
   "outputs": [],
   "source": [
    "saludo.rstrip()"
   ]
  },
  {
   "cell_type": "code",
   "execution_count": null,
   "metadata": {},
   "outputs": [],
   "source": [
    "saludo.lstrip()"
   ]
  },
  {
   "cell_type": "markdown",
   "metadata": {},
   "source": [
    "#### 📚 **Ejercicio 2:** Strings\n",
    "\n",
    "1. Pedir a un usuario que ingrese su fruta favorita y *normalizar* el input de forma que permita verificar si la fruta favorita es la \"naranja\". Verificarlo e imprimir el resultado.\n",
    "\n",
    "2. Hacer un programa que permita ingresar un nombre y un apellido usando dos veces la función input( ). Luego debe crear la variable *nombre_y_apellido* que contenga ambos datos separados por un espacio.\n",
    "> Un fabricante de tarjetas admite la impresión de hasta 26 caracteres para el nombre del dueño de la tarjeta, el programa debe imprimir \"Nombre admitido = True/False\" si *nombre_y_apellido* cumple o no con esta restricción (el espacio cuenta como uno de los 26 caracteres disponibles)."
   ]
  },
  {
   "cell_type": "code",
   "execution_count": null,
   "metadata": {},
   "outputs": [],
   "source": [
    "# Código Ejercicio 2 Apartado 1"
   ]
  },
  {
   "cell_type": "code",
   "execution_count": null,
   "metadata": {},
   "outputs": [],
   "source": [
    "# Código Ejercicio 2 Apartado 2"
   ]
  },
  {
   "cell_type": "markdown",
   "metadata": {},
   "source": [
    "<h1> Control de Flujo </h1>\n",
    "\n",
    "Los programas siguen un \"flujo\" definido por el programador. Hasta ahora, el flujo que siguen todos nuestros programas es secuencial y lineal: se ejecuta una instrucción, luego la siguiente, luego la siguiente a esta, y así sucesivamente hasta terminar con la última instrucción.\n",
    "\n",
    "Sin embargo, es posible realizar tareas diferentes dependiendo de ciertas condiciones, repetir segmentos de código, y modificar el flujo del programa de forma que no sea simplemente una secuencia lineal de instrucciones. Esto permite realizar tareas mucho más complejas, en las cuáles el programa tome decisiones respecto a lo que debe hacer en función de la situación.\n",
    "\n",
    "Notar que todas las estructuras que veremos terminan con un \"**:**\" , y la siguiente línea tiene **un tab de *indentación*** (una sangría igual a cuatro espacios). Además, podemos combinarlas de cualquier manera, dependiendo de nuestras necesidades."
   ]
  },
  {
   "cell_type": "markdown",
   "metadata": {},
   "source": [
    "##  Ejecución Condicional: La Estructura `if`"
   ]
  },
  {
   "cell_type": "markdown",
   "metadata": {},
   "source": [
    "El **`if`** es la estructura básica que permite analizar si se cumple una condición (es decir, si es equivalente a `True`), y realizar distintas acciones de acuerdo a si eso sucede o no.\n",
    "\n",
    "Las distintas formas de implementar esta estructura son las siguientes:"
   ]
  },
  {
   "cell_type": "markdown",
   "metadata": {},
   "source": [
    "```python\n",
    "if (condicion):\n",
    "    #Lo que se hace si se cumple la condición (ejecución condicional)\n",
    "\n",
    "``` "
   ]
  },
  {
   "cell_type": "code",
   "execution_count": null,
   "metadata": {},
   "outputs": [],
   "source": [
    "x=7\n",
    "if (x >= 4):\n",
    "    print('¡Aprobó el examen!')"
   ]
  },
  {
   "cell_type": "markdown",
   "metadata": {},
   "source": [
    "```python\n",
    "\n",
    "if (condicion):\n",
    "    #Lo que se hace si se cumple la condición\n",
    "else:\n",
    "    #Lo que se hace si no se cumple la condición (ejecución alternativa)\n",
    "\n",
    "``` "
   ]
  },
  {
   "cell_type": "code",
   "execution_count": null,
   "metadata": {},
   "outputs": [],
   "source": [
    "x=2\n",
    "if (x >= 4):\n",
    "    print('¡Aprobó el examen!')\n",
    "else:\n",
    "    print('¡No aprobó el examen!')"
   ]
  },
  {
   "cell_type": "markdown",
   "metadata": {},
   "source": [
    "```python\n",
    "if (condicion1):\n",
    "    #Lo que se hace si se cumple la condición1\n",
    "elif (condicion2):\n",
    "    #Lo que se hace si no se cumple la condicion1, pero sí la condicion2 \n",
    "elif (condicion3):\n",
    "    #Lo que se hace si no se cumple la condicion1 ni la condición2, pero sí la condición3 \n",
    "else:\n",
    "    #Lo que se hace si no se cumple ninguna condición\n",
    "``` "
   ]
  },
  {
   "cell_type": "code",
   "execution_count": null,
   "metadata": {},
   "outputs": [],
   "source": [
    "x=2\n",
    "if (x >= 7):\n",
    "    print('¡Promocionó!')\n",
    "elif (x >= 4):\n",
    "    print('¡Aprobó el examen!')\n",
    "else:\n",
    "    print('¡No aprobó el examen!')"
   ]
  },
  {
   "cell_type": "markdown",
   "metadata": {},
   "source": [
    "Se debe prestar especial atención a la ***indentación/tabulación***. Siempre que se define un **`if`**, se crea un bloque de código (un conjunto de instrucciones) que es el que se ejecuta cuando se cumple la condición establecida. Este bloque de código debe tener una \"sangría\", ya que de esta forma Python comprende donde empieza y donde termina el mismo. Si se utiliza la \"sangría\" incorrectamente, Python indicará que hay un error en el código y no se podrá ejecutar.\n",
    "\n",
    "Notar también que siempre comienza con **`if`**, después puede haber cualquier cantidad de **`elif`** (o ninguno) y luego se puede terminar con **`else`** (o no necesariamente). Luego del **`else`** no puede haber más **`elif`**.\n",
    " \n",
    " ¿Cual será la salida de los siguientes programas?"
   ]
  },
  {
   "cell_type": "code",
   "execution_count": null,
   "metadata": {},
   "outputs": [],
   "source": [
    "x = 5\n",
    "y = 8\n",
    "if x == y:\n",
    "    print(x)\n",
    "elif y < 5 or y > 7: #(una condicion) or/and ( otra condicion)\n",
    "    print(x + y)\n",
    "else:\n",
    "    print(y)\n",
    "\n",
    "print(\"FIN\")"
   ]
  },
  {
   "cell_type": "markdown",
   "metadata": {},
   "source": [
    "Es muy común expresar las sentencias condicionales a través de un **diagrama de flujo**. Esta es una herramienta visual que permite seguir correctamente los diferentes caminos que pueden surgir con la sentencia **`if`**.\n",
    "\n",
    "Para el primero de los programas anteriores, el diagrama que lo representa es el siguiente:\n",
    "\n",
    "![](https://drive.google.com/uc?export=view&id=1gldDdC8C97lVgIrhKEtwsHr-x4ATvh4U)"
   ]
  },
  {
   "cell_type": "code",
   "execution_count": null,
   "metadata": {},
   "outputs": [],
   "source": [
    "if x >= y:\n",
    "    print(\"x es mayor o igual que y\")"
   ]
  },
  {
   "cell_type": "code",
   "execution_count": null,
   "metadata": {},
   "outputs": [],
   "source": [
    "if x >= y:\n",
    "    print(\"x es mayor o igual que y\")\n",
    "print('Ya pasé a otra instrucción!')"
   ]
  },
  {
   "cell_type": "code",
   "execution_count": null,
   "metadata": {},
   "outputs": [],
   "source": [
    "x = 12\n",
    "y = 6\n",
    "if x > y:\n",
    "    print(\"x es mayor que y\")\n",
    "    print('Buen trabajo!')\n",
    "print('Ya pasé a otra instrucción!')"
   ]
  },
  {
   "cell_type": "markdown",
   "metadata": {},
   "source": [
    "#### 📚 **Ejercicio 3:** if\n",
    "1. Realizar un programa que revise si una nota está aprobada (es decir si es mayor o igual a 4) utilizando un `if/else`. La nota será ingresada por el usuario usando input().\n",
    "2. Realizar un programa que convierta una nota porcentual del 0 al 100 a una letra entre A y F de acuerdo a la siguiente conversión:\n",
    "\n",
    " - A: 90–100\n",
    "\n",
    " - B: 80–89\n",
    "\n",
    " - C: 70–79\n",
    "\n",
    " - D: 60–69\n",
    "\n",
    " - F: 0–59"
   ]
  },
  {
   "cell_type": "code",
   "execution_count": null,
   "metadata": {},
   "outputs": [],
   "source": [
    "# Código Ejercicio 3 Apartado 1"
   ]
  },
  {
   "cell_type": "code",
   "execution_count": null,
   "metadata": {},
   "outputs": [],
   "source": [
    "# Código Ejercicio 3 Apartado 2"
   ]
  },
  {
   "cell_type": "markdown",
   "metadata": {},
   "source": [
    "##  Iteración: La Estructura `while`\n"
   ]
  },
  {
   "cell_type": "markdown",
   "metadata": {},
   "source": [
    "Otra posibilidad es que necesitemos repetir tareas idénticas una cierta cantidad de veces. La estructura **`while`** permite implementar *ciclos* en nuestro programa (también llamados *loops* o *bucles*). Es decir, repetir una porción del código una y otra vez, en tanto se verifique cierta condición. La estructura básica es la siguiente:\n",
    "\n",
    "```python\n",
    "while (condicion_de_corte):\n",
    "    #Lo que se hace mientras que se cumpla la condicion\n",
    "```\n",
    "\n",
    "En el siguiente bloque de código pueden ver a esta estructura en acción:"
   ]
  },
  {
   "cell_type": "code",
   "execution_count": null,
   "metadata": {},
   "outputs": [],
   "source": [
    "x = 1\n",
    "while x < 10:\n",
    "    print(x)\n",
    "    x += 1 #(x = x + 1)\n",
    "\n",
    "print(\"Continuo con el resto del programa\")"
   ]
  },
  {
   "cell_type": "markdown",
   "metadata": {},
   "source": [
    "El diagrama de flujo que representa al programa anterior es el siguiente:\n",
    "\n",
    "![](https://drive.google.com/uc?export=view&id=1tvS-sN9XqEEj8UwFjTAwQWO-oHT_0bg4)\n"
   ]
  },
  {
   "cell_type": "markdown",
   "metadata": {},
   "source": [
    "De manera más formal, el flujo de ejecución de la estructura **`while`** es el siguiente:\n",
    "\n",
    "1. Determinar si la condición de corte es verdadera o falsa (`True` o `False`).\n",
    "2. Si la condición es verdadera, se ejecuta el cuerpo dentro del `while` y se vuelve al paso 1.\n",
    "3. Si la condición es falsa, se sale del bucle sin correr el bloque de código *indentado*, y se continúa ejecutando el programa en la línea siguiente (no *indentada*).\n",
    "\n",
    "Es importante tener en cuenta que la condición se evalúa al principio del ciclo y no se volverá a evaluar hasta tanto no se terminen de ejecutar todas las instrucciones contenidas dentro del bloque **`while`**.\n",
    "\n",
    "Al usar una variable auxiliar para contar la cantidad de repeticiones del **`while`**, es recomendable no modificar su contenido dentro del bloque excepto para incrementar/decrementar su valor acordemente. Esto es porque se corre el riesgo de que la condición siempre sea `True` y el **`while`** se ejecute infinitamente.\n",
    "\n",
    "¿Qué realiza este programa?"
   ]
  },
  {
   "cell_type": "code",
   "execution_count": null,
   "metadata": {},
   "outputs": [],
   "source": [
    "nota = int( input('Ingrese un número del 1 al 10: ') )\n",
    "\n",
    "while nota < 1 or nota > 10:\n",
    "    print('Fuera de rango!')\n",
    "    nota = int( input('Ingrese un número del 1 al 10: ') )\n",
    "\n",
    "print(\"La nota es mayor a 4?\", nota >= 4 )"
   ]
  },
  {
   "cell_type": "markdown",
   "metadata": {},
   "source": [
    "**¡Cuidado!** Algo muy importante a tener en cuenta es que si la condición se cumple siempre, el código se ejecutará infinitamente. Por lo tanto, hay que tener mucha precaución al momento de definir la condición de corte."
   ]
  },
  {
   "cell_type": "code",
   "execution_count": null,
   "metadata": {},
   "outputs": [],
   "source": [
    "# El caso extremo como ejemplo\n",
    "\n",
    "while True:\n",
    "    print(1)"
   ]
  },
  {
   "cell_type": "markdown",
   "metadata": {},
   "source": [
    "### **Ejercicio 4:** while\n",
    "Implementar un programa que muestre la siguiente secuencia:\n",
    "\n",
    "1, 2, 3, 4, 5, 4, 3, 2, 1, 0\n",
    "\n",
    "**Para un desafío mayor:** Utilizar 1 solo *while*, 1 solo *if* y 1 solo *else*. Es recomendable que la variable usada para contar los pasos se mantenga contando siempre de la misma forma. "
   ]
  },
  {
   "cell_type": "code",
   "execution_count": null,
   "metadata": {},
   "outputs": [],
   "source": [
    "# Código Ejercicio 4"
   ]
  },
  {
   "cell_type": "markdown",
   "metadata": {},
   "source": [
    "## Iteración: La Estructura `for`\n"
   ]
  },
  {
   "cell_type": "markdown",
   "metadata": {},
   "source": [
    "La estructura **`for`** permite realizar una serie de acciones en bucle con una variable, la cual irá cambiando su valor en cada repetición. La sintaxis de esta estructura es la siguiente:\n",
    "\n",
    "```python\n",
    "for (variable) in (conjunto de valores):\n",
    "    #Lo que quieras hacer con tu variable\n",
    "```\n",
    "\n",
    "Es decir, luego del **`for`** se crea una variable que será la que irá adoptando los distintos valores **que se encuentran en** (**`in`**) el conjunto de valores posbibles. Veámoslo en un ejemplo de código:"
   ]
  },
  {
   "cell_type": "code",
   "execution_count": null,
   "metadata": {},
   "outputs": [],
   "source": [
    "for x in range(0,15,5):\n",
    "    print(x)"
   ]
  },
  {
   "cell_type": "markdown",
   "metadata": {},
   "source": [
    "La instrucción **`range(a,b,d)`** genera los valores desde ***a*** hasta ***b*** con incrementos de ***d***. Por ejemplo, el siguiente codigo generara los numeros pares entre 0 y 10:"
   ]
  },
  {
   "cell_type": "code",
   "execution_count": null,
   "metadata": {},
   "outputs": [],
   "source": [
    "for x in range(0,10,2):\n",
    "    print(x)"
   ]
  },
  {
   "cell_type": "markdown",
   "metadata": {},
   "source": [
    "Algo importante a notar es que el límite superior del rango no se incluye."
   ]
  },
  {
   "cell_type": "code",
   "execution_count": null,
   "metadata": {},
   "outputs": [],
   "source": [
    "init = int(input(\"Ingrese el inicio:\"))\n",
    "fin = int(input(\"Ingrese el fin:\"))\n",
    "step = int(input(\"Ingrese el salto:\"))\n",
    "\n",
    "for x in range(init, fin, step):\n",
    "    print(\"x =\", x)"
   ]
  },
  {
   "cell_type": "markdown",
   "metadata": {},
   "source": [
    "Al utilizar la instrucción **`range()`** no es necesario proporcionar siempre los 3 parámetros. Observen qué sucede cuando se proporcionan solamente 1 o 2 parámetros:"
   ]
  },
  {
   "cell_type": "code",
   "execution_count": null,
   "metadata": {},
   "outputs": [],
   "source": [
    "print(\"range(5):\")\n",
    "for x in range(5):\n",
    "    print(x)\n",
    "\n",
    "print(\"range(10, 15):\")\n",
    "for x in range(10, 15):\n",
    "    print(x)"
   ]
  },
  {
   "cell_type": "markdown",
   "metadata": {},
   "source": [
    "### Break \n",
    "Hay algunos escenarios en los que es necesario hacer un bucle hasta que \"algo\" ocurra. Una vez que ese \"algo\" ocurre, se corta la ejecución del *loop*. Para ello se utiliza un bucle **`for`** o **`while`** con una declaración de interrupción: **`break`**. \n",
    "\n"
   ]
  },
  {
   "cell_type": "code",
   "execution_count": null,
   "metadata": {},
   "outputs": [],
   "source": [
    "for nro in range(1,10):\n",
    "    if nro == 5:\n",
    "        break\n",
    "    print(nro)\n",
    "\n",
    "print(\"FIN\")"
   ]
  },
  {
   "cell_type": "markdown",
   "metadata": {},
   "source": [
    "\n",
    "El siguiente ejemplo es un programa que le pide al usuario que ingrese palabras y las imprime en mayúsculas, para salir del programa hay que escribir 'stop'."
   ]
  },
  {
   "cell_type": "code",
   "execution_count": null,
   "metadata": {},
   "outputs": [],
   "source": [
    "while True:\n",
    "    palabra = input(\"Ingrese una palabra (para salir del programa ingrese 'stop'): \")\n",
    "    if palabra == \"stop\":\n",
    "        break\n",
    "    print(palabra.capitalize())\n",
    "\n",
    "print(\"FIN\")"
   ]
  },
  {
   "cell_type": "markdown",
   "metadata": {},
   "source": [
    "### Continue\n",
    "\n",
    "En otros escenarios se requiere que el *loop* no se corte, sino que saltee a la siguiente iteración. Para ello existe la declaración **`continue`**.\n",
    "\n",
    "El siguiente programa le pide al usuario que ingrese un número y verifica si es impar. En caso de que no sea impar, el usuario debe ingresar otro número."
   ]
  },
  {
   "cell_type": "code",
   "execution_count": null,
   "metadata": {},
   "outputs": [],
   "source": [
    "while True:\n",
    "    valor = input(\"Ingrese un número (para salir del programa ingrese 'stop'): \")\n",
    "    if valor == \"stop\":\n",
    "        break\n",
    "    nro = int(valor)\n",
    "    if nro % 2 == 0:\n",
    "        continue\n",
    "    print(f'{nro} es impar')\n",
    "\n",
    "print(\"FIN\")"
   ]
  },
  {
   "cell_type": "markdown",
   "metadata": {},
   "source": [
    "### `for` Sobre un *String*\n",
    "La estructura **`for`** tiene una gran versatilidad, ya que no está limitada a recorrer los valores generados por `range()`. También es posible recorrer los caracteres de un *string*, tal como se muestra a continuación:"
   ]
  },
  {
   "cell_type": "code",
   "execution_count": null,
   "metadata": {},
   "outputs": [],
   "source": [
    "texto = \"Curso de Python\"\n",
    "vocales = 0\n",
    "for c in texto:\n",
    "    print(c)\n",
    "    if c == 'a' or c == 'e' or c == 'i' or c == 'o' or c == 'u':\n",
    "        vocales = vocales + 1\n",
    "\n",
    "print(\"Vocales: \", vocales)"
   ]
  },
  {
   "cell_type": "markdown",
   "metadata": {},
   "source": [
    "#### 📚 **Ejercicio 5:** for\n",
    "\n",
    "1. Realizar un programa para controlar el sistema de impresión de etiquetas con códigos de barras en un supermercado. Primero se debe ingresar la cantidad de productos diferentes que necesitan etiquetas. Luego para cada producto se ingresa el código correspondiente y la cantidad requerida. Imprimir en pantalla los códigos solicitados, la cantidad requerida de veces.\n",
    "\n",
    "**Ejemplo:**\n",
    "\n",
    "*Input:*\n",
    "\n",
    "  ```\n",
    "  3\n",
    "  000000123\n",
    "  1\n",
    "  123000789\n",
    "  3\n",
    "  000031416\n",
    "  2\n",
    "  ```\n",
    "\n",
    "*Output:*\n",
    "\n",
    "  ```\n",
    "  000000123\n",
    "  123000789\n",
    "  123000789\n",
    "  123000789\n",
    "  000031416\n",
    "  000031416\n",
    "  ```"
   ]
  },
  {
   "cell_type": "code",
   "execution_count": null,
   "metadata": {},
   "outputs": [],
   "source": [
    "# Código Ejercicio 5"
   ]
  }
 ],
 "metadata": {
  "kernelspec": {
   "display_name": "Python 3 (ipykernel)",
   "language": "python",
   "name": "python3"
  },
  "language_info": {
   "codemirror_mode": {
    "name": "ipython",
    "version": 3
   },
   "file_extension": ".py",
   "mimetype": "text/x-python",
   "name": "python",
   "nbconvert_exporter": "python",
   "pygments_lexer": "ipython3",
   "version": "3.7.6"
  }
 },
 "nbformat": 4,
 "nbformat_minor": 4
}
