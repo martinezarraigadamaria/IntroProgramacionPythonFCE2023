{
 "cells": [
  {
   "cell_type": "markdown",
   "metadata": {},
   "source": [
    "<h1 align=\"center\">¡Abrir el notebook desde Colab!</h1>\n",
    "<br>\n",
    "\n",
    "<p align=\"center\">\n",
    "<a href=\"https://colab.research.google.com/github/martinezarraigadamaria/IntroProgramacionPythonFCE2023/blob/master/clases/IntroProgPython3.ipynb\" target=\"_parent\"><img src=\"https://colab.research.google.com/assets/colab-badge.svg\" alt=\"Open In Colab\"/></a>\n",
    "</p>"
   ]
  },
  {
   "cell_type": "markdown",
   "metadata": {},
   "source": [
    "## Temario\n",
    "\n",
    "---\n",
    "\n",
    "> Control de Flujos.\n"
   ]
  },
  {
   "cell_type": "markdown",
   "metadata": {},
   "source": [
    "<h1> Control de Flujo </h1>\n",
    "\n",
    "Los programas siguen un \"flujo\" definido por el programador. Hasta ahora, el flujo que siguen todos nuestros programas es secuencial y lineal: se ejecuta una instrucción, luego la siguiente, luego la siguiente a esta, y así sucesivamente hasta terminar con la última instrucción.\n",
    "\n",
    "Sin embargo, es posible realizar tareas diferentes dependiendo de ciertas condiciones, repetir segmentos de código, y modificar el flujo del programa de forma que no sea simplemente una secuencia lineal de instrucciones. Esto permite realizar tareas mucho más complejas, en las cuáles el programa tome decisiones respecto a lo que debe hacer en función de la situación.\n",
    "\n",
    "Notar que todas las estructuras que veremos terminan con un \"**:**\" , y la siguiente línea tiene **un tab de *indentación*** (una sangría igual a cuatro espacios). Además, podemos combinarlas de cualquier manera, dependiendo de nuestras necesidades."
   ]
  },
  {
   "cell_type": "markdown",
   "metadata": {},
   "source": [
    "##  Ejecución Condicional: La Estructura **`if`**"
   ]
  },
  {
   "cell_type": "markdown",
   "metadata": {},
   "source": [
    "El **`if`** es la estructura básica que permite analizar si se cumple una condición (es decir, si es equivalente a **`True`**), y realizar distintas acciones de acuerdo a si eso sucede o no.\n",
    "\n",
    "Las distintas formas de implementar esta estructura son las siguientes:"
   ]
  },
  {
   "cell_type": "markdown",
   "metadata": {},
   "source": [
    "```python\n",
    "if (condicion):\n",
    "    #Lo que se hace si se cumple la condición (ejecución condicional)\n",
    "\n",
    "``` "
   ]
  },
  {
   "cell_type": "code",
   "execution_count": null,
   "metadata": {},
   "outputs": [],
   "source": [
    "x=7\n",
    "if (x >= 4):\n",
    "    print('¡Aprobó el examen!')"
   ]
  },
  {
   "cell_type": "markdown",
   "metadata": {},
   "source": [
    "```python\n",
    "\n",
    "if (condicion):\n",
    "    #Lo que se hace si se cumple la condición\n",
    "else:\n",
    "    #Lo que se hace si no se cumple la condición (ejecución alternativa)\n",
    "\n",
    "``` "
   ]
  },
  {
   "cell_type": "code",
   "execution_count": null,
   "metadata": {},
   "outputs": [],
   "source": [
    "x=2\n",
    "if (x >= 4):\n",
    "    print('¡Aprobó el examen!')\n",
    "else:\n",
    "    print('¡No aprobó el examen!')"
   ]
  },
  {
   "cell_type": "markdown",
   "metadata": {},
   "source": [
    "```python\n",
    "if (condicion1):\n",
    "    #Lo que se hace si se cumple la condición1\n",
    "elif (condicion2):\n",
    "    #Lo que se hace si no se cumple la condicion1, pero sí la condicion2 \n",
    "elif (condicion3):\n",
    "    #Lo que se hace si no se cumple la condicion1 ni la condición2, pero sí la condición3 \n",
    "else:\n",
    "    #Lo que se hace si no se cumple ninguna condición\n",
    "``` "
   ]
  },
  {
   "cell_type": "code",
   "execution_count": null,
   "metadata": {},
   "outputs": [],
   "source": [
    "x=2\n",
    "if (x >= 7):\n",
    "    print('¡Promocionó!')\n",
    "elif (x >= 4):\n",
    "    print('¡Aprobó el examen!')\n",
    "else:\n",
    "    print('¡No aprobó el examen!')"
   ]
  },
  {
   "cell_type": "markdown",
   "metadata": {},
   "source": [
    "Se debe prestar especial atención a la ***indentación/tabulación***. Siempre que se define un **`if`**, se crea un bloque de código (un conjunto de instrucciones) que es el que se ejecuta cuando se cumple la condición establecida. Este bloque de código debe tener una \"sangría\", ya que de esta forma Python comprende donde empieza y donde termina el mismo. Si se utiliza la \"sangría\" incorrectamente, Python indicará que hay un error en el código y no se podrá ejecutar.\n",
    "\n",
    "Notar también que siempre comienza con **`if`**, después puede haber cualquier cantidad de **`elif`** (o ninguno) y luego se puede terminar con **`else`** (o no necesariamente). Luego del **`else`** no puede haber más **`elif`**.\n",
    " \n",
    " ¿Cual será la salida de los siguientes programas?"
   ]
  },
  {
   "cell_type": "code",
   "execution_count": null,
   "metadata": {},
   "outputs": [],
   "source": [
    "x = 5\n",
    "y = 8\n",
    "if x == y:\n",
    "    print(x)\n",
    "elif y < 5 or y > 7: #(una condicion) or/and ( otra condicion)\n",
    "    print(x + y)\n",
    "else:\n",
    "    print(y)\n",
    "\n",
    "print(\"FIN\")"
   ]
  },
  {
   "cell_type": "markdown",
   "metadata": {},
   "source": [
    "Es muy común expresar las sentencias condicionales a través de un **diagrama de flujo**. Esta es una herramienta visual que permite seguir correctamente los diferentes caminos que pueden surgir con la sentencia **`if`**.\n",
    "\n",
    "Para el primero de los programas anteriores, el diagrama que lo representa es el siguiente:\n",
    "\n",
    "<p align= \"center\">\n",
    "<img align=\"center\"\n",
    "     src=\"https://drive.google.com/uc?export=view&id=1gldDdC8C97lVgIrhKEtwsHr-x4ATvh4U\" \n",
    "     alt=\"pypl\" \n",
    "     width=30% \n",
    "     height=30%\n",
    ">\n",
    "</p>"
   ]
  },
  {
   "cell_type": "code",
   "execution_count": null,
   "metadata": {},
   "outputs": [],
   "source": [
    "if x >= y:\n",
    "    print(\"x es mayor o igual que y\")"
   ]
  },
  {
   "cell_type": "code",
   "execution_count": null,
   "metadata": {},
   "outputs": [],
   "source": [
    "if x >= y:\n",
    "    print(\"x es mayor o igual que y\")\n",
    "print('Ya pasé a otra instrucción!')"
   ]
  },
  {
   "cell_type": "code",
   "execution_count": null,
   "metadata": {},
   "outputs": [],
   "source": [
    "x = 12\n",
    "y = 6\n",
    "if x > y:\n",
    "    print(\"x es mayor que y\")\n",
    "    print('Buen trabajo!')\n",
    "print('Ya pasé a otra instrucción!')"
   ]
  },
  {
   "cell_type": "markdown",
   "metadata": {},
   "source": [
    "#### 📚 **Ejercicio 3:** if\n",
    "1. Realizar un programa que revise si una nota está aprobada (es decir si es mayor o igual a 4) utilizando un `if/else`. La nota será ingresada por el usuario usando input().\n",
    "2. Realizar un programa que convierta una nota porcentual del 0 al 100 a una letra entre A y F de acuerdo a la siguiente conversión:\n",
    "\n",
    " - A: 90–100\n",
    "\n",
    " - B: 80–89\n",
    "\n",
    " - C: 70–79\n",
    "\n",
    " - D: 60–69\n",
    "\n",
    " - F: 0–59"
   ]
  },
  {
   "cell_type": "code",
   "execution_count": null,
   "metadata": {},
   "outputs": [],
   "source": [
    "# Código Ejercicio 3 Apartado 1"
   ]
  },
  {
   "cell_type": "code",
   "execution_count": null,
   "metadata": {},
   "outputs": [],
   "source": [
    "# Código Ejercicio 3 Apartado 2"
   ]
  },
  {
   "cell_type": "markdown",
   "metadata": {},
   "source": [
    "##  Iteración: La Estructura **`while`**\n"
   ]
  },
  {
   "cell_type": "markdown",
   "metadata": {},
   "source": [
    "Otra posibilidad es que necesitemos repetir tareas idénticas una cierta cantidad de veces. La estructura **`while`** permite implementar *ciclos* en nuestro programa (también llamados *loops* o *bucles*). Es decir, repetir una porción del código una y otra vez, en tanto se verifique cierta condición. La estructura básica es la siguiente:\n",
    "\n",
    "```python\n",
    "while (condicion_de_corte):\n",
    "    #Lo que se hace mientras que se cumpla la condicion\n",
    "```\n",
    "\n",
    "En el siguiente bloque de código pueden ver a esta estructura en acción:"
   ]
  },
  {
   "cell_type": "code",
   "execution_count": null,
   "metadata": {},
   "outputs": [],
   "source": [
    "x = 1\n",
    "while x < 10:\n",
    "    print(x)\n",
    "    x += 1 #(x = x + 1)\n",
    "\n",
    "print(\"Continuo con el resto del programa\")"
   ]
  },
  {
   "cell_type": "markdown",
   "metadata": {},
   "source": [
    "El diagrama de flujo que representa al programa anterior es el siguiente:\n",
    "\n",
    "<p align= \"center\">\n",
    "<img align=\"center\"\n",
    "     src=\"https://drive.google.com/uc?export=view&id=1tvS-sN9XqEEj8UwFjTAwQWO-oHT_0bg4\" \n",
    "     alt=\"pypl\" \n",
    "     width=30% \n",
    "     height=30%\n",
    ">\n",
    "</p>"
   ]
  },
  {
   "cell_type": "markdown",
   "metadata": {},
   "source": [
    "De manera más formal, el flujo de ejecución de la estructura **`while`** es el siguiente:\n",
    "\n",
    "1. Determinar si la condición de corte es verdadera o falsa (**`True`** o **`False`**).\n",
    "2. Si la condición es verdadera, se ejecuta el cuerpo dentro del **`while`** y se vuelve al paso 1.\n",
    "3. Si la condición es falsa, se sale del bucle sin correr el bloque de código *indentado*, y se continúa ejecutando el programa en la línea siguiente (no *indentada*).\n",
    "\n",
    "Es importante tener en cuenta que la condición se evalúa al principio del ciclo y no se volverá a evaluar hasta tanto no se terminen de ejecutar todas las instrucciones contenidas dentro del bloque **`while`**.\n",
    "\n",
    "Al usar una variable auxiliar para contar la cantidad de repeticiones del **`while`**, es recomendable no modificar su contenido dentro del bloque excepto para incrementar/decrementar su valor acordemente. Esto es porque se corre el riesgo de que la condición siempre sea **`True`** y el **`while`** se ejecute infinitamente.**\n",
    "\n",
    "¿Qué realiza este programa?"
   ]
  },
  {
   "cell_type": "code",
   "execution_count": null,
   "metadata": {},
   "outputs": [],
   "source": [
    "nota = int( input('Ingrese un número del 1 al 10: ') )\n",
    "\n",
    "while nota < 1 or nota > 10:\n",
    "    print('Fuera de rango!')\n",
    "    nota = int( input('Ingrese un número del 1 al 10: ') )\n",
    "\n",
    "print(\"La nota es mayor a 4?\", nota >= 4 )"
   ]
  },
  {
   "cell_type": "markdown",
   "metadata": {},
   "source": [
    "**¡Cuidado!** Algo muy importante a tener en cuenta es que si la condición se cumple siempre, el código se ejecutará infinitamente. Por lo tanto, hay que tener mucha precaución al momento de definir la condición de corte."
   ]
  },
  {
   "cell_type": "code",
   "execution_count": null,
   "metadata": {},
   "outputs": [],
   "source": [
    "# El caso extremo como ejemplo\n",
    "\n",
    "while True:\n",
    "    print(1)"
   ]
  },
  {
   "cell_type": "markdown",
   "metadata": {},
   "source": [
    "### **Ejercicio 4:** while\n",
    "Implementar un programa que muestre la siguiente secuencia:\n",
    "\n",
    "1, 2, 3, 4, 5, 4, 3, 2, 1, 0\n",
    "\n",
    "**Para un desafío mayor:** Utilizar 1 solo *while*, 1 solo *if* y 1 solo *else*. Es recomendable que la variable usada para contar los pasos se mantenga contando siempre de la misma forma. "
   ]
  },
  {
   "cell_type": "code",
   "execution_count": null,
   "metadata": {},
   "outputs": [],
   "source": [
    "# Código Ejercicio 4"
   ]
  },
  {
   "cell_type": "markdown",
   "metadata": {},
   "source": [
    "## Iteración: La Estructura **`for`**"
   ]
  },
  {
   "cell_type": "markdown",
   "metadata": {},
   "source": [
    "La estructura **`for`** permite realizar una serie de acciones en bucle con una variable, la cual irá cambiando su valor en cada repetición. La sintaxis de esta estructura es la siguiente:\n",
    "\n",
    "```python\n",
    "for (variable) in (conjunto de valores):\n",
    "    #Lo que quieras hacer con tu variable\n",
    "```\n",
    "\n",
    "Es decir, luego del **`for`** se crea una variable que será la que irá adoptando los distintos valores **que se encuentran en** (**`in`**) el conjunto de valores posbibles. Veámoslo en un ejemplo de código:"
   ]
  },
  {
   "cell_type": "code",
   "execution_count": null,
   "metadata": {},
   "outputs": [],
   "source": [
    "for x in range(0,15,5):\n",
    "    print(x)"
   ]
  },
  {
   "cell_type": "markdown",
   "metadata": {},
   "source": [
    "La instrucción **`range(a,b,d)`** genera los valores desde ***a*** hasta ***b*** con incrementos de ***d***. Por ejemplo, el siguiente codigo generara los numeros pares entre 0 y 10:"
   ]
  },
  {
   "cell_type": "code",
   "execution_count": null,
   "metadata": {},
   "outputs": [],
   "source": [
    "for x in range(0,10,2):\n",
    "    print(x)"
   ]
  },
  {
   "cell_type": "markdown",
   "metadata": {},
   "source": [
    "Algo importante a notar es que el límite superior del rango no se incluye."
   ]
  },
  {
   "cell_type": "code",
   "execution_count": null,
   "metadata": {},
   "outputs": [],
   "source": [
    "init = int(input(\"Ingrese el inicio:\"))\n",
    "fin = int(input(\"Ingrese el fin:\"))\n",
    "step = int(input(\"Ingrese el salto:\"))\n",
    "\n",
    "for x in range(init, fin, step):\n",
    "    print(\"x =\", x)"
   ]
  },
  {
   "cell_type": "markdown",
   "metadata": {},
   "source": [
    "Al utilizar la instrucción **`range()`** no es necesario proporcionar siempre los 3 parámetros. Observen qué sucede cuando se proporcionan solamente 1 o 2 parámetros:"
   ]
  },
  {
   "cell_type": "code",
   "execution_count": null,
   "metadata": {},
   "outputs": [],
   "source": [
    "print(\"range(5):\")\n",
    "for x in range(5):\n",
    "    print(x)\n",
    "\n",
    "print(\"range(10, 15):\")\n",
    "for x in range(10, 15):\n",
    "    print(x)"
   ]
  },
  {
   "cell_type": "markdown",
   "metadata": {},
   "source": [
    "### Break \n",
    "Hay algunos escenarios en los que es necesario hacer un bucle hasta que \"algo\" ocurra. Una vez que ese \"algo\" ocurre, se corta la ejecución del *loop*. Para ello se utiliza un bucle **`for`** o **`while`** con una declaración de interrupción: **`break`**. \n",
    "\n"
   ]
  },
  {
   "cell_type": "code",
   "execution_count": null,
   "metadata": {},
   "outputs": [],
   "source": [
    "for nro in range(1,10):\n",
    "    if nro == 5:\n",
    "        break\n",
    "    print(nro)\n",
    "\n",
    "print(\"FIN\")"
   ]
  },
  {
   "cell_type": "markdown",
   "metadata": {},
   "source": [
    "\n",
    "El siguiente ejemplo es un programa que le pide al usuario que ingrese palabras y las imprime en mayúsculas, para salir del programa hay que escribir 'stop'."
   ]
  },
  {
   "cell_type": "code",
   "execution_count": null,
   "metadata": {},
   "outputs": [],
   "source": [
    "while True:\n",
    "    palabra = input(\"Ingrese una palabra (para salir del programa ingrese 'stop'): \")\n",
    "    if palabra == \"stop\":\n",
    "        break\n",
    "    print(palabra.capitalize())\n",
    "\n",
    "print(\"FIN\")"
   ]
  },
  {
   "cell_type": "markdown",
   "metadata": {},
   "source": [
    "### Continue\n",
    "\n",
    "En otros escenarios se requiere que el *loop* no se corte, sino que saltee a la siguiente iteración. Para ello existe la declaración **`continue`**.\n",
    "\n",
    "El siguiente programa le pide al usuario que ingrese un número y verifica si es impar. En caso de que no sea impar, el usuario debe ingresar otro número."
   ]
  },
  {
   "cell_type": "code",
   "execution_count": null,
   "metadata": {},
   "outputs": [],
   "source": [
    "while True:\n",
    "    valor = input(\"Ingrese un número (para salir del programa ingrese 'stop'): \")\n",
    "    if valor == \"stop\":\n",
    "        break\n",
    "    nro = int(valor)\n",
    "    if nro % 2 == 0:\n",
    "        continue\n",
    "    print(f'{nro} es impar')\n",
    "\n",
    "print(\"FIN\")"
   ]
  },
  {
   "cell_type": "markdown",
   "metadata": {},
   "source": [
    "### **`for`** Sobre un *String*\n",
    "La estructura **`for`** tiene una gran versatilidad, ya que no está limitada a recorrer los valores generados por **`range()`**. También es posible recorrer los caracteres de un *string*, tal como se muestra a continuación:"
   ]
  },
  {
   "cell_type": "code",
   "execution_count": null,
   "metadata": {},
   "outputs": [],
   "source": [
    "texto = \"Curso de Python\"\n",
    "vocales = 0\n",
    "for c in texto:\n",
    "    print(c)\n",
    "    if c == 'a' or c == 'e' or c == 'i' or c == 'o' or c == 'u':\n",
    "        vocales = vocales + 1\n",
    "\n",
    "print(\"Vocales: \", vocales)"
   ]
  },
  {
   "cell_type": "markdown",
   "metadata": {},
   "source": [
    "#### 📚 **Ejercicio 5:** for\n",
    "\n",
    "1. Realizar un programa para controlar el sistema de impresión de etiquetas con códigos de barras en un supermercado. Primero se debe ingresar la cantidad de productos diferentes que necesitan etiquetas. Luego para cada producto se ingresa el código correspondiente y la cantidad requerida. Imprimir en pantalla los códigos solicitados, la cantidad requerida de veces.\n",
    "\n",
    "**Ejemplo:**\n",
    "\n",
    "*Input:*\n",
    "\n",
    "  ```\n",
    "  3\n",
    "  000000123\n",
    "  1\n",
    "  123000789\n",
    "  3\n",
    "  000031416\n",
    "  2\n",
    "  ```\n",
    "\n",
    "*Output:*\n",
    "\n",
    "  ```\n",
    "  000000123\n",
    "  123000789\n",
    "  123000789\n",
    "  123000789\n",
    "  000031416\n",
    "  000031416\n",
    "  ```"
   ]
  },
  {
   "cell_type": "code",
   "execution_count": 2,
   "metadata": {},
   "outputs": [],
   "source": [
    "# Código Ejercicio 5"
   ]
  }
 ],
 "metadata": {
  "kernelspec": {
   "display_name": "Python 3 (ipykernel)",
   "language": "python",
   "name": "python3"
  },
  "language_info": {
   "codemirror_mode": {
    "name": "ipython",
    "version": 3
   },
   "file_extension": ".py",
   "mimetype": "text/x-python",
   "name": "python",
   "nbconvert_exporter": "python",
   "pygments_lexer": "ipython3",
   "version": "3.7.6"
  }
 },
 "nbformat": 4,
 "nbformat_minor": 4
}
