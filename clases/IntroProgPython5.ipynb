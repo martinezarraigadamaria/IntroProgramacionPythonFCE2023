{
 "cells": [
  {
   "cell_type": "markdown",
   "metadata": {},
   "source": [
    "<h1 align=\"center\">¡Abrir el notebook desde Colab!</h1>\n",
    "<br>\n",
    "\n",
    "<p align=\"center\">\n",
    "<a href=\"https://colab.research.google.com/github/martinezarraigadamaria/IntroProgramacionPythonFCE2023/blob/master/clases/IntroProgPython5.ipynb\" target=\"_parent\"><img src=\"https://colab.research.google.com/assets/colab-badge.svg\" alt=\"Open In Colab\"/></a>\n",
    "</p>"
   ]
  },
  {
   "cell_type": "markdown",
   "metadata": {},
   "source": [
    "# Temario\n",
    "\n",
    "---\n",
    "\n",
    "> Librerías: Qué son y cómo se usan. Ejemplos.\n",
    "\n",
    "> Cálculos matriciales y entre arrays con Numpy."
   ]
  },
  {
   "cell_type": "markdown",
   "metadata": {},
   "source": [
    "# Librerías"
   ]
  },
  {
   "cell_type": "markdown",
   "metadata": {},
   "source": [
    "Hasta ahora, hemos usado solamente funciones y estructuras disponibles en la instalación base de Python, pero una de las fortalezas del lenguaje es su comunidad y todo lo que ha creado para facilitar un montón de trabajo a lo largo del tiempo, gracias a las librerías creadas (y en proceso de creación).\n",
    "\n",
    "Una ***librería*** o ***paquete*** es código organizado en un conjunto de funciones implementadas por otras personas que nos facilitan realizar tareas, principalmente porque no debemos volver a programar este código. \n",
    "\n",
    "\n",
    "## ¿Cómo Usamos una Librería?\n",
    "\n",
    "Para utilizar cualquier librería primero debemos ***importarla***. Para ello, se usa la ***palabra clave*** **`import`**, pero hay muchas formas de emplearla. Sabiendo esto, una posibilidad es utilizar la siguiente sintaxis:\n",
    "\n",
    "> **`import`** (nombre de la libreria) **`as`** (nombre abreviado)\n",
    "\n",
    "De esta forma, estamos habilitando el uso de todo lo que contiene el paquete importado. El comando **`as`** nos permite indicar el nombre que le damos a la librería dentro de nuestro código.\n"
   ]
  },
  {
   "cell_type": "code",
   "execution_count": 2,
   "metadata": {},
   "outputs": [
    {
     "name": "stdout",
     "output_type": "stream",
     "text": [
      "El seno de 0 es  0.0 y el coseno 1.0\n",
      "El seno de 0 es  0.0 y el coseno 1.0\n"
     ]
    }
   ],
   "source": [
    "# Importamos la librería math y usamos el alias m\n",
    "import math as m\n",
    "import math\n",
    "\n",
    "print('El seno de 0 es ', math.sin(0), 'y el coseno', math.cos(0))\n",
    "print('El seno de 0 es ', m.sin(0), 'y el coseno', m.cos(0))"
   ]
  },
  {
   "cell_type": "markdown",
   "metadata": {},
   "source": [
    "Por otro lado, las librerías muchas veces están separadas en distintos **módulos**. Podemos pensar entonces que una librería es como un estante de libros, donde en cada libro se encuentran las funciones de un tema en común. Incluso un \"libro\" podría estar subdividido en \"capítulos\". Es decir, los distintos módulos de una librería podrían llegar a estar subdivididos en submódulos, y cada submódulo podría estar nuevamente subdividido, etc.\n",
    "\n",
    "En el caso de que no querramos importar la librería completa, podemos importar sólo un módulo, de esta forma:\n",
    "\n",
    "> **`from`** (nombre de la libreria) **`import`** (nombre de un módulo) **`as`** (nombre abreviado)\n"
   ]
  },
  {
   "cell_type": "code",
   "execution_count": null,
   "metadata": {},
   "outputs": [],
   "source": [
    "#Importamos directamente las funciones que usaremos (separadas por comas)\n",
    "from math import sin, cos \n",
    "#from math import *\n",
    "\n",
    "print('El seno de 0 es ', sin(0), 'y el coseno', cos(0))"
   ]
  },
  {
   "cell_type": "markdown",
   "metadata": {},
   "source": [
    "Análogamente a la importación anterior, se puede usar un punto para acceder a un módulo, como se muestra a continuación:\n",
    "\n",
    "> **`import`** (nombre de la libreria)**.**(nombre de un módulo) **`as`** (nombre abreviado)\n",
    "\n",
    "Una vez importada una librería, podremos utilizar las funciones definidas en ella. Para poder hacer uso y ejecutar una función que se encuentra en una librería, necesitamos especificarlo usando un punto entre el nombre de la librería (o su nombre abreviado) y la función. La sintaxis es la siguiente:\n",
    "\n",
    "> (nombre de la libreria)**.**función*(argumentos)*\n",
    "\n",
    "En el caso de importar una librería que se encuentre dividida en módulos, debemos especificar el módulo correspondiente a la función nuevamente con un punto:\n",
    "\n",
    "> (nombre de la libreria)**.**(nombre del módulo)**.**función*(argumentos)*\n"
   ]
  },
  {
   "cell_type": "code",
   "execution_count": null,
   "metadata": {},
   "outputs": [],
   "source": [
    "# Podemos ver todo lo que tiene disponible la librería con la función dir\n",
    "dir(m)"
   ]
  },
  {
   "cell_type": "code",
   "execution_count": null,
   "metadata": {},
   "outputs": [],
   "source": [
    "# Podemos pedir las líneas de documentación de la función que deseemos\n",
    "help(m.sin)"
   ]
  },
  {
   "cell_type": "markdown",
   "metadata": {},
   "source": [
    "### **Aclaraciones:**\n",
    "- **No es obligatorio especificar un nombre abreviado con `as`**, podemos utilizar una librería con su nombre original, omitiendo este comando. Sin embargo, utilizar abreviaturas puede simplificar la legibilidad del código en algunos casos.\n",
    "- Así como pueden importarse módulos de una librería, **también pueden importarse funciones sueltas**, según lo que necesitemos. **¡Pero cuidado!** Los nombres de funciones deben ser únicos. Si importan una función directamente, entonces no podrán definir su propia función con el mismo nombre.\n",
    "- Es una **buena práctica** que todas las librerías se importen al principio del programa, o sea que las instrucciones de **`import`** se encuentren arriba de todo. Y es aún mejor práctica que los imports estén hechos en orden alfabético (aunque al principio sea mucho pedir)."
   ]
  },
  {
   "cell_type": "markdown",
   "metadata": {},
   "source": [
    "A continuación veremos diversos ejemplos de librerías para conocer el potencial de estas herramientas y podamos aprender a utilizar otras librerías nuevas en el futuro, que se adapten a nuestras necesidades y problemáticas particulares."
   ]
  },
  {
   "cell_type": "markdown",
   "metadata": {},
   "source": [
    "Algunas librerías muy conocidas y utilizadas, especialmente en ciencia de datos, son:\n",
    "\n",
    "*   [numpy](https://numpy.org/) (Cálculo matricial)\n",
    "*   [pandas](https://pandas.pydata.org/) (Lectura y manipulación de datos)\n",
    "*   [maplotlib](https://matplotlib.org/) (Gráficos)\n",
    "*   [seaborn](https://seaborn.pydata.org/) (Gráficos)\n",
    "*   [scipy](https://www.scipy.org/) (Ciencia de datos)\n",
    "*   [scikit-learn](https://scikit-learn.org) (Machine Learning)\n"
   ]
  },
  {
   "cell_type": "markdown",
   "metadata": {},
   "source": [
    "## Ejemplos de Librerías\n",
    "\n",
    "A continuación se presentan un conjunto de ejemplos con diversas librerías. Cada una de ellas ofrece muchas más opciones y capacidades, pero la idea es que les ayude a tener un panorama del tipo de herramientas que existen, y que se animen a buscar nuevas librerías que solucionen sus problemas específicos.\n",
    "\n",
    "Cabe destacar que algunas de estas librerías ya vienen incluídas con la instalación de Python, mientras que otras deben ser instaladas de forma independiente. En [este link](https://docs.python.org/3/library/) pueden investigar acerca de todas las librerías estándar que trae Python. Si cierta librería no se encuentra instalada en el sistema entonces el comando **`import`** para esa librería no funcionará con su instalación base de Python. \n",
    "\n",
    "**Notas:**\n",
    "\n",
    "- Todas las librerías o paquetes cuentan con su **documentación**, la cual nos permite explorar los módulos que contiene y las funciones disponibles dentro de cada uno de ellos.\n",
    "- **Recurrir a la documentación** es muy útil e importante a la hora de entender cómo usar las herramientas disponibles en una librería."
   ]
  },
  {
   "cell_type": "markdown",
   "metadata": {},
   "source": [
    "### 📌 [math](https://docs.python.org/3/library/math.html#module-math)\n",
    "\n",
    "- *Compilado de funciones matemáticas básicas*"
   ]
  },
  {
   "cell_type": "code",
   "execution_count": null,
   "metadata": {},
   "outputs": [],
   "source": [
    "import math\n",
    "\n",
    "x = 10.14\n",
    "\n",
    "print('Ceil de x', math.ceil(x))\n",
    "print('Floor de x', math.floor(x))\n",
    "print('Trunc de x', math.trunc(x))"
   ]
  },
  {
   "cell_type": "code",
   "execution_count": null,
   "metadata": {},
   "outputs": [],
   "source": [
    "x = -10.14\n",
    "\n",
    "print('Ceil de x', math.ceil(x))\n",
    "print('Floor de x', math.floor(x))\n",
    "print('Trunc de x', math.trunc(x))"
   ]
  },
  {
   "cell_type": "code",
   "execution_count": null,
   "metadata": {},
   "outputs": [],
   "source": [
    "print(math.factorial(4))"
   ]
  },
  {
   "cell_type": "markdown",
   "metadata": {},
   "source": [
    "### 📌 [copy](https://docs.python.org/3/library/copy.html)\n",
    "\n",
    "* *Copiado de estructuras de datos*"
   ]
  },
  {
   "cell_type": "code",
   "execution_count": null,
   "metadata": {},
   "outputs": [],
   "source": [
    "# Por defecto Python NO copia estructuras de datos para ahorrar memoria:\n",
    "A = [1, 2, 3]\n",
    "B = A\n",
    "B += [4, 5, 6]\n",
    "\n",
    "# No modificamos directamente A, sin embargo su valor cambió\n",
    "# En este caso, 'B' es un nombre alternativo de 'A', no es una copia\n",
    "print(A)\n",
    "print(B)"
   ]
  },
  {
   "cell_type": "code",
   "execution_count": null,
   "metadata": {},
   "outputs": [],
   "source": [
    "# Con .copy() realizamos una copia real\n",
    "\n",
    "A = [1, 2, 3]\n",
    "B = A.copy()\n",
    "B += [4, 5, 6]\n",
    "\n",
    "print(A)\n",
    "print(B)"
   ]
  },
  {
   "cell_type": "code",
   "execution_count": null,
   "metadata": {},
   "outputs": [],
   "source": [
    "# Usando sólo .copy() no alcanza para que se copien las estructuras internas\n",
    "# Esto se llama una copia 'superficial'\n",
    "# solamente la capa 'externa' es la que se copia\n",
    "\n",
    "A = [[1,2,3], [4,5,6], [7,8,9]]\n",
    "B = A.copy()\n",
    "B[0][0] = 999\n",
    "B += [10, 11, 12]\n",
    "\n",
    "print(A)\n",
    "print(B)"
   ]
  },
  {
   "cell_type": "code",
   "execution_count": null,
   "metadata": {},
   "outputs": [],
   "source": [
    "# Con la librería copy y su función deepcopy() realizamos una copia real\n",
    "# 'profunda' tal como queremos\n",
    "\n",
    "import copy\n",
    "\n",
    "A = [[1,2,3], [4,5,6], [7,8,9]]\n",
    "B = copy.deepcopy(A)\n",
    "B[0][0] = 999\n",
    "B += [10, 11, 12]\n",
    "\n",
    "# La lista A se mantiene intacta\n",
    "print(A)\n",
    "print(B)"
   ]
  },
  {
   "cell_type": "markdown",
   "metadata": {},
   "source": [
    "### 📌 [random](https://docs.python.org/3/library/random.html)\n",
    "\n",
    "* *Generación aleatoria de números*"
   ]
  },
  {
   "cell_type": "code",
   "execution_count": null,
   "metadata": {},
   "outputs": [],
   "source": [
    "import random\n",
    "\n",
    "opciones = ['Manzanas', 'Bananas', 'Naranjas', 'Uvas', 'Peras']\n",
    "print(random.choice(opciones))"
   ]
  },
  {
   "cell_type": "code",
   "execution_count": null,
   "metadata": {},
   "outputs": [],
   "source": [
    "# La función shuffle reordena una lista y modifica el elemento que recibe como argumento!\n",
    "random.shuffle(opciones)\n",
    "print(opciones)"
   ]
  },
  {
   "cell_type": "code",
   "execution_count": null,
   "metadata": {},
   "outputs": [],
   "source": [
    "# Con sample podemos tomar muestras aleatorias de objetos de nuestra lista\n",
    "print(random.sample(opciones, k=2))"
   ]
  },
  {
   "cell_type": "code",
   "execution_count": null,
   "metadata": {},
   "outputs": [],
   "source": [
    "# Entero aleatorio entre dos números (inclusive ambos)\n",
    "print(random.randint( 10, 20 ))\n",
    "\n",
    "# Decimal aleatorio entre [0.0, 1.0)\n",
    "print(random.random())"
   ]
  },
  {
   "cell_type": "markdown",
   "metadata": {},
   "source": [
    "### 📌 [time](https://docs.python.org/3/library/time.html)\n",
    "\n",
    "* *Funciones relacionadas al manejo del tiempo*"
   ]
  },
  {
   "cell_type": "code",
   "execution_count": null,
   "metadata": {},
   "outputs": [],
   "source": [
    "import time\n",
    "# sleep le ordena a la computadora \"dormir\" por la cantidad de segundos que coloquemos como input.\n",
    "print(1)\n",
    "time.sleep(1)\n",
    "print(2)\n",
    "time.sleep(1)\n",
    "print(3)\n",
    "time.sleep(1)\n",
    "print(4)\n",
    "time.sleep(1)\n",
    "print(5)\n",
    "time.sleep(1)\n",
    "print('Adiós!')"
   ]
  },
  {
   "cell_type": "code",
   "execution_count": null,
   "metadata": {},
   "outputs": [],
   "source": [
    "# time.time() pregunta la hora y podemos utilizarla\n",
    "# para saber cuánto tardamos en ejecutar una función o bloque de código\n",
    "# ¿Cómo muestra una fecha?\n",
    "\n",
    "start = time.time()\n",
    "print(\"Hola\")\n",
    "end = time.time()\n",
    "\n",
    "print(\"Imprimir esto nos tomó\", end - start, \"segundos\")"
   ]
  },
  {
   "cell_type": "markdown",
   "metadata": {},
   "source": [
    "### 📌 [NumPy](https://numpy.org/)\n",
    "* *Álgebra Lineal y Cálculo*\n",
    "\n",
    "NumPy permite crear vectores y matrices multidimensionales, junto con una gran colección de funciones matemáticas de alto nivel para operar con ellos de forma muy eficiente.\n",
    "\n",
    "El elemento básico sobre el que se opera en Numpy se lo denomina *array*. Un ***array*** en Numpy es lo que conocemos como vector o matriz y sus valores son listas con una restricción especial: que sus valores sean todos del mismo tipo.\n",
    "\n",
    "Podemos resolver algunos ejercicios de álgebra lineal con esta librería."
   ]
  },
  {
   "cell_type": "code",
   "execution_count": 3,
   "metadata": {},
   "outputs": [],
   "source": [
    "# !pip install numpy"
   ]
  },
  {
   "cell_type": "code",
   "execution_count": null,
   "metadata": {},
   "outputs": [],
   "source": [
    "import numpy as np\n",
    "# La estructura básica de Numpy (matriz, vector o tensor) es el array.\n",
    "A = np.array([\n",
    "                [1,2,3],\n",
    "                [4,5,6],\n",
    "            ])\n",
    "\n",
    "B = np.array([[1,2], [4,5], [7,8]])\n",
    "C = np.dot(A, B)\n",
    "\n",
    "print('A =')\n",
    "print(A)\n",
    "print()\n",
    "print('B =')\n",
    "print(B)\n",
    "print()\n",
    "print('A*B =')\n",
    "print(C)"
   ]
  },
  {
   "cell_type": "code",
   "execution_count": null,
   "metadata": {},
   "outputs": [],
   "source": [
    "# Veamos la diferencia entre listas o arrays\n",
    "# Suma o producto de listas concatena\n",
    "a = [2, 4]\n",
    "print(\"Para la lista a = [2, 4] \")\n",
    "print(\"a + a:  \", a + a)\n",
    "print(\"a * 3:  \", a * 3)\n",
    " \n",
    "# Suma o producto de numpy arrays aplica la operación elemento a elemento\n",
    "a = np.array(a)\n",
    "print(\"\\nPara el array a = [2, 4] \")\n",
    "print(\"a + a:  \", a + a)\n",
    "print(\"a * 3:  \", a * 3)\n"
   ]
  },
  {
   "cell_type": "code",
   "execution_count": null,
   "metadata": {},
   "outputs": [],
   "source": [
    "a = np.array([1,2,3])\n",
    "b = np.array([1,2])\n",
    "\n",
    "#Qué sucede si queremos sumar dos arrays de diferente tamaño?\n",
    "print(\"a + b:  \", a + b)"
   ]
  },
  {
   "cell_type": "code",
   "execution_count": null,
   "metadata": {},
   "outputs": [],
   "source": [
    "# Tenemos 3 matrices y varias operaciones para realizar entre ellas.\n",
    "\n",
    "A = np.array([\n",
    "                [3, 0.],\n",
    "                [-1, 2],\n",
    "                [1, 1],\n",
    "            ])\n",
    "\n",
    "B = np.array([\n",
    "                [4, -1.],\n",
    "                [0, 2],\n",
    "            ])\n",
    "\n",
    "C = np.array([\n",
    "                [1., 1, -1],\n",
    "                [2, -1, 1],\n",
    "            ])\n",
    "\n",
    "# La multiplicación matricial requiere que usemos @ en vez de *\n",
    "\n",
    "print(f\"A * B =\\n {A @ B}\\n\")\n",
    "print(f\"A * A^T =\\n {A @ A.T}\\n\")\n",
    "print(f\"A^T * A =\\n {A.T @ A}\\n\")\n",
    "print(f\"A + C^T =\\n {A + C.T}\\n\")\n",
    "print(f\"2A =\\n {2 * A}\")"
   ]
  },
  {
   "cell_type": "markdown",
   "metadata": {},
   "source": [
    "### 📌 [pandas](https://pandas.pydata.org/)\n",
    "* *Análisis y manipulación de datos*"
   ]
  },
  {
   "cell_type": "code",
   "execution_count": null,
   "metadata": {},
   "outputs": [],
   "source": [
    "# !pip install pandas"
   ]
  },
  {
   "cell_type": "code",
   "execution_count": null,
   "metadata": {},
   "outputs": [],
   "source": [
    "# Importaciones pertinentes \n",
    "import pandas as pd"
   ]
  },
  {
   "cell_type": "markdown",
   "metadata": {},
   "source": [
    "El conjunto de datos utilizado contiene información de referencia y de rendimiento de préstamos para 5,960 préstamos. El objetivo (BAD) es una variable binaria que indica si un solicitante finalmente incurrió en incumplimiento o en grave mora en alguna entidad bancaria. Y por muestreo rápido. \n",
    "\n",
    "Los datos son los siguientes:\n",
    "\n",
    "- BAD: 1 = candidato con préstamo incumplido o con mora; 0 = candidato que paga su deuda y no tiene registro negativo\n",
    "\n",
    "- LOAN: Monto de solicitud de préstamo\n",
    "\n",
    "- MORTDUE: Monto adeudado de la hipoteca existente\n",
    "\n",
    "- VALUE: Valor actual del bien o propiedad\n",
    "\n",
    "- REASON: DebtCon = consolidación de la deuda; HomeImp = mejoras para el hogar\n",
    "\n",
    "- JOB: Categorias ocupacionales o profesionales\n",
    "\n",
    "- YOJ: Años en su trabajo actual\n",
    "\n",
    "- DEROG: Número de informes derogados o cancelados importantes\n",
    "\n",
    "- DELINQ: Número de lineas de crédito morosas\n",
    "\n",
    "- CLAGE: Antiguedad de la linea de crédito más antigua en meses\n",
    "\n",
    "- NINQ: Número de consultas crediticas recientes\n",
    "\n",
    "- CLNO: Número de líneas de crédito\n",
    "\n",
    "- DEBTINC: -"
   ]
  },
  {
   "cell_type": "code",
   "execution_count": null,
   "metadata": {},
   "outputs": [],
   "source": [
    "#Vamos a traer los datos que necesitamos para trabajar, mediante la lectura del archivo CSV (hmeq)\n",
    "#Para ello podemos utilizar la función read_csv()\n",
    "\n",
    "url = \"https://raw.githubusercontent.com/martinezarraigadamaria/IntroProgramacionPythonFCE2023/main/datos/hmeq.csv\"\n",
    "df = pd.read_csv(url)"
   ]
  },
  {
   "cell_type": "code",
   "execution_count": null,
   "metadata": {
    "scrolled": true
   },
   "outputs": [],
   "source": [
    "df.head()"
   ]
  },
  {
   "cell_type": "code",
   "execution_count": null,
   "metadata": {},
   "outputs": [],
   "source": [
    "# Cuántas filas y columnas tienen?\n",
    "print(df.shape) "
   ]
  },
  {
   "cell_type": "code",
   "execution_count": null,
   "metadata": {},
   "outputs": [],
   "source": [
    "# Ver primeras filas (por defecto mostrará las primeras 5 filas, usando .head(n) veremos las primeras n filas)\n",
    "df.head()"
   ]
  },
  {
   "cell_type": "code",
   "execution_count": null,
   "metadata": {},
   "outputs": [],
   "source": [
    "# Ver últimas filas\n",
    "df.tail()"
   ]
  },
  {
   "cell_type": "code",
   "execution_count": null,
   "metadata": {},
   "outputs": [],
   "source": [
    "# ¿Qué tipo de objeto es?\n",
    "print('Mis datos:',type(df))"
   ]
  },
  {
   "cell_type": "code",
   "execution_count": null,
   "metadata": {},
   "outputs": [],
   "source": [
    "# Seleccionar las columnas\n",
    "print(df.columns)"
   ]
  },
  {
   "cell_type": "code",
   "execution_count": null,
   "metadata": {},
   "outputs": [],
   "source": [
    "# Seleccionar columnas por nombre\n",
    "df['JOB']"
   ]
  },
  {
   "cell_type": "code",
   "execution_count": null,
   "metadata": {},
   "outputs": [],
   "source": [
    "# Seleccionar columnas por indice\n",
    "df[df.columns[1]]"
   ]
  },
  {
   "cell_type": "code",
   "execution_count": null,
   "metadata": {},
   "outputs": [],
   "source": [
    "# Seleccionar filas por condición\n",
    "\n",
    "nombre_columna = \"BAD\"\n",
    "condicion = 0\n",
    "df[nombre_columna]==condicion"
   ]
  },
  {
   "cell_type": "markdown",
   "metadata": {},
   "source": [
    "### 📌 [Matplotlib](https://matplotlib.org)\n",
    "* *Visualización de datos*"
   ]
  },
  {
   "cell_type": "code",
   "execution_count": 4,
   "metadata": {},
   "outputs": [],
   "source": [
    "# !pip install matplotlib"
   ]
  },
  {
   "cell_type": "code",
   "execution_count": null,
   "metadata": {},
   "outputs": [],
   "source": [
    "# Ejemplo obtenido de la documentación de matplotlib para darse una idea del\n",
    "# uso de esta herramienta\n",
    "\n",
    "import matplotlib.pyplot as plt"
   ]
  },
  {
   "cell_type": "code",
   "execution_count": null,
   "metadata": {},
   "outputs": [],
   "source": [
    "#Gráficos simples\n",
    "plt.plot(df['LOAN'])"
   ]
  },
  {
   "cell_type": "code",
   "execution_count": null,
   "metadata": {},
   "outputs": [],
   "source": [
    "# Utilizando el módulo matplotlib.pyplot\n",
    "df.plot.scatter(\"YOJ\", \"LOAN\")"
   ]
  },
  {
   "cell_type": "markdown",
   "metadata": {},
   "source": [
    "# Paréntesis: *f-strings*\n",
    "\n",
    "Como habrán notado, existen formas de \"*incrustar*\" variables en texto de una manera muy amigable gracias a las *formatted strings literals* (más conocidas por su nombre artístico *f-strings*).\n",
    "\n",
    "Esto nos salva de concatenar strings y hace mucho más legible el texto que querramos crear. Por ejemplo, nos hacen muy sencillo presentar un número como un porcentaje.\n",
    "\n"
   ]
  },
  {
   "cell_type": "code",
   "execution_count": null,
   "metadata": {},
   "outputs": [],
   "source": [
    "x = 0.253246\n",
    "\n",
    "print(f\"El porcentaje a dos decimales es {x:.2%}\")\n",
    "print(f\"En porcentaje a tres decimales es {x:.3%}\")"
   ]
  },
  {
   "cell_type": "code",
   "execution_count": null,
   "metadata": {},
   "outputs": [],
   "source": [
    "cantante = \"La Mona Jimenez\"\n",
    "numero = 1000000\n",
    "\n",
    "print(f\"{cantante} sorteó ${numero} en su último recital.\")\n",
    "\n",
    "diccionario = {\n",
    "    \"cantante\": \"La Mona Jimenez\",\n",
    "    \"numero\": 3000000,\n",
    "}\n",
    "\n",
    "print(f\"{diccionario['cantante']} sorteó ${diccionario['numero']} en su último recital.\")"
   ]
  },
  {
   "cell_type": "markdown",
   "metadata": {},
   "source": [
    "En [esta documentación](https://docs.python.org/3/library/string.html#formatstrings) encontrarán más información al respecto. Además, dentro del tutorial de Python, pueden revisar [esta sección](https://docs.python.org/3/tutorial/inputoutput.html)."
   ]
  }
 ],
 "metadata": {
  "kernelspec": {
   "display_name": "Python 3 (ipykernel)",
   "language": "python",
   "name": "python3"
  },
  "language_info": {
   "codemirror_mode": {
    "name": "ipython",
    "version": 3
   },
   "file_extension": ".py",
   "mimetype": "text/x-python",
   "name": "python",
   "nbconvert_exporter": "python",
   "pygments_lexer": "ipython3",
   "version": "3.7.6"
  }
 },
 "nbformat": 4,
 "nbformat_minor": 4
}
