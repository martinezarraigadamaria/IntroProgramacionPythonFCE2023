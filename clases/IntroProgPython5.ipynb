{
 "cells": [
  {
   "cell_type": "markdown",
   "metadata": {},
   "source": [
    "<h1 align=\"center\">¡Abrir el notebook desde Colab!</h1>\n",
    "<br>\n",
    "\n",
    "<p align=\"center\">\n",
    "<a href=\"https://colab.research.google.com/github/martinezarraigadamaria/IntroProgramacionPythonFCE2023/blob/master/clases/IntroProgPython5.ipynb\" target=\"_parent\"><img src=\"https://colab.research.google.com/assets/colab-badge.svg\" alt=\"Open In Colab\"/></a>\n",
    "</p>"
   ]
  },
  {
   "cell_type": "markdown",
   "metadata": {},
   "source": [
    "# Temario\n",
    "\n",
    "---\n",
    "\n",
    "> Librerías: Qué son y cómo se usan. Ejemplos.\n",
    "\n",
    "> Cálculos matriciales y entre arrays con Numpy."
   ]
  },
  {
   "cell_type": "markdown",
   "metadata": {},
   "source": [
    "# Librerías"
   ]
  },
  {
   "cell_type": "markdown",
   "metadata": {},
   "source": [
    "Hasta ahora, hemos usado solamente funciones y estructuras disponibles en la instalación base de Python, pero una de las fortalezas del lenguaje es su comunidad y todo lo que ha creado para facilitar un montón de trabajo a lo largo del tiempo, gracias a las librerías creadas (y en proceso de creación).\n",
    "\n",
    "Una ***librería*** o ***paquete*** es código organizado en un conjunto de funciones implementadas por otras personas que nos facilitan realizar tareas, principalmente porque no debemos volver a programar este código. \n",
    "\n",
    "\n",
    "## ¿Cómo Usamos una Librería?\n",
    "\n",
    "Para utilizar cualquier librería primero debemos ***importarla***. Para ello, se usa la ***palabra clave*** **`import`**, pero hay muchas formas de emplearla. Sabiendo esto, una posibilidad es utilizar la siguiente sintaxis:\n",
    "\n",
    "> **`import`** (nombre de la libreria) **`as`** (nombre abreviado)\n",
    "\n",
    "De esta forma, estamos habilitando el uso de todo lo que contiene el paquete importado. El comando **`as`** nos permite indicar el nombre que le damos a la librería dentro de nuestro código.\n"
   ]
  },
  {
   "cell_type": "code",
   "execution_count": null,
   "metadata": {},
   "outputs": [],
   "source": [
    "# Importamos la librería math y usamos el alias m\n",
    "\n",
    "import math\n",
    "import math as m\n",
    "\n",
    "print('El seno de 0 es ', math.sin(0), 'y el coseno', math.cos(0))\n",
    "print('El seno de 0 es ', m.sin(0), 'y el coseno', m.cos(0))"
   ]
  },
  {
   "cell_type": "code",
   "execution_count": null,
   "metadata": {},
   "outputs": [],
   "source": [
    "# Podemos ver todo lo que tiene disponible la librería con la función dir\n",
    "dir(m)"
   ]
  },
  {
   "cell_type": "code",
   "execution_count": null,
   "metadata": {},
   "outputs": [],
   "source": [
    "# Podemos pedir las líneas de documentación de la función que deseemos\n",
    "help(m.sin)"
   ]
  },
  {
   "cell_type": "markdown",
   "metadata": {},
   "source": [
    "Por otro lado, las librerías muchas veces están separadas en distintos **módulos**. Podemos pensar entonces que una librería es como un estante de libros, donde en cada libro se encuentran las funciones de un tema en común. Incluso un \"libro\" podría estar subdividido en \"capítulos\". Es decir, los distintos módulos de una librería podrían llegar a estar subdivididos en submódulos, y cada submódulo podría estar nuevamente subdividido, etc.\n",
    "\n",
    "En el caso de que no querramos importar la librería completa, podemos importar sólo un módulo, de esta forma:\n",
    "\n",
    "> **`from`** (nombre de la libreria) **`import`** (nombre de un módulo) **`as`** (nombre abreviado)\n",
    "\n",
    "Análogamente a la importación anterior, se puede usar un punto para acceder a un módulo, como se muestra a continuación:\n",
    "\n",
    "> **`import`** (nombre de la libreria)**.**(nombre de un módulo) **`as`** (nombre abreviado)\n",
    "\n",
    "Una vez importada una librería, podremos utilizar las funciones definidas en ella. Para poder hacer uso y ejecutar una función que se encuentra en una librería, necesitamos especificarlo usando un punto entre el nombre de la librería (o su nombre abreviado) y la función. La sintaxis es la siguiente:\n",
    "\n",
    "> (nombre de la libreria)**.**función*(argumentos)*\n",
    "\n",
    "En el caso de importar una librería que se encuentre dividida en módulos, debemos especificar el módulo correspondiente a la función nuevamente con un punto:\n",
    "\n",
    "> (nombre de la libreria)**.**(nombre del módulo)**.**función*(argumentos)*\n"
   ]
  },
  {
   "cell_type": "code",
   "execution_count": null,
   "metadata": {},
   "outputs": [],
   "source": [
    "from math import sin, cos #Importamos directamente las funciones que usaremos (separadas por comas)\n",
    "\n",
    "print('El seno de 0 es ', sin(0), 'y el coseno', cos(0))\n",
    "\n",
    "from math import *"
   ]
  },
  {
   "cell_type": "markdown",
   "metadata": {},
   "source": [
    "### **Aclaraciones:**\n",
    "- **No es obligatorio especificar un nombre abreviado con `as`**, podemos utilizar una librería con su nombre original, omitiendo este comando. Sin embargo, utilizar abreviaturas puede simplificar la legibilidad del código en algunos casos.\n",
    "- Así como pueden importarse módulos de una librería, **también pueden importarse funciones sueltas**, según lo que necesitemos. **¡Pero cuidado!** Los nombres de funciones deben ser únicos. Si importan una función directamente, entonces no podrán definir su propia función con el mismo nombre.\n",
    "- Es una **buena práctica** que todas las librerías se importen al principio del programa, o sea que las instrucciones de **`import`** se encuentren arriba de todo. Y es aún mejor práctica que los imports estén hechos en orden alfabético (aunque al principio sea mucho pedir)."
   ]
  },
  {
   "cell_type": "markdown",
   "metadata": {},
   "source": [
    "A continuación veremos diversos ejemplos de librerías para conocer el potencial de estas herramientas y podamos aprender a utilizar otras librerías nuevas en el futuro, que se adapten a nuestras necesidades y problemáticas particulares."
   ]
  },
  {
   "cell_type": "markdown",
   "metadata": {},
   "source": [
    "Algunas librerías muy conocidas y utilizadas, especialmente en ciencia de datos, son:\n",
    "\n",
    "*   [numpy](https://numpy.org/) (Cálculo matricial)\n",
    "*   [pandas](https://pandas.pydata.org/) (Lectura y manipulación de datos)\n",
    "*   [maplotlib](https://matplotlib.org/) (Gráficos)\n",
    "*   [seaborn](https://seaborn.pydata.org/) (Gráficos)\n",
    "*   [scipy](https://www.scipy.org/) (Ciencia de datos)\n",
    "*   [scikit-learn](https://scikit-learn.org) (Machine Learning)\n",
    "\n",
    "En clases siguientes indagaremos más acerca de estas librerías, utilizando **Pandas** para analizar archivos de información estructurada y **Matplotlib** o **Seaborn** para realizar gráficos y visualizaciones de esta información. Por el momento, vamos a inspeccionar otros paquetes \"menos complejos\", pero que también son de gran utilidad."
   ]
  },
  {
   "cell_type": "markdown",
   "metadata": {},
   "source": [
    "## Ejemplos de Librerías\n",
    "\n",
    "A continuación se presentan un conjunto de ejemplos con diversas librerías. Cada una de ellas ofrece muchas más opciones y capacidades, pero la idea es que les ayude a tener un panorama del tipo de herramientas que existen, y que se animen a buscar nuevas librerías que solucionen sus problemas específicos.\n",
    "\n",
    "Cabe destacar que algunas de estas librerías ya vienen incluídas con la instalación de Python, mientras que otras deben ser instaladas de forma independiente. En [este link](https://docs.python.org/3/library/) pueden investigar acerca de todas las librerías estándar que trae Python. Si cierta librería no se encuentra instalada en el sistema entonces el comando **`import`** para esa librería no funcionará con su instalación base de Python. \n",
    "\n",
    "**Notas:**\n",
    "\n",
    "- Todas las librerías o paquetes cuentan con su **documentación**, la cual nos permite explorar los módulos que contiene y las funciones disponibles dentro de cada uno de ellos.\n",
    "- **Recurrir a la documentación** es muy útil e importante a la hora de entender cómo usar las herramientas disponibles en una librería."
   ]
  },
  {
   "cell_type": "markdown",
   "metadata": {},
   "source": [
    "### [math](https://docs.python.org/3/library/math.html#module-math)\n",
    "\n",
    "- *Compilado de funciones matemáticas básicas*"
   ]
  },
  {
   "cell_type": "code",
   "execution_count": null,
   "metadata": {},
   "outputs": [],
   "source": [
    "import math\n",
    "\n",
    "x = 10.14\n",
    "print('Ceil de x', math.ceil(x))\n",
    "print('Floor de x', math.floor(x))\n",
    "print('Trunc de x', math.trunc(x))"
   ]
  },
  {
   "cell_type": "code",
   "execution_count": null,
   "metadata": {},
   "outputs": [],
   "source": [
    "x = -10.14\n",
    "print('Ceil de x', math.ceil(x))\n",
    "print('Floor de x', math.floor(x))\n",
    "print('Trunc de x', math.trunc(x))"
   ]
  },
  {
   "cell_type": "code",
   "execution_count": null,
   "metadata": {},
   "outputs": [],
   "source": [
    "print(math.factorial(4))"
   ]
  },
  {
   "cell_type": "markdown",
   "metadata": {},
   "source": [
    "### [copy](https://docs.python.org/3/library/copy.html)\n",
    "\n",
    "* *Copiado de estructuras de datos*"
   ]
  },
  {
   "cell_type": "code",
   "execution_count": null,
   "metadata": {},
   "outputs": [],
   "source": [
    "# Por defecto Python NO copia estructuras de datos para ahorrar memoria:\n",
    "\n",
    "A = [1, 2, 3]\n",
    "B = A\n",
    "B += [4, 5, 6]\n",
    "\n",
    "# No modificamos directamente A, sin embargo su valor cambió\n",
    "# En este caso, 'B' es un nombre alternativo de 'A', no es una copia\n",
    "print(A)\n",
    "print(B)"
   ]
  },
  {
   "cell_type": "code",
   "execution_count": null,
   "metadata": {},
   "outputs": [],
   "source": [
    "# Con .copy() realizamos una copia real\n",
    "\n",
    "A = [1, 2, 3]\n",
    "B = A.copy()\n",
    "B += [4, 5, 6]\n",
    "\n",
    "print(A)\n",
    "print(B)"
   ]
  },
  {
   "cell_type": "code",
   "execution_count": null,
   "metadata": {},
   "outputs": [],
   "source": [
    "# Usando sólo .copy() no alcanza para que se copien las estructuras internas\n",
    "# Esto se llama una copia 'superficial'\n",
    "# solamente la capa 'externa' es la que se copia\n",
    "\n",
    "A = [[1,2,3], [4,5,6], [7,8,9]]\n",
    "B = A.copy()\n",
    "B[0][0] = 999\n",
    "B += [10, 11, 12]\n",
    "\n",
    "print(A)\n",
    "print(B)"
   ]
  },
  {
   "cell_type": "code",
   "execution_count": null,
   "metadata": {},
   "outputs": [],
   "source": [
    "# Con la librería copy y su función deepcopy() realizamos una copia real\n",
    "# 'profunda' tal como queremos\n",
    "\n",
    "import copy\n",
    "\n",
    "A = [[1,2,3], [4,5,6], [7,8,9]]\n",
    "B = copy.deepcopy(A)\n",
    "B[0][0] = 999\n",
    "B += [10, 11, 12]\n",
    "\n",
    "# La lista A se mantiene intacta\n",
    "print(A)\n",
    "print(B)"
   ]
  },
  {
   "cell_type": "markdown",
   "metadata": {},
   "source": [
    "### [random](https://docs.python.org/3/library/random.html)\n",
    "\n",
    "* *Generación aleatoria de números*"
   ]
  },
  {
   "cell_type": "code",
   "execution_count": null,
   "metadata": {},
   "outputs": [],
   "source": [
    "import random\n",
    "\n",
    "opciones = ['Manzanas', 'Bananas', 'Naranjas', 'Uvas']\n",
    "print(random.choice(opciones))"
   ]
  },
  {
   "cell_type": "code",
   "execution_count": null,
   "metadata": {},
   "outputs": [],
   "source": [
    "# La función shuffle reordena una lista y modifica el elemento que recibe como argumento!\n",
    "random.shuffle(opciones)\n",
    "print(opciones)"
   ]
  },
  {
   "cell_type": "code",
   "execution_count": null,
   "metadata": {},
   "outputs": [],
   "source": [
    "# Con sample podemos tomar muestras aleatorias de objetos de nuestra lista\n",
    "print(random.sample(opciones, k=2))"
   ]
  },
  {
   "cell_type": "code",
   "execution_count": null,
   "metadata": {},
   "outputs": [],
   "source": [
    "# Entero aleatorio entre dos números (inclusive ambos)\n",
    "print(random.randint( 10, 20 ))\n",
    "\n",
    "# Decimal aleatorio entre [0.0, 1.0)\n",
    "print(random.random())\n",
    "\n",
    "# random.gauss(mu, sigma)\n",
    "print(random.gauss(0, 1))"
   ]
  },
  {
   "cell_type": "markdown",
   "metadata": {},
   "source": [
    "### [time](https://docs.python.org/3/library/time.html)\n",
    "\n",
    "* *Funciones relacionadas al manejo del tiempo*"
   ]
  },
  {
   "cell_type": "code",
   "execution_count": null,
   "metadata": {},
   "outputs": [],
   "source": [
    "import time\n",
    "# sleep le ordena a la computadora \"dormir\" por la cantidad de segundos que coloquemos como input.\n",
    "print(1)\n",
    "time.sleep(1)\n",
    "print(2)\n",
    "time.sleep(1)\n",
    "print(3)\n",
    "time.sleep(1)\n",
    "print(4)\n",
    "time.sleep(1)\n",
    "print(5)\n",
    "time.sleep(1)\n",
    "print('Adiós!')"
   ]
  },
  {
   "cell_type": "code",
   "execution_count": null,
   "metadata": {},
   "outputs": [],
   "source": [
    "# time.time() pregunta la hora y podemos utilizarla\n",
    "# para saber cuánto tardamos en ejecutar una función o bloque de código\n",
    "start = time.time()\n",
    "print(\"Hola\")\n",
    "end = time.time()\n",
    "\n",
    "print(\"Imprimir esto nos tomó\", end - start, \"segundos\")"
   ]
  },
  {
   "cell_type": "markdown",
   "metadata": {},
   "source": [
    "### [NumPy](https://numpy.org/)\n",
    "* *Álgebra Lineal y un poco de Cálculo*\n",
    "\n",
    "NumPy permite crear vectores y matrices multidimensionales, junto con una gran colección de funciones matemáticas de alto nivel para operar con ellos de forma muy eficiente.\n",
    "\n",
    "El elemento básico sobre el que se opera en Numpy se lo denomina *array*. Un ***array*** en Numpy es lo que conocemos como vector o matriz y sus valores son listas con una restricción especial: que sus valores sean todos del mismo tipo.\n",
    "\n",
    "Podemos resolver algunos ejercicios de álgebra lineal con esta librería."
   ]
  },
  {
   "cell_type": "code",
   "execution_count": null,
   "metadata": {},
   "outputs": [],
   "source": [
    "import numpy as np\n",
    "# La estructura básica de Numpy (matriz, vector o tensor) es el array.\n",
    "A = np.array([\n",
    "    [1,2,3],\n",
    "    [4,5,6],\n",
    "])\n",
    "B = np.array([[1,2], [4,5], [7,8]])\n",
    "C = np.dot(A, B)\n",
    "\n",
    "print('A =')\n",
    "print(A)\n",
    "print()\n",
    "print('B =')\n",
    "print(B)\n",
    "print()\n",
    "print('A*B =')\n",
    "print(C)"
   ]
  },
  {
   "cell_type": "code",
   "execution_count": null,
   "metadata": {},
   "outputs": [],
   "source": [
    "# Veamos la diferencia entre listas o arrays\n",
    "# Suma o producto de listas concatena\n",
    "a = [2, 4]\n",
    "print(\"Para la lista a = [2, 4] \")\n",
    "print(\"a + a:  \", a + a)\n",
    "print(\"a * 3:  \", a * 3)\n",
    " \n",
    "# Suma o producto de numpy arrays aplica la operación elemento a elemento\n",
    "a = np.array(a)\n",
    "print(\"\\nPara el array a = [2, 4] \")\n",
    "print(\"a + a:  \", a + a)\n",
    "print(\"a * 3:  \", a * 3)\n",
    "\n",
    "# Mostrar error de diferencias de dimensiones"
   ]
  },
  {
   "cell_type": "code",
   "execution_count": null,
   "metadata": {},
   "outputs": [],
   "source": [
    "# Tenemos 3 matrices y varias operaciones para realizar entre ellas.\n",
    "\n",
    "A = np.array([\n",
    "    [3, 0.],\n",
    "    [-1, 2],\n",
    "    [1, 1],\n",
    "])\n",
    "\n",
    "B = np.array([\n",
    "    [4, -1.],\n",
    "    [0, 2],\n",
    "])\n",
    "\n",
    "C = np.array([\n",
    "    [1., 1, -1],\n",
    "    [2, -1, 1],\n",
    "])\n",
    "\n",
    "# La multiplicación matricial requiere que usemos @ en vez de *\n",
    "print(f\"A * B = {A @ B}\")\n",
    "print(f\"B * C = {B @ C}\")\n",
    "print(f\"A * A^T = {A @ A.T}\")\n",
    "print(f\"A^T * A = {A.T @ A}\")\n",
    "print(f\"A + C^T = {A + C.T}\")\n",
    "print(f\"2A = {2 * A}\")"
   ]
  },
  {
   "cell_type": "code",
   "execution_count": null,
   "metadata": {},
   "outputs": [],
   "source": [
    "# Sistemas lineales\n",
    "# x + y = 2\n",
    "# 5x + 6y = 9\n",
    "\n",
    "sistema = np.array([\n",
    "    [1., 1],\n",
    "    [5, 6],\n",
    "])\n",
    "vector = np.array([2, 9])\n",
    "print(np.linalg.solve(sistema, vector))\n",
    "\n",
    "# x + 3y + z = 0\n",
    "# 2x + 2y + z = -1\n",
    "# 2x + 3y + z = 2\n",
    "\n",
    "sistema = np.array([\n",
    "    [1., 3, 1],\n",
    "    [2, 2, 1],\n",
    "    [2, 3, 1],\n",
    "])\n",
    "vector = np.array([0, -1, 2])\n",
    "print(np.linalg.solve(sistema, vector))\n"
   ]
  },
  {
   "cell_type": "code",
   "execution_count": null,
   "metadata": {},
   "outputs": [],
   "source": [
    "# Determinante\n",
    "A = np.eye(4)\n",
    "print(A)\n",
    "print(np.linalg.det(A))\n",
    "\n",
    "B = 4 * A\n",
    "print(np.linalg.det(B))"
   ]
  },
  {
   "cell_type": "markdown",
   "metadata": {},
   "source": [
    "### [Matplotlib](https://matplotlib.org)\n",
    "* *Visualización de datos*"
   ]
  },
  {
   "cell_type": "code",
   "execution_count": null,
   "metadata": {},
   "outputs": [],
   "source": [
    "# Ejemplo obtenido de la documentación de matplotlib para darse una idea del\n",
    "# uso de esta herramienta\n",
    "# No es necesario entender cómo funciona\n",
    "import numpy as np\n",
    "import matplotlib.pyplot as plt\n",
    "\n",
    "# example data\n",
    "mu = 100  # mean of distribution\n",
    "sigma = 15  # standard deviation of distribution\n",
    "x = mu + sigma * np.random.randn(437)\n",
    "\n",
    "num_bins = 50\n",
    "\n",
    "plt.plot(figsize=(14, 7))\n",
    "\n",
    "# the histogram of the data\n",
    "n, bins, patches = plt.hist(x, num_bins, density=True)\n",
    "\n",
    "# add a 'best fit' line\n",
    "y = ((1 / (np.sqrt(2 * np.pi) * sigma)) *\n",
    "     np.exp(-0.5 * (1 / sigma * (bins - mu))**2))\n",
    "plt.plot(bins, y, 'r--')\n",
    "plt.title(r'Histogram of IQ: $\\mu=100$, $\\sigma=15$')\n",
    "\n",
    "# Tweak spacing to prevent clipping of ylabel\n",
    "plt.show()"
   ]
  },
  {
   "cell_type": "markdown",
   "metadata": {},
   "source": [
    "# Paréntesis: *f-strings*\n",
    "\n",
    "Como habrán notado, existen formas de \"*incrustar*\" variables en texto de una manera muy amigable gracias a las *formatted strings literals* (más conocidas por su nombre artístico *f-strings*).\n",
    "\n",
    "Esto nos salva de concatenar strings y hace mucho más legible el texto que querramos crear. Por ejemplo, nos hacen muy sencillo presentar un número como un porcentaje.\n",
    "\n"
   ]
  },
  {
   "cell_type": "code",
   "execution_count": null,
   "metadata": {},
   "outputs": [],
   "source": [
    "x = 0.253246\n",
    "\n",
    "print(f\"El porcentaje a dos decimales es {x:.2%}\")\n",
    "print(f\"En porcentaje a tres decimales es {x:.3%}\")"
   ]
  },
  {
   "cell_type": "code",
   "execution_count": null,
   "metadata": {},
   "outputs": [],
   "source": [
    "cantante = \"La Mona Jimenez\"\n",
    "numero = 1000000\n",
    "fecha = datetime(2021, 4, 30)\n",
    "\n",
    "print(f\"{cantante} sorteó ${numero} en su último recital del día {fecha}.\")\n",
    "\n",
    "diccionario = {\n",
    "    \"cantante\": \"La Mona Jimenez\",\n",
    "    \"numero\": 100000,\n",
    "}\n",
    "\n",
    "print(f\"{diccionario['cantante']} sorteó ${diccionario['numero']} en su último recital.\")"
   ]
  },
  {
   "cell_type": "markdown",
   "metadata": {},
   "source": [
    "En [esta documentación](https://docs.python.org/3/library/string.html#formatstrings) encontrarán más información al respecto. Además, dentro del tutorial de Python, pueden revisar [esta sección](https://docs.python.org/3/tutorial/inputoutput.html)."
   ]
  }
 ],
 "metadata": {
  "kernelspec": {
   "display_name": "Python 3 (ipykernel)",
   "language": "python",
   "name": "python3"
  },
  "language_info": {
   "codemirror_mode": {
    "name": "ipython",
    "version": 3
   },
   "file_extension": ".py",
   "mimetype": "text/x-python",
   "name": "python",
   "nbconvert_exporter": "python",
   "pygments_lexer": "ipython3",
   "version": "3.7.6"
  }
 },
 "nbformat": 4,
 "nbformat_minor": 4
}
